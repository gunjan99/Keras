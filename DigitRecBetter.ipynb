{
 "cells": [
  {
   "cell_type": "code",
   "execution_count": 2,
   "metadata": {},
   "outputs": [
    {
     "name": "stderr",
     "output_type": "stream",
     "text": [
      "Using TensorFlow backend.\n"
     ]
    }
   ],
   "source": [
    "from keras import backend"
   ]
  },
  {
   "cell_type": "code",
   "execution_count": 3,
   "metadata": {},
   "outputs": [
    {
     "data": {
      "text/plain": [
       "['/job:localhost/replica:0/task:0/device:GPU:0']"
      ]
     },
     "execution_count": 3,
     "metadata": {},
     "output_type": "execute_result"
    }
   ],
   "source": [
    "backend.tensorflow_backend._get_available_gpus()"
   ]
  },
  {
   "cell_type": "code",
   "execution_count": 4,
   "metadata": {},
   "outputs": [],
   "source": [
    "import numpy as np\n",
    "import matplotlib.pyplot as plt\n",
    "from keras.layers import Activation, Dense, Conv2D, MaxPooling2D, Flatten, Dropout, BatchNormalization\n",
    "from keras import optimizers\n",
    "from keras.models import Sequential"
   ]
  },
  {
   "cell_type": "code",
   "execution_count": 5,
   "metadata": {},
   "outputs": [],
   "source": [
    "from keras.datasets import mnist\n",
    "from keras.utils.np_utils import to_categorical"
   ]
  },
  {
   "cell_type": "code",
   "execution_count": 6,
   "metadata": {},
   "outputs": [],
   "source": [
    "(x_train, y_train), (x_test, y_test) = mnist.load_data()"
   ]
  },
  {
   "cell_type": "code",
   "execution_count": 7,
   "metadata": {},
   "outputs": [
    {
     "name": "stdout",
     "output_type": "stream",
     "text": [
      "(60000, 28, 28)\n"
     ]
    }
   ],
   "source": [
    "print(x_train.shape)"
   ]
  },
  {
   "cell_type": "code",
   "execution_count": 8,
   "metadata": {},
   "outputs": [
    {
     "name": "stdout",
     "output_type": "stream",
     "text": [
      "(60000, 28, 28, 1)\n"
     ]
    }
   ],
   "source": [
    "x_train = x_train.reshape((x_train.shape[0], x_train.shape[1], x_train.shape[2], 1))\n",
    "x_test = x_test.reshape((x_test.shape[0], x_test.shape[1], x_test.shape[2], 1))\n",
    "print(x_train.shape)"
   ]
  },
  {
   "cell_type": "code",
   "execution_count": 9,
   "metadata": {},
   "outputs": [],
   "source": [
    "y_train = to_categorical(y_train, num_classes = 10, dtype = int)\n",
    "y_test = to_categorical(y_test, num_classes = 10, dtype = int)"
   ]
  },
  {
   "cell_type": "code",
   "execution_count": 15,
   "metadata": {},
   "outputs": [],
   "source": [
    "model = Sequential()\n",
    "model.add(Conv2D(input_shape = (x_train.shape[1], x_train.shape[2], x_train.shape[3]), filters = 50, kernel_size = (3, 3), padding = 'valid', strides = (1, 1), activation = 'relu'))\n",
    "model.add(MaxPooling2D(pool_size = (2, 2)))\n",
    "\n",
    "model.add(Flatten())\n",
    "model.add(Dense(50, activation = 'relu'))\n",
    "model.add(Dense(10, activation = 'softmax'))\n",
    "\n",
    "adam = optimizers.Adam(lr = 0.001)\n",
    "model.compile(loss = 'categorical_crossentropy', metrics = ['acc'], optimizer = adam)\n"
   ]
  },
  {
   "cell_type": "code",
   "execution_count": 16,
   "metadata": {},
   "outputs": [
    {
     "name": "stdout",
     "output_type": "stream",
     "text": [
      "_________________________________________________________________\n",
      "Layer (type)                 Output Shape              Param #   \n",
      "=================================================================\n",
      "conv2d_8 (Conv2D)            (None, 26, 26, 50)        500       \n",
      "_________________________________________________________________\n",
      "max_pooling2d_5 (MaxPooling2 (None, 13, 13, 50)        0         \n",
      "_________________________________________________________________\n",
      "flatten_3 (Flatten)          (None, 8450)              0         \n",
      "_________________________________________________________________\n",
      "dense_5 (Dense)              (None, 50)                422550    \n",
      "_________________________________________________________________\n",
      "dense_6 (Dense)              (None, 10)                510       \n",
      "=================================================================\n",
      "Total params: 423,560\n",
      "Trainable params: 423,560\n",
      "Non-trainable params: 0\n",
      "_________________________________________________________________\n"
     ]
    }
   ],
   "source": [
    "model.summary()"
   ]
  },
  {
   "cell_type": "code",
   "execution_count": 21,
   "metadata": {},
   "outputs": [
    {
     "name": "stdout",
     "output_type": "stream",
     "text": [
      "Train on 42000 samples, validate on 18000 samples\n",
      "Epoch 1/100\n",
      " - 18s - loss: 6.8881 - acc: 0.5655 - val_loss: 3.7782 - val_acc: 0.7570\n",
      "Epoch 2/100\n",
      " - 18s - loss: 2.5263 - acc: 0.8211 - val_loss: 0.1469 - val_acc: 0.9597\n",
      "Epoch 3/100\n",
      " - 18s - loss: 0.0892 - acc: 0.9750 - val_loss: 0.0998 - val_acc: 0.9723\n",
      "Epoch 4/100\n",
      " - 18s - loss: 0.0401 - acc: 0.9883 - val_loss: 0.0970 - val_acc: 0.9753\n",
      "Epoch 5/100\n",
      " - 18s - loss: 0.0246 - acc: 0.9934 - val_loss: 0.1042 - val_acc: 0.9759\n",
      "Epoch 6/100\n",
      " - 18s - loss: 0.0208 - acc: 0.9935 - val_loss: 0.1143 - val_acc: 0.9754\n",
      "Epoch 7/100\n",
      " - 19s - loss: 0.0200 - acc: 0.9937 - val_loss: 0.1449 - val_acc: 0.9717\n",
      "Epoch 8/100\n",
      " - 18s - loss: 0.0208 - acc: 0.9937 - val_loss: 0.1331 - val_acc: 0.9759\n",
      "Epoch 9/100\n",
      " - 18s - loss: 0.0162 - acc: 0.9951 - val_loss: 0.1403 - val_acc: 0.9755\n",
      "Epoch 10/100\n",
      " - 18s - loss: 0.0104 - acc: 0.9968 - val_loss: 0.1482 - val_acc: 0.9760\n",
      "Epoch 11/100\n",
      " - 18s - loss: 0.0155 - acc: 0.9956 - val_loss: 0.1548 - val_acc: 0.9751\n",
      "Epoch 12/100\n",
      " - 18s - loss: 0.0125 - acc: 0.9965 - val_loss: 0.1732 - val_acc: 0.9728\n",
      "Epoch 13/100\n",
      " - 18s - loss: 0.0141 - acc: 0.9960 - val_loss: 0.1603 - val_acc: 0.9768\n",
      "Epoch 14/100\n",
      " - 18s - loss: 0.0126 - acc: 0.9962 - val_loss: 0.2073 - val_acc: 0.9723\n",
      "Epoch 15/100\n",
      " - 18s - loss: 0.0128 - acc: 0.9967 - val_loss: 0.2086 - val_acc: 0.9704\n",
      "Epoch 16/100\n",
      " - 18s - loss: 0.0138 - acc: 0.9964 - val_loss: 0.1509 - val_acc: 0.9782\n",
      "Epoch 17/100\n",
      " - 18s - loss: 0.0064 - acc: 0.9982 - val_loss: 0.1512 - val_acc: 0.9786\n",
      "Epoch 18/100\n",
      " - 18s - loss: 0.0065 - acc: 0.9981 - val_loss: 0.1813 - val_acc: 0.9751\n",
      "Epoch 19/100\n",
      " - 18s - loss: 0.0108 - acc: 0.9970 - val_loss: 0.1735 - val_acc: 0.9782\n",
      "Epoch 20/100\n",
      " - 18s - loss: 0.0087 - acc: 0.9978 - val_loss: 0.1992 - val_acc: 0.9778\n",
      "Epoch 21/100\n",
      " - 19s - loss: 0.0101 - acc: 0.9975 - val_loss: 0.1974 - val_acc: 0.9762\n",
      "Epoch 22/100\n",
      " - 18s - loss: 0.0099 - acc: 0.9978 - val_loss: 0.1888 - val_acc: 0.9778\n",
      "Epoch 23/100\n",
      " - 18s - loss: 0.0099 - acc: 0.9978 - val_loss: 0.2152 - val_acc: 0.9756\n",
      "Epoch 24/100\n",
      " - 18s - loss: 0.0081 - acc: 0.9984 - val_loss: 0.2093 - val_acc: 0.9772\n",
      "Epoch 25/100\n",
      " - 18s - loss: 0.0110 - acc: 0.9979 - val_loss: 0.2158 - val_acc: 0.9752\n",
      "Epoch 26/100\n",
      " - 18s - loss: 0.0085 - acc: 0.9982 - val_loss: 0.1955 - val_acc: 0.9780\n",
      "Epoch 27/100\n",
      " - 18s - loss: 0.0073 - acc: 0.9980 - val_loss: 0.2212 - val_acc: 0.9766\n",
      "Epoch 28/100\n",
      " - 18s - loss: 0.0101 - acc: 0.9979 - val_loss: 0.2235 - val_acc: 0.9767\n",
      "Epoch 29/100\n",
      " - 18s - loss: 0.0119 - acc: 0.9975 - val_loss: 0.2308 - val_acc: 0.9760\n",
      "Epoch 30/100\n",
      " - 18s - loss: 0.0047 - acc: 0.9988 - val_loss: 0.2270 - val_acc: 0.9767\n",
      "Epoch 31/100\n",
      " - 19s - loss: 0.0097 - acc: 0.9982 - val_loss: 0.2254 - val_acc: 0.9771\n",
      "Epoch 32/100\n",
      " - 19s - loss: 0.0070 - acc: 0.9987 - val_loss: 0.2367 - val_acc: 0.9774\n",
      "Epoch 33/100\n",
      " - 18s - loss: 0.0081 - acc: 0.9985 - val_loss: 0.2129 - val_acc: 0.9771\n",
      "Epoch 34/100\n",
      " - 18s - loss: 0.0072 - acc: 0.9988 - val_loss: 0.2241 - val_acc: 0.9765\n",
      "Epoch 35/100\n",
      " - 18s - loss: 0.0083 - acc: 0.9986 - val_loss: 0.2638 - val_acc: 0.9737\n",
      "Epoch 36/100\n",
      " - 18s - loss: 0.0076 - acc: 0.9986 - val_loss: 0.2613 - val_acc: 0.9762\n",
      "Epoch 37/100\n",
      " - 18s - loss: 0.0073 - acc: 0.9986 - val_loss: 0.2410 - val_acc: 0.9780\n",
      "Epoch 38/100\n",
      " - 18s - loss: 0.0050 - acc: 0.9991 - val_loss: 0.2432 - val_acc: 0.9778\n",
      "Epoch 39/100\n",
      " - 18s - loss: 0.0169 - acc: 0.9975 - val_loss: 0.2628 - val_acc: 0.9760\n",
      "Epoch 40/100\n",
      " - 17s - loss: 0.0090 - acc: 0.9985 - val_loss: 0.2565 - val_acc: 0.9773\n",
      "Epoch 41/100\n",
      " - 18s - loss: 0.0079 - acc: 0.9987 - val_loss: 0.2315 - val_acc: 0.9783\n",
      "Epoch 42/100\n",
      " - 18s - loss: 0.0101 - acc: 0.9986 - val_loss: 0.2458 - val_acc: 0.9775\n",
      "Epoch 43/100\n",
      " - 18s - loss: 0.0078 - acc: 0.9986 - val_loss: 0.2548 - val_acc: 0.9772\n",
      "Epoch 44/100\n",
      " - 18s - loss: 0.0096 - acc: 0.9984 - val_loss: 0.2445 - val_acc: 0.9784\n",
      "Epoch 45/100\n",
      " - 18s - loss: 0.0071 - acc: 0.9989 - val_loss: 0.2428 - val_acc: 0.9789\n",
      "Epoch 46/100\n",
      " - 18s - loss: 0.0096 - acc: 0.9987 - val_loss: 0.2408 - val_acc: 0.9801\n",
      "Epoch 47/100\n",
      " - 18s - loss: 0.0119 - acc: 0.9984 - val_loss: 0.2612 - val_acc: 0.9774\n",
      "Epoch 48/100\n",
      " - 18s - loss: 0.0107 - acc: 0.9986 - val_loss: 0.2539 - val_acc: 0.9774\n",
      "Epoch 49/100\n",
      " - 18s - loss: 0.0104 - acc: 0.9986 - val_loss: 0.2601 - val_acc: 0.9792\n",
      "Epoch 50/100\n",
      " - 18s - loss: 0.0142 - acc: 0.9981 - val_loss: 0.2828 - val_acc: 0.9758\n",
      "Epoch 51/100\n",
      " - 18s - loss: 0.0082 - acc: 0.9988 - val_loss: 0.2455 - val_acc: 0.9799\n",
      "Epoch 52/100\n",
      " - 18s - loss: 0.0067 - acc: 0.9990 - val_loss: 0.2725 - val_acc: 0.9772\n",
      "Epoch 53/100\n",
      " - 18s - loss: 0.0091 - acc: 0.9985 - val_loss: 0.2606 - val_acc: 0.9783\n",
      "Epoch 54/100\n",
      " - 18s - loss: 0.0058 - acc: 0.9992 - val_loss: 0.2645 - val_acc: 0.9783\n",
      "Epoch 55/100\n",
      " - 18s - loss: 0.0085 - acc: 0.9988 - val_loss: 0.2624 - val_acc: 0.9782\n",
      "Epoch 56/100\n",
      " - 18s - loss: 0.0088 - acc: 0.9988 - val_loss: 0.2804 - val_acc: 0.9776\n",
      "Epoch 57/100\n",
      " - 18s - loss: 0.0082 - acc: 0.9988 - val_loss: 0.2678 - val_acc: 0.9784\n",
      "Epoch 58/100\n",
      " - 18s - loss: 0.0160 - acc: 0.9982 - val_loss: 0.2788 - val_acc: 0.9783\n",
      "Epoch 59/100\n",
      " - 18s - loss: 0.0134 - acc: 0.9985 - val_loss: 0.2694 - val_acc: 0.9779\n",
      "Epoch 60/100\n",
      " - 18s - loss: 0.0105 - acc: 0.9989 - val_loss: 0.3119 - val_acc: 0.9762\n",
      "Epoch 61/100\n",
      " - 18s - loss: 0.0120 - acc: 0.9987 - val_loss: 0.3020 - val_acc: 0.9771\n",
      "Epoch 62/100\n",
      " - 18s - loss: 0.0137 - acc: 0.9984 - val_loss: 0.2754 - val_acc: 0.9794\n",
      "Epoch 63/100\n",
      " - 18s - loss: 0.0049 - acc: 0.9993 - val_loss: 0.2600 - val_acc: 0.9799\n",
      "Epoch 64/100\n",
      " - 18s - loss: 0.0050 - acc: 0.9995 - val_loss: 0.2892 - val_acc: 0.9781\n",
      "Epoch 65/100\n",
      " - 18s - loss: 0.0045 - acc: 0.9994 - val_loss: 0.2997 - val_acc: 0.9776\n",
      "Epoch 66/100\n",
      " - 18s - loss: 0.0118 - acc: 0.9985 - val_loss: 0.3114 - val_acc: 0.9768\n",
      "Epoch 67/100\n",
      " - 18s - loss: 0.0153 - acc: 0.9985 - val_loss: 0.3081 - val_acc: 0.9772\n",
      "Epoch 68/100\n",
      " - 18s - loss: 0.0105 - acc: 0.9987 - val_loss: 0.2984 - val_acc: 0.9777\n",
      "Epoch 69/100\n",
      " - 18s - loss: 0.0104 - acc: 0.9987 - val_loss: 0.3103 - val_acc: 0.9763\n",
      "Epoch 70/100\n",
      " - 18s - loss: 0.0155 - acc: 0.9985 - val_loss: 0.2922 - val_acc: 0.9783\n",
      "Epoch 71/100\n",
      " - 18s - loss: 0.0122 - acc: 0.9987 - val_loss: 0.2894 - val_acc: 0.9786\n",
      "Epoch 72/100\n",
      " - 18s - loss: 0.0070 - acc: 0.9992 - val_loss: 0.2917 - val_acc: 0.9776\n",
      "Epoch 73/100\n",
      " - 18s - loss: 0.0108 - acc: 0.9989 - val_loss: 0.2816 - val_acc: 0.9798\n",
      "Epoch 74/100\n",
      " - 18s - loss: 0.0124 - acc: 0.9987 - val_loss: 0.2928 - val_acc: 0.9787\n",
      "Epoch 75/100\n",
      " - 18s - loss: 0.0186 - acc: 0.9981 - val_loss: 0.3166 - val_acc: 0.9768\n",
      "Epoch 76/100\n",
      " - 18s - loss: 0.0100 - acc: 0.9989 - val_loss: 0.2726 - val_acc: 0.9802\n",
      "Epoch 77/100\n",
      " - 18s - loss: 0.0113 - acc: 0.9989 - val_loss: 0.2686 - val_acc: 0.9801\n",
      "Epoch 78/100\n",
      " - 18s - loss: 0.0088 - acc: 0.9991 - val_loss: 0.2845 - val_acc: 0.9791\n",
      "Epoch 79/100\n",
      " - 18s - loss: 0.0074 - acc: 0.9993 - val_loss: 0.3077 - val_acc: 0.9775\n",
      "Epoch 80/100\n",
      " - 18s - loss: 0.0079 - acc: 0.9992 - val_loss: 0.2848 - val_acc: 0.9789\n",
      "Epoch 81/100\n",
      " - 18s - loss: 0.0101 - acc: 0.9990 - val_loss: 0.2921 - val_acc: 0.9792\n",
      "Epoch 82/100\n",
      " - 18s - loss: 0.0155 - acc: 0.9986 - val_loss: 0.2975 - val_acc: 0.9786\n",
      "Epoch 83/100\n",
      " - 18s - loss: 0.0081 - acc: 0.9992 - val_loss: 0.2960 - val_acc: 0.9789\n",
      "Epoch 84/100\n",
      " - 18s - loss: 0.0101 - acc: 0.9991 - val_loss: 0.3452 - val_acc: 0.9753\n",
      "Epoch 85/100\n",
      " - 18s - loss: 0.0089 - acc: 0.9992 - val_loss: 0.2953 - val_acc: 0.9789\n",
      "Epoch 86/100\n",
      " - 18s - loss: 0.0114 - acc: 0.9990 - val_loss: 0.2938 - val_acc: 0.9795\n",
      "Epoch 87/100\n",
      " - 18s - loss: 0.0182 - acc: 0.9983 - val_loss: 0.3045 - val_acc: 0.9787\n",
      "Epoch 88/100\n",
      " - 18s - loss: 0.0111 - acc: 0.9990 - val_loss: 0.2965 - val_acc: 0.9787\n",
      "Epoch 89/100\n",
      " - 18s - loss: 0.0159 - acc: 0.9985 - val_loss: 0.3012 - val_acc: 0.9786\n",
      "Epoch 90/100\n",
      " - 18s - loss: 0.0168 - acc: 0.9985 - val_loss: 0.3154 - val_acc: 0.9778\n",
      "Epoch 91/100\n",
      " - 18s - loss: 0.0187 - acc: 0.9984 - val_loss: 0.3113 - val_acc: 0.9785\n",
      "Epoch 92/100\n",
      " - 18s - loss: 0.0184 - acc: 0.9984 - val_loss: 0.2981 - val_acc: 0.9793\n",
      "Epoch 93/100\n",
      " - 18s - loss: 0.0128 - acc: 0.9990 - val_loss: 0.2809 - val_acc: 0.9802\n",
      "Epoch 94/100\n",
      " - 18s - loss: 0.0144 - acc: 0.9987 - val_loss: 0.3064 - val_acc: 0.9787\n",
      "Epoch 95/100\n",
      " - 19s - loss: 0.0159 - acc: 0.9987 - val_loss: 0.2877 - val_acc: 0.9801\n"
     ]
    },
    {
     "name": "stdout",
     "output_type": "stream",
     "text": [
      "Epoch 96/100\n",
      " - 18s - loss: 0.0182 - acc: 0.9986 - val_loss: 0.3064 - val_acc: 0.9786\n",
      "Epoch 97/100\n",
      " - 18s - loss: 0.0169 - acc: 0.9985 - val_loss: 0.2964 - val_acc: 0.9792\n",
      "Epoch 98/100\n",
      " - 18s - loss: 0.0143 - acc: 0.9988 - val_loss: 0.3165 - val_acc: 0.9778\n",
      "Epoch 99/100\n",
      " - 18s - loss: 0.0135 - acc: 0.9989 - val_loss: 0.3121 - val_acc: 0.9784\n",
      "Epoch 100/100\n",
      " - 18s - loss: 0.0137 - acc: 0.9988 - val_loss: 0.3033 - val_acc: 0.9791\n",
      "Wall time: 29min 38s\n"
     ]
    }
   ],
   "source": [
    "%%time\n",
    "history = model.fit(x_train, y_train, validation_split = 0.3, verbose = 2, epochs = 100, batch_size = 50)"
   ]
  },
  {
   "cell_type": "code",
   "execution_count": 22,
   "metadata": {},
   "outputs": [
    {
     "data": {
      "image/png": "[encoded data removed]",
      "text/plain": [
       "<Figure size 432x288 with 1 Axes>"
      ]
     },
     "metadata": {
      "needs_background": "light"
     },
     "output_type": "display_data"
    }
   ],
   "source": [
    "plt.plot(history.history['acc'])\n",
    "plt.plot(history.history['val_acc'])\n",
    "plt.legend(['training', 'validation'], loc = 'upper left')\n",
    "plt.show()"
   ]
  },
  {
   "cell_type": "code",
   "execution_count": 23,
   "metadata": {},
   "outputs": [
    {
     "name": "stdout",
     "output_type": "stream",
     "text": [
      "10000/10000 [==============================] - 2s 195us/step\n"
     ]
    }
   ],
   "source": [
    "result = model.evaluate(x_test, y_test)"
   ]
  },
  {
   "cell_type": "code",
   "execution_count": 24,
   "metadata": {},
   "outputs": [
    {
     "name": "stdout",
     "output_type": "stream",
     "text": [
      "0.9801\n"
     ]
    }
   ],
   "source": [
    "print(result[1])"
   ]
  },
  {
   "cell_type": "code",
   "execution_count": 11,
   "metadata": {},
   "outputs": [],
   "source": [
    "def deep_model():\n",
    "    model = Sequential()\n",
    "    model.add(Conv2D(input_shape = (x_train.shape[1], x_train.shape[2], x_train.shape[3]), kernel_size = (3, 3), filters = 50, strides = (1, 1), padding = 'same', kernel_initializer = 'he_normal'))\n",
    "    model.add(BatchNormalization())\n",
    "    model.add(Activation('relu'))\n",
    "    model.add(Conv2D(filters = 50, strides = (1, 1), padding = 'same', kernel_initializer = 'he_normal', kernel_size = (3, 3)))\n",
    "    model.add(BatchNormalization())\n",
    "    model.add(Activation('relu'))\n",
    "    model.add(MaxPooling2D(pool_size = (2, 2)))\n",
    "    model.add(Conv2D(filters = 50, strides = (1, 1), padding = 'same', kernel_initializer = 'he_normal', kernel_size = (3, 3)))\n",
    "    model.add(BatchNormalization())\n",
    "    model.add(Activation('relu'))\n",
    "    model.add(Conv2D(filters = 50, strides = (1, 1), padding = 'same', kernel_initializer = 'he_normal', kernel_size = (3, 3)))\n",
    "    model.add(BatchNormalization())\n",
    "    model.add(Activation('relu'))\n",
    "    model.add(MaxPooling2D(pool_size = (2, 2)))\n",
    "    model.add(Conv2D(filters = 50, strides = (1, 1), padding = 'same', kernel_initializer = 'he_normal', kernel_size = (3, 3)))\n",
    "    model.add(BatchNormalization())\n",
    "    model.add(Activation('relu'))\n",
    "    model.add(Conv2D(filters = 50, strides = (1, 1), padding = 'same', kernel_initializer = 'he_normal', kernel_size = (3, 3)))\n",
    "    model.add(BatchNormalization())\n",
    "    model.add(Activation('relu'))\n",
    "    model.add(MaxPooling2D(pool_size = (2, 2)))\n",
    "    model.add(Flatten())\n",
    "    model.add(Dense(50, kernel_initializer = 'he_normal'))\n",
    "    model.add(BatchNormalization())\n",
    "    model.add(Activation('relu'))\n",
    "    model.add(Dropout(0.5))\n",
    "    model.add(Dense(10, kernel_initializer = 'he_normal'))\n",
    "    model.add(BatchNormalization())\n",
    "    model.add(Activation('softmax'))\n",
    "    \n",
    "    adam = optimizers.Adam(lr = 0.001)\n",
    "    model.compile(optimizer = adam, metrics = ['acc'], loss = 'categorical_crossentropy')\n",
    "    return model"
   ]
  },
  {
   "cell_type": "code",
   "execution_count": 12,
   "metadata": {},
   "outputs": [
    {
     "name": "stdout",
     "output_type": "stream",
     "text": [
      "WARNING:tensorflow:From C:\\Users\\gunja\\Anaconda3\\lib\\site-packages\\keras\\backend\\tensorflow_backend.py:3447: calling dropout (from tensorflow.python.ops.nn_ops) with keep_prob is deprecated and will be removed in a future version.\n",
      "Instructions for updating:\n",
      "Please use `rate` instead of `keep_prob`. Rate should be set to `rate = 1 - keep_prob`.\n"
     ]
    }
   ],
   "source": [
    "model = deep_model()\n"
   ]
  },
  {
   "cell_type": "code",
   "execution_count": 39,
   "metadata": {},
   "outputs": [
    {
     "name": "stdout",
     "output_type": "stream",
     "text": [
      "Train on 42000 samples, validate on 18000 samples\n",
      "Epoch 1/20\n",
      " - 122s - loss: 0.0482 - acc: 0.9912 - val_loss: 0.0268 - val_acc: 0.9929\n",
      "Epoch 2/20\n",
      " - 121s - loss: 0.0462 - acc: 0.9912 - val_loss: 0.0284 - val_acc: 0.9923\n",
      "Epoch 3/20\n",
      " - 122s - loss: 0.0382 - acc: 0.9930 - val_loss: 0.0259 - val_acc: 0.9927\n",
      "Epoch 4/20\n",
      " - 121s - loss: 0.0351 - acc: 0.9933 - val_loss: 0.0262 - val_acc: 0.9924\n",
      "Epoch 5/20\n",
      " - 122s - loss: 0.0333 - acc: 0.9936 - val_loss: 0.0262 - val_acc: 0.9928\n",
      "Epoch 6/20\n",
      " - 121s - loss: 0.0307 - acc: 0.9939 - val_loss: 0.0251 - val_acc: 0.9935\n",
      "Epoch 7/20\n",
      " - 123s - loss: 0.0301 - acc: 0.9939 - val_loss: 0.0256 - val_acc: 0.9936\n",
      "Epoch 8/20\n",
      " - 125s - loss: 0.0278 - acc: 0.9942 - val_loss: 0.0265 - val_acc: 0.9934\n",
      "Epoch 9/20\n",
      " - 125s - loss: 0.0248 - acc: 0.9949 - val_loss: 0.0273 - val_acc: 0.9939\n",
      "Epoch 10/20\n",
      " - 127s - loss: 0.0254 - acc: 0.9945 - val_loss: 0.0310 - val_acc: 0.9921\n",
      "Epoch 11/20\n",
      " - 122s - loss: 0.0247 - acc: 0.9947 - val_loss: 0.0288 - val_acc: 0.9928\n",
      "Epoch 12/20\n",
      " - 122s - loss: 0.0216 - acc: 0.9951 - val_loss: 0.0258 - val_acc: 0.9942\n",
      "Epoch 13/20\n",
      " - 123s - loss: 0.0207 - acc: 0.9955 - val_loss: 0.0373 - val_acc: 0.9911\n",
      "Epoch 14/20\n",
      " - 122s - loss: 0.0200 - acc: 0.9956 - val_loss: 0.0326 - val_acc: 0.9923\n",
      "Epoch 15/20\n",
      " - 98s - loss: 0.0185 - acc: 0.9961 - val_loss: 0.0292 - val_acc: 0.9932\n",
      "Epoch 16/20\n",
      " - 73s - loss: 0.0200 - acc: 0.9954 - val_loss: 0.0263 - val_acc: 0.9941\n",
      "Epoch 17/20\n",
      " - 73s - loss: 0.0168 - acc: 0.9963 - val_loss: 0.0265 - val_acc: 0.9942\n",
      "Epoch 18/20\n",
      " - 73s - loss: 0.0143 - acc: 0.9965 - val_loss: 0.0263 - val_acc: 0.9938\n",
      "Epoch 19/20\n",
      " - 73s - loss: 0.0168 - acc: 0.9960 - val_loss: 0.0257 - val_acc: 0.9948\n",
      "Epoch 20/20\n",
      " - 73s - loss: 0.0153 - acc: 0.9967 - val_loss: 0.0293 - val_acc: 0.9932\n"
     ]
    }
   ],
   "source": [
    "history = model.fit(x_train, y_train, batch_size = 50, verbose = 2, epochs = 20, validation_split = 0.3)"
   ]
  },
  {
   "cell_type": "code",
   "execution_count": 40,
   "metadata": {},
   "outputs": [
    {
     "data": {
      "image/png": "[encoded data removed]",
      "text/plain": [
       "<Figure size 432x288 with 1 Axes>"
      ]
     },
     "metadata": {
      "needs_background": "light"
     },
     "output_type": "display_data"
    }
   ],
   "source": [
    "plt.plot(history.history['acc'])\n",
    "plt.plot(history.history['val_acc'])\n",
    "plt.legend(['training', 'validation'], loc = 'upper left')\n",
    "plt.show()"
   ]
  },
  {
   "cell_type": "code",
   "execution_count": 41,
   "metadata": {},
   "outputs": [
    {
     "name": "stdout",
     "output_type": "stream",
     "text": [
      "10000/10000 [==============================] - 6s 582us/step\n"
     ]
    }
   ],
   "source": [
    "result = model.evaluate(x_test, y_test)"
   ]
  },
  {
   "cell_type": "code",
   "execution_count": 42,
   "metadata": {},
   "outputs": [
    {
     "name": "stdout",
     "output_type": "stream",
     "text": [
      "0.9939\n"
     ]
    }
   ],
   "source": [
    "print(result[1])"
   ]
  },
  {
   "cell_type": "code",
   "execution_count": 43,
   "metadata": {},
   "outputs": [],
   "source": [
    "y_predict = model.predict(x_test)"
   ]
  },
  {
   "cell_type": "code",
   "execution_count": 46,
   "metadata": {},
   "outputs": [],
   "source": [
    "y_predict = np.argmax(y_predict, axis = 1)"
   ]
  },
  {
   "cell_type": "code",
   "execution_count": 47,
   "metadata": {},
   "outputs": [
    {
     "name": "stdout",
     "output_type": "stream",
     "text": [
      "[7 2 1 ... 4 5 6]\n"
     ]
    }
   ],
   "source": [
    "print(y_predict)"
   ]
  },
  {
   "cell_type": "code",
   "execution_count": 51,
   "metadata": {},
   "outputs": [
    {
     "name": "stdout",
     "output_type": "stream",
     "text": [
      "(28, 28, 1)\n"
     ]
    }
   ],
   "source": [
    "# plt.imshow(x_test[0])\n",
    "print(x_test[0].shape)"
   ]
  },
  {
   "cell_type": "code",
   "execution_count": 52,
   "metadata": {},
   "outputs": [],
   "source": [
    "x_plot = x_test.reshape((x_test.shape[0], x_test.shape[1], x_test.shape[2]))"
   ]
  },
  {
   "cell_type": "code",
   "execution_count": 53,
   "metadata": {},
   "outputs": [
    {
     "name": "stdout",
     "output_type": "stream",
     "text": [
      "(10000, 28, 28)\n"
     ]
    }
   ],
   "source": [
    "print(x_plot.shape)"
   ]
  },
  {
   "cell_type": "code",
   "execution_count": 63,
   "metadata": {},
   "outputs": [
    {
     "name": "stdout",
     "output_type": "stream",
     "text": [
      "9\n"
     ]
    },
    {
     "data": {
      "image/png": "[encoded data removed]",
      "text/plain": [
       "<Figure size 432x288 with 1 Axes>"
      ]
     },
     "metadata": {
      "needs_background": "light"
     },
     "output_type": "display_data"
    }
   ],
   "source": [
    "plt.imshow(x_plot[447])\n",
    "print(y_predict[447])"
   ]
  },
  {
   "cell_type": "code",
   "execution_count": 60,
   "metadata": {},
   "outputs": [
    {
     "name": "stdout",
     "output_type": "stream",
     "text": [
      "(10000, 10)\n",
      "115 9\n",
      "445 0\n",
      "447 9\n",
      "582 2\n",
      "938 5\n",
      "947 9\n",
      "1014 0\n",
      "1039 1\n",
      "1114 8\n",
      "1242 9\n",
      "1247 5\n",
      "1260 1\n",
      "1393 3\n",
      "1500 1\n",
      "1621 6\n",
      "1901 4\n",
      "2035 3\n",
      "2118 0\n",
      "2130 9\n",
      "2135 1\n",
      "2308 5\n",
      "2326 2\n",
      "2454 5\n",
      "2462 0\n",
      "2597 3\n",
      "2654 1\n",
      "2927 2\n",
      "2938 9\n",
      "3030 0\n",
      "3225 9\n",
      "3422 0\n",
      "3520 2\n",
      "3558 0\n",
      "3762 8\n",
      "3808 8\n",
      "4078 2\n",
      "4176 7\n",
      "4201 7\n",
      "4289 7\n",
      "4536 5\n",
      "4740 5\n",
      "4783 9\n",
      "4860 9\n",
      "5165 6\n",
      "5654 2\n",
      "5955 8\n",
      "5981 9\n",
      "5997 9\n",
      "6172 2\n",
      "6576 1\n",
      "6597 7\n",
      "6651 6\n",
      "8061 9\n",
      "8316 2\n",
      "8408 5\n",
      "8527 9\n",
      "9015 2\n",
      "9019 2\n",
      "9638 7\n",
      "9729 6\n",
      "9792 9\n"
     ]
    },
    {
     "data": {
      "image/png": "[encoded data removed]",
      "text/plain": [
       "<Figure size 432x288 with 1 Axes>"
      ]
     },
     "metadata": {
      "needs_background": "light"
     },
     "output_type": "display_data"
    }
   ],
   "source": [
    "print(y_test.shape)\n",
    "for i in range(x_test.shape[0]):\n",
    "    if(np.argmax(y_test[i]) != y_predict[i]):\n",
    "        print(i, y_predict[i])\n",
    "        plt.imshow(x_plot[i])\n",
    "        plt.plot()"
   ]
  },
  {
   "cell_type": "code",
   "execution_count": 69,
   "metadata": {},
   "outputs": [],
   "source": [
    "import pandas as pd"
   ]
  },
  {
   "cell_type": "code",
   "execution_count": 73,
   "metadata": {},
   "outputs": [],
   "source": [
    "d = []\n",
    "for i in range(y_predict.shape[0]):\n",
    "    d.append({'ImageId': i, 'Label' : y_predict[i]})\n",
    "df = pd.DataFrame(d)"
   ]
  },
  {
   "cell_type": "code",
   "execution_count": 74,
   "metadata": {},
   "outputs": [],
   "source": [
    "export_csv = df.to_csv(r'digitSub.csv', index = None, header = True)"
   ]
  },
  {
   "cell_type": "code",
   "execution_count": 13,
   "metadata": {},
   "outputs": [
    {
     "name": "stdout",
     "output_type": "stream",
     "text": [
      "_________________________________________________________________\n",
      "Layer (type)                 Output Shape              Param #   \n",
      "=================================================================\n",
      "conv2d_2 (Conv2D)            (None, 28, 28, 50)        500       \n",
      "_________________________________________________________________\n",
      "batch_normalization_1 (Batch (None, 28, 28, 50)        200       \n",
      "_________________________________________________________________\n",
      "activation_1 (Activation)    (None, 28, 28, 50)        0         \n",
      "_________________________________________________________________\n",
      "conv2d_3 (Conv2D)            (None, 28, 28, 50)        22550     \n",
      "_________________________________________________________________\n",
      "batch_normalization_2 (Batch (None, 28, 28, 50)        200       \n",
      "_________________________________________________________________\n",
      "activation_2 (Activation)    (None, 28, 28, 50)        0         \n",
      "_________________________________________________________________\n",
      "max_pooling2d_2 (MaxPooling2 (None, 14, 14, 50)        0         \n",
      "_________________________________________________________________\n",
      "conv2d_4 (Conv2D)            (None, 14, 14, 50)        22550     \n",
      "_________________________________________________________________\n",
      "batch_normalization_3 (Batch (None, 14, 14, 50)        200       \n",
      "_________________________________________________________________\n",
      "activation_3 (Activation)    (None, 14, 14, 50)        0         \n",
      "_________________________________________________________________\n",
      "conv2d_5 (Conv2D)            (None, 14, 14, 50)        22550     \n",
      "_________________________________________________________________\n",
      "batch_normalization_4 (Batch (None, 14, 14, 50)        200       \n",
      "_________________________________________________________________\n",
      "activation_4 (Activation)    (None, 14, 14, 50)        0         \n",
      "_________________________________________________________________\n",
      "max_pooling2d_3 (MaxPooling2 (None, 7, 7, 50)          0         \n",
      "_________________________________________________________________\n",
      "conv2d_6 (Conv2D)            (None, 7, 7, 50)          22550     \n",
      "_________________________________________________________________\n",
      "batch_normalization_5 (Batch (None, 7, 7, 50)          200       \n",
      "_________________________________________________________________\n",
      "activation_5 (Activation)    (None, 7, 7, 50)          0         \n",
      "_________________________________________________________________\n",
      "conv2d_7 (Conv2D)            (None, 7, 7, 50)          22550     \n",
      "_________________________________________________________________\n",
      "batch_normalization_6 (Batch (None, 7, 7, 50)          200       \n",
      "_________________________________________________________________\n",
      "activation_6 (Activation)    (None, 7, 7, 50)          0         \n",
      "_________________________________________________________________\n",
      "max_pooling2d_4 (MaxPooling2 (None, 3, 3, 50)          0         \n",
      "_________________________________________________________________\n",
      "flatten_2 (Flatten)          (None, 450)               0         \n",
      "_________________________________________________________________\n",
      "dense_3 (Dense)              (None, 50)                22550     \n",
      "_________________________________________________________________\n",
      "batch_normalization_7 (Batch (None, 50)                200       \n",
      "_________________________________________________________________\n",
      "activation_7 (Activation)    (None, 50)                0         \n",
      "_________________________________________________________________\n",
      "dropout_1 (Dropout)          (None, 50)                0         \n",
      "_________________________________________________________________\n",
      "dense_4 (Dense)              (None, 10)                510       \n",
      "_________________________________________________________________\n",
      "batch_normalization_8 (Batch (None, 10)                40        \n",
      "_________________________________________________________________\n",
      "activation_8 (Activation)    (None, 10)                0         \n",
      "=================================================================\n",
      "Total params: 137,750\n",
      "Trainable params: 137,030\n",
      "Non-trainable params: 720\n",
      "_________________________________________________________________\n"
     ]
    }
   ],
   "source": [
    "model.summary()"
   ]
  },
  {
   "cell_type": "code",
   "execution_count": null,
   "metadata": {},
   "outputs": [],
   "source": []
  }
 ],
 "metadata": {
  "kernelspec": {
   "display_name": "Python 3",
   "language": "python",
   "name": "python3"
  },
  "language_info": {
   "codemirror_mode": {
    "name": "ipython",
    "version": 3
   },
   "file_extension": ".py",
   "mimetype": "text/x-python",
   "name": "python",
   "nbconvert_exporter": "python",
   "pygments_lexer": "ipython3",
   "version": "3.6.7"
  }
 },
 "nbformat": 4,
 "nbformat_minor": 2
}
