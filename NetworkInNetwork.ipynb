{
 "cells": [
  {
   "cell_type": "code",
   "execution_count": 6,
   "metadata": {},
   "outputs": [],
   "source": [
    "import numpy as np\n",
    "import matplotlib.pyplot as plt\n",
    "\n",
    "from keras.utils.np_utils import to_categorical\n",
    "from keras.layers import Activation, Dense, BatchNormalization, Dropout, Conv2D, GlobalAveragePooling2D, MaxPooling2D\n",
    "from keras.models import Sequential\n",
    "from keras.datasets import mnist\n",
    "from keras import optimizers"
   ]
  },
  {
   "cell_type": "code",
   "execution_count": 7,
   "metadata": {},
   "outputs": [],
   "source": [
    "(x_train, y_train), (x_test, y_test) = mnist.load_data()"
   ]
  },
  {
   "cell_type": "code",
   "execution_count": 8,
   "metadata": {},
   "outputs": [
    {
     "name": "stdout",
     "output_type": "stream",
     "text": [
      "(60000, 28, 28)\n",
      "(60000,)\n"
     ]
    }
   ],
   "source": [
    "print(x_train.shape)\n",
    "print(y_train.shape)"
   ]
  },
  {
   "cell_type": "code",
   "execution_count": 10,
   "metadata": {},
   "outputs": [],
   "source": [
    "x_train = x_train.reshape((x_train.shape[0], x_train.shape[1], x_train.shape[2], 1))\n",
    "x_test = x_test.reshape((x_test.shape[0], x_test.shape[1], x_test.shape[2], 1))"
   ]
  },
  {
   "cell_type": "code",
   "execution_count": 11,
   "metadata": {},
   "outputs": [],
   "source": [
    "y_train = to_categorical(y_train, num_classes = 10)\n",
    "y_test = to_categorical(y_test, num_classes = 10)"
   ]
  },
  {
   "cell_type": "code",
   "execution_count": 12,
   "metadata": {},
   "outputs": [
    {
     "name": "stdout",
     "output_type": "stream",
     "text": [
      "(60000, 28, 28, 1)\n",
      "(10000, 28, 28, 1)\n",
      "(60000, 10)\n",
      "(10000, 10)\n"
     ]
    }
   ],
   "source": [
    "print(x_train.shape)\n",
    "print(x_test.shape)\n",
    "print(y_train.shape)\n",
    "print(y_test.shape)"
   ]
  },
  {
   "cell_type": "code",
   "execution_count": 15,
   "metadata": {},
   "outputs": [],
   "source": [
    "def nin_model():\n",
    "    model = Sequential()\n",
    "    \n",
    "    model.add(Conv2D(input_shape = (x_train.shape[1], x_train.shape[2], x_train.shape[3]), kernel_size = (3, 3), filters = 50, strides = (1, 1), kernel_initializer = 'he_normal'))\n",
    "    model.add(BatchNormalization())\n",
    "    model.add(Activation('relu'))\n",
    "    model.add(Conv2D(kernel_size = (1, 1), filters = 25, kernel_initializer = 'he_normal', strides = (1, 1)))\n",
    "    model.add(BatchNormalization())\n",
    "    model.add(Activation('relu'))\n",
    "    model.add(Conv2D(kernel_size = (3, 3), filters = 50, kernel_initializer = 'he_normal', strides = (1, 1)))\n",
    "    model.add(BatchNormalization())\n",
    "    model.add(Activation('relu'))\n",
    "    model.add(Conv2D(kernel_size = (1, 1), filters = 25, kernel_initializer = 'he_normal', strides = (1, 1)))\n",
    "    model.add(BatchNormalization())\n",
    "    model.add(Activation('relu'))\n",
    "    model.add(Conv2D(kernel_size = (3, 3), filters = 50, kernel_initializer = 'he_normal', strides = (1, 1)))\n",
    "    model.add(BatchNormalization())\n",
    "    model.add(Activation('relu'))\n",
    "    model.add(Conv2D(kernel_size = (1, 1), filters = 25, kernel_initializer = 'he_normal', strides = (1, 1)))\n",
    "    model.add(BatchNormalization())\n",
    "    model.add(Activation('relu'))\n",
    "    model.add(Conv2D(kernel_size = (3, 3), filters = 50, kernel_initializer = 'he_normal', strides = (1, 1)))\n",
    "    model.add(BatchNormalization())\n",
    "    model.add(Activation('relu'))\n",
    "    model.add(Conv2D(kernel_size = (1, 1), filters = 10, kernel_initializer = 'he_normal', strides = (1, 1)))\n",
    "    model.add(BatchNormalization())\n",
    "    model.add(Activation('relu'))\n",
    "    model.add(GlobalAveragePooling2D())\n",
    "    model.add(Activation('softmax'))\n",
    "    \n",
    "    adam = optimizers.Adam(lr = 0.001)\n",
    "    model.compile(optimizer = adam, loss = 'categorical_crossentropy', metrics = ['acc'])\n",
    "    \n",
    "    return model"
   ]
  },
  {
   "cell_type": "code",
   "execution_count": 18,
   "metadata": {},
   "outputs": [
    {
     "name": "stdout",
     "output_type": "stream",
     "text": [
      "Train on 42000 samples, validate on 18000 samples\n",
      "Epoch 1/20\n",
      " - 88s - loss: 1.3490 - acc: 0.8414 - val_loss: 0.8546 - val_acc: 0.9122\n",
      "Epoch 2/20\n",
      " - 86s - loss: 0.7022 - acc: 0.9406 - val_loss: 0.5067 - val_acc: 0.9443\n",
      "Epoch 3/20\n",
      " - 86s - loss: 0.4618 - acc: 0.9560 - val_loss: 0.3369 - val_acc: 0.9666\n",
      "Epoch 4/20\n",
      " - 86s - loss: 0.3380 - acc: 0.9637 - val_loss: 0.2585 - val_acc: 0.9677\n",
      "Epoch 5/20\n",
      " - 86s - loss: 0.2598 - acc: 0.9708 - val_loss: 0.2203 - val_acc: 0.9721\n",
      "Epoch 6/20\n",
      " - 87s - loss: 0.2114 - acc: 0.9731 - val_loss: 0.1561 - val_acc: 0.9797\n",
      "Epoch 7/20\n",
      " - 87s - loss: 0.1758 - acc: 0.9766 - val_loss: 0.1334 - val_acc: 0.9827\n",
      "Epoch 8/20\n",
      " - 86s - loss: 0.1506 - acc: 0.9778 - val_loss: 0.1268 - val_acc: 0.9791\n",
      "Epoch 9/20\n",
      " - 86s - loss: 0.1321 - acc: 0.9788 - val_loss: 0.1111 - val_acc: 0.9776\n",
      "Epoch 10/20\n",
      " - 86s - loss: 0.1152 - acc: 0.9817 - val_loss: 0.0978 - val_acc: 0.9848\n",
      "Epoch 11/20\n",
      " - 86s - loss: 0.1051 - acc: 0.9825 - val_loss: 0.1034 - val_acc: 0.9788\n",
      "Epoch 12/20\n",
      " - 86s - loss: 0.0936 - acc: 0.9837 - val_loss: 0.0875 - val_acc: 0.9840\n",
      "Epoch 13/20\n",
      " - 86s - loss: 0.0850 - acc: 0.9851 - val_loss: 0.0779 - val_acc: 0.9847\n",
      "Epoch 14/20\n",
      " - 86s - loss: 0.0789 - acc: 0.9862 - val_loss: 0.1096 - val_acc: 0.9737\n",
      "Epoch 15/20\n",
      " - 86s - loss: 0.0735 - acc: 0.9864 - val_loss: 0.0658 - val_acc: 0.9856\n",
      "Epoch 16/20\n",
      " - 86s - loss: 0.0666 - acc: 0.9882 - val_loss: 0.0756 - val_acc: 0.9821\n",
      "Epoch 17/20\n",
      " - 87s - loss: 0.0618 - acc: 0.9885 - val_loss: 0.0892 - val_acc: 0.9775\n",
      "Epoch 18/20\n",
      " - 88s - loss: 0.0583 - acc: 0.9893 - val_loss: 0.0748 - val_acc: 0.9838\n",
      "Epoch 19/20\n",
      " - 87s - loss: 0.0560 - acc: 0.9897 - val_loss: 0.0637 - val_acc: 0.9855\n",
      "Epoch 20/20\n",
      " - 86s - loss: 0.0520 - acc: 0.9905 - val_loss: 0.0642 - val_acc: 0.9844\n"
     ]
    }
   ],
   "source": [
    "model = nin_model()\n",
    "history = model.fit(x_train, y_train, verbose = 2, epochs = 20, validation_split = 0.3, batch_size = 50)"
   ]
  },
  {
   "cell_type": "code",
   "execution_count": 17,
   "metadata": {},
   "outputs": [
    {
     "data": {
      "text/plain": [
       "['/job:localhost/replica:0/task:0/device:GPU:0']"
      ]
     },
     "execution_count": 17,
     "metadata": {},
     "output_type": "execute_result"
    }
   ],
   "source": [
    "from keras import backend as K\n",
    "K.tensorflow_backend._get_available_gpus()"
   ]
  },
  {
   "cell_type": "code",
   "execution_count": 20,
   "metadata": {},
   "outputs": [
    {
     "data": {
      "image/png": "[encoded data removed]",
      "text/plain": [
       "<Figure size 432x288 with 1 Axes>"
      ]
     },
     "metadata": {
      "needs_background": "light"
     },
     "output_type": "display_data"
    }
   ],
   "source": [
    "plt.plot(history.history['acc'])\n",
    "plt.plot(history.history['val_acc'])\n",
    "plt.legend(['training', 'validation'], loc = 'upper left')\n",
    "plt.show()"
   ]
  },
  {
   "cell_type": "code",
   "execution_count": 21,
   "metadata": {},
   "outputs": [
    {
     "name": "stdout",
     "output_type": "stream",
     "text": [
      "10000/10000 [==============================] - 6s 638us/step\n",
      "0.9847\n"
     ]
    }
   ],
   "source": [
    "result = model.evaluate(x_test, y_test)\n",
    "print(result[1])"
   ]
  },
  {
   "cell_type": "code",
   "execution_count": 22,
   "metadata": {},
   "outputs": [
    {
     "name": "stdout",
     "output_type": "stream",
     "text": [
      "_________________________________________________________________\n",
      "Layer (type)                 Output Shape              Param #   \n",
      "=================================================================\n",
      "conv2d_9 (Conv2D)            (None, 26, 26, 50)        500       \n",
      "_________________________________________________________________\n",
      "batch_normalization_9 (Batch (None, 26, 26, 50)        200       \n",
      "_________________________________________________________________\n",
      "activation_10 (Activation)   (None, 26, 26, 50)        0         \n",
      "_________________________________________________________________\n",
      "conv2d_10 (Conv2D)           (None, 26, 26, 25)        1275      \n",
      "_________________________________________________________________\n",
      "batch_normalization_10 (Batc (None, 26, 26, 25)        100       \n",
      "_________________________________________________________________\n",
      "activation_11 (Activation)   (None, 26, 26, 25)        0         \n",
      "_________________________________________________________________\n",
      "conv2d_11 (Conv2D)           (None, 24, 24, 50)        11300     \n",
      "_________________________________________________________________\n",
      "batch_normalization_11 (Batc (None, 24, 24, 50)        200       \n",
      "_________________________________________________________________\n",
      "activation_12 (Activation)   (None, 24, 24, 50)        0         \n",
      "_________________________________________________________________\n",
      "conv2d_12 (Conv2D)           (None, 24, 24, 25)        1275      \n",
      "_________________________________________________________________\n",
      "batch_normalization_12 (Batc (None, 24, 24, 25)        100       \n",
      "_________________________________________________________________\n",
      "activation_13 (Activation)   (None, 24, 24, 25)        0         \n",
      "_________________________________________________________________\n",
      "conv2d_13 (Conv2D)           (None, 22, 22, 50)        11300     \n",
      "_________________________________________________________________\n",
      "batch_normalization_13 (Batc (None, 22, 22, 50)        200       \n",
      "_________________________________________________________________\n",
      "activation_14 (Activation)   (None, 22, 22, 50)        0         \n",
      "_________________________________________________________________\n",
      "conv2d_14 (Conv2D)           (None, 22, 22, 25)        1275      \n",
      "_________________________________________________________________\n",
      "batch_normalization_14 (Batc (None, 22, 22, 25)        100       \n",
      "_________________________________________________________________\n",
      "activation_15 (Activation)   (None, 22, 22, 25)        0         \n",
      "_________________________________________________________________\n",
      "conv2d_15 (Conv2D)           (None, 20, 20, 50)        11300     \n",
      "_________________________________________________________________\n",
      "batch_normalization_15 (Batc (None, 20, 20, 50)        200       \n",
      "_________________________________________________________________\n",
      "activation_16 (Activation)   (None, 20, 20, 50)        0         \n",
      "_________________________________________________________________\n",
      "conv2d_16 (Conv2D)           (None, 20, 20, 10)        510       \n",
      "_________________________________________________________________\n",
      "batch_normalization_16 (Batc (None, 20, 20, 10)        40        \n",
      "_________________________________________________________________\n",
      "activation_17 (Activation)   (None, 20, 20, 10)        0         \n",
      "_________________________________________________________________\n",
      "global_average_pooling2d_2 ( (None, 10)                0         \n",
      "_________________________________________________________________\n",
      "activation_18 (Activation)   (None, 10)                0         \n",
      "=================================================================\n",
      "Total params: 39,875\n",
      "Trainable params: 39,305\n",
      "Non-trainable params: 570\n",
      "_________________________________________________________________\n"
     ]
    }
   ],
   "source": [
    "model.summary()"
   ]
  },
  {
   "cell_type": "code",
   "execution_count": null,
   "metadata": {},
   "outputs": [],
   "source": []
  }
 ],
 "metadata": {
  "kernelspec": {
   "display_name": "Python 3",
   "language": "python",
   "name": "python3"
  },
  "language_info": {
   "codemirror_mode": {
    "name": "ipython",
    "version": 3
   },
   "file_extension": ".py",
   "mimetype": "text/x-python",
   "name": "python",
   "nbconvert_exporter": "python",
   "pygments_lexer": "ipython3",
   "version": "3.6.7"
  }
 },
 "nbformat": 4,
 "nbformat_minor": 2
}
