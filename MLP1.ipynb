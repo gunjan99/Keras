{
 "cells": [
  {
   "cell_type": "code",
   "execution_count": 3,
   "metadata": {},
   "outputs": [
    {
     "name": "stderr",
     "output_type": "stream",
     "text": [
      "Using TensorFlow backend.\n"
     ]
    }
   ],
   "source": [
    "import keras"
   ]
  },
  {
   "cell_type": "code",
   "execution_count": 4,
   "metadata": {},
   "outputs": [],
   "source": [
    "from keras.datasets import boston_housing"
   ]
  },
  {
   "cell_type": "code",
   "execution_count": 5,
   "metadata": {},
   "outputs": [
    {
     "name": "stdout",
     "output_type": "stream",
     "text": [
      "Downloading data from https://s3.amazonaws.com/keras-datasets/boston_housing.npz\n",
      "57344/57026 [==============================] - 1s 16us/step\n"
     ]
    }
   ],
   "source": [
    "(x_train, y_train), (x_test, y_test) = boston_housing.load_data()"
   ]
  },
  {
   "cell_type": "code",
   "execution_count": 6,
   "metadata": {},
   "outputs": [
    {
     "name": "stdout",
     "output_type": "stream",
     "text": [
      "(404, 13)\n",
      "(102, 13)\n",
      "(404,)\n",
      "(102,)\n"
     ]
    }
   ],
   "source": [
    "print(x_train.shape)\n",
    "print(x_test.shape)\n",
    "print(y_train.shape)\n",
    "print(y_test.shape)"
   ]
  },
  {
   "cell_type": "code",
   "execution_count": 8,
   "metadata": {},
   "outputs": [
    {
     "name": "stdout",
     "output_type": "stream",
     "text": [
      "[[1.23247e+00 0.00000e+00 8.14000e+00 ... 2.10000e+01 3.96900e+02\n",
      "  1.87200e+01]\n",
      " [2.17700e-02 8.25000e+01 2.03000e+00 ... 1.47000e+01 3.95380e+02\n",
      "  3.11000e+00]\n",
      " [4.89822e+00 0.00000e+00 1.81000e+01 ... 2.02000e+01 3.75520e+02\n",
      "  3.26000e+00]\n",
      " ...\n",
      " [3.46600e-02 3.50000e+01 6.06000e+00 ... 1.69000e+01 3.62250e+02\n",
      "  7.83000e+00]\n",
      " [2.14918e+00 0.00000e+00 1.95800e+01 ... 1.47000e+01 2.61950e+02\n",
      "  1.57900e+01]\n",
      " [1.43900e-02 6.00000e+01 2.93000e+00 ... 1.56000e+01 3.76700e+02\n",
      "  4.38000e+00]]\n"
     ]
    }
   ],
   "source": [
    "print(x_train)"
   ]
  },
  {
   "cell_type": "code",
   "execution_count": 9,
   "metadata": {},
   "outputs": [],
   "source": [
    "from keras.models import Sequential  #Sequential creates stack of input layers that includes neurons"
   ]
  },
  {
   "cell_type": "code",
   "execution_count": 10,
   "metadata": {},
   "outputs": [],
   "source": [
    "model = Sequential()"
   ]
  },
  {
   "cell_type": "code",
   "execution_count": 11,
   "metadata": {},
   "outputs": [],
   "source": [
    "from keras.layers import Activation, Dense"
   ]
  },
  {
   "cell_type": "code",
   "execution_count": 24,
   "metadata": {},
   "outputs": [],
   "source": [
    "model.add(Dense(10, input_shape = (13,), activation = 'sigmoid'))\n",
    "model.add(Dense(10, activation = 'sigmoid'))\n",
    "# model.add(Dense(10, activation = 'sigmoid'))\n",
    "model.add(Dense(1))"
   ]
  },
  {
   "cell_type": "code",
   "execution_count": 25,
   "metadata": {},
   "outputs": [],
   "source": [
    "from keras import optimizers"
   ]
  },
  {
   "cell_type": "code",
   "execution_count": 26,
   "metadata": {},
   "outputs": [],
   "source": [
    "sgd = optimizers.SGD(lr = 0.01)"
   ]
  },
  {
   "cell_type": "code",
   "execution_count": 31,
   "metadata": {},
   "outputs": [],
   "source": [
    "model.compile(optimizer = sgd, loss = 'mean_squared_error', metrics = ['accuracy'])"
   ]
  },
  {
   "cell_type": "code",
   "execution_count": 28,
   "metadata": {},
   "outputs": [
    {
     "name": "stdout",
     "output_type": "stream",
     "text": [
      "_________________________________________________________________\n",
      "Layer (type)                 Output Shape              Param #   \n",
      "=================================================================\n",
      "dense_1 (Dense)              (None, 10)                140       \n",
      "_________________________________________________________________\n",
      "dense_2 (Dense)              (None, 10)                110       \n",
      "_________________________________________________________________\n",
      "dense_3 (Dense)              (None, 10)                110       \n",
      "_________________________________________________________________\n",
      "dense_4 (Dense)              (None, 1)                 11        \n",
      "_________________________________________________________________\n",
      "dense_5 (Dense)              (None, 10)                20        \n",
      "_________________________________________________________________\n",
      "dense_6 (Dense)              (None, 10)                110       \n",
      "_________________________________________________________________\n",
      "dense_7 (Dense)              (None, 1)                 11        \n",
      "=================================================================\n",
      "Total params: 512\n",
      "Trainable params: 512\n",
      "Non-trainable params: 0\n",
      "_________________________________________________________________\n"
     ]
    }
   ],
   "source": [
    "model.summary()"
   ]
  },
  {
   "cell_type": "code",
   "execution_count": 34,
   "metadata": {},
   "outputs": [
    {
     "name": "stdout",
     "output_type": "stream",
     "text": [
      "102/102 [==============================] - 0s 205us/step\n"
     ]
    }
   ],
   "source": [
    "\n",
    "results = model.evaluate(x_test, y_test)"
   ]
  },
  {
   "cell_type": "code",
   "execution_count": 38,
   "metadata": {
    "scrolled": true
   },
   "outputs": [
    {
     "name": "stdout",
     "output_type": "stream",
     "text": [
      "Epoch 1/100\n",
      "404/404 [==============================] - 0s 158us/step - loss: 77.2365 - acc: 0.0099\n",
      "Epoch 2/100\n",
      "404/404 [==============================] - 0s 133us/step - loss: 77.0253 - acc: 0.0050\n",
      "Epoch 3/100\n",
      "404/404 [==============================] - 0s 131us/step - loss: 77.1892 - acc: 0.0149\n",
      "Epoch 4/100\n",
      "404/404 [==============================] - 0s 118us/step - loss: 77.0649 - acc: 0.0074\n",
      "Epoch 5/100\n",
      "404/404 [==============================] - 0s 123us/step - loss: 77.4401 - acc: 0.0050\n",
      "Epoch 6/100\n",
      "404/404 [==============================] - 0s 133us/step - loss: 77.2372 - acc: 0.0074\n",
      "Epoch 7/100\n",
      "404/404 [==============================] - 0s 123us/step - loss: 77.6343 - acc: 0.0050\n",
      "Epoch 8/100\n",
      "404/404 [==============================] - 0s 121us/step - loss: 77.2704 - acc: 0.0099\n",
      "Epoch 9/100\n",
      "404/404 [==============================] - 0s 116us/step - loss: 77.1865 - acc: 0.0074\n",
      "Epoch 10/100\n",
      "404/404 [==============================] - 0s 123us/step - loss: 78.5362 - acc: 0.0099\n",
      "Epoch 11/100\n",
      "404/404 [==============================] - 0s 128us/step - loss: 79.1502 - acc: 0.0099\n",
      "Epoch 12/100\n",
      "404/404 [==============================] - 0s 141us/step - loss: 77.1968 - acc: 0.0050\n",
      "Epoch 13/100\n",
      "404/404 [==============================] - 0s 138us/step - loss: 78.3881 - acc: 0.0099\n",
      "Epoch 14/100\n",
      "404/404 [==============================] - 0s 118us/step - loss: 76.9574 - acc: 0.0074\n",
      "Epoch 15/100\n",
      "404/404 [==============================] - 0s 118us/step - loss: 77.1703 - acc: 0.0074\n",
      "Epoch 16/100\n",
      "404/404 [==============================] - 0s 123us/step - loss: 77.1052 - acc: 0.0099\n",
      "Epoch 17/100\n",
      "404/404 [==============================] - 0s 136us/step - loss: 77.0033 - acc: 0.0074\n",
      "Epoch 18/100\n",
      "404/404 [==============================] - 0s 136us/step - loss: 77.2109 - acc: 0.0025\n",
      "Epoch 19/100\n",
      "404/404 [==============================] - 0s 190us/step - loss: 77.1565 - acc: 0.0074\n",
      "Epoch 20/100\n",
      "404/404 [==============================] - 0s 232us/step - loss: 77.4368 - acc: 0.0099\n",
      "Epoch 21/100\n",
      "404/404 [==============================] - 0s 180us/step - loss: 77.3173 - acc: 0.0074\n",
      "Epoch 22/100\n",
      "404/404 [==============================] - 0s 163us/step - loss: 77.1787 - acc: 0.0124\n",
      "Epoch 23/100\n",
      "404/404 [==============================] - 0s 183us/step - loss: 77.1690 - acc: 0.0074\n",
      "Epoch 24/100\n",
      "404/404 [==============================] - 0s 146us/step - loss: 77.3662 - acc: 0.0050\n",
      "Epoch 25/100\n",
      "404/404 [==============================] - 0s 237us/step - loss: 77.9097 - acc: 0.0025\n",
      "Epoch 26/100\n",
      "404/404 [==============================] - 0s 198us/step - loss: 77.2191 - acc: 0.0050\n",
      "Epoch 27/100\n",
      "404/404 [==============================] - 0s 195us/step - loss: 77.8163 - acc: 0.0099\n",
      "Epoch 28/100\n",
      "404/404 [==============================] - 0s 173us/step - loss: 77.1025 - acc: 0.0074\n",
      "Epoch 29/100\n",
      "404/404 [==============================] - 0s 158us/step - loss: 77.0147 - acc: 0.0074\n",
      "Epoch 30/100\n",
      "404/404 [==============================] - 0s 141us/step - loss: 77.2868 - acc: 0.0074\n",
      "Epoch 31/100\n",
      "404/404 [==============================] - 0s 131us/step - loss: 77.3391 - acc: 0.0074\n",
      "Epoch 32/100\n",
      "404/404 [==============================] - 0s 212us/step - loss: 77.3270 - acc: 0.0050\n",
      "Epoch 33/100\n",
      "404/404 [==============================] - 0s 195us/step - loss: 77.0872 - acc: 0.0074\n",
      "Epoch 34/100\n",
      "404/404 [==============================] - 0s 168us/step - loss: 77.1758 - acc: 0.0074\n",
      "Epoch 35/100\n",
      "404/404 [==============================] - 0s 178us/step - loss: 77.1408 - acc: 0.0074\n",
      "Epoch 36/100\n",
      "404/404 [==============================] - 0s 151us/step - loss: 77.2934 - acc: 0.0025\n",
      "Epoch 37/100\n",
      "404/404 [==============================] - 0s 133us/step - loss: 77.5586 - acc: 0.0025\n",
      "Epoch 38/100\n",
      "404/404 [==============================] - 0s 126us/step - loss: 77.0280 - acc: 0.0074\n",
      "Epoch 39/100\n",
      "404/404 [==============================] - 0s 126us/step - loss: 77.2317 - acc: 0.0050\n",
      "Epoch 40/100\n",
      "404/404 [==============================] - 0s 126us/step - loss: 77.2842 - acc: 0.0074\n",
      "Epoch 41/100\n",
      "404/404 [==============================] - 0s 121us/step - loss: 77.2077 - acc: 0.0074\n",
      "Epoch 42/100\n",
      "404/404 [==============================] - 0s 123us/step - loss: 77.4846 - acc: 0.0124\n",
      "Epoch 43/100\n",
      "404/404 [==============================] - 0s 123us/step - loss: 77.1172 - acc: 0.0025\n",
      "Epoch 44/100\n",
      "404/404 [==============================] - 0s 141us/step - loss: 77.2568 - acc: 0.0074\n",
      "Epoch 45/100\n",
      "404/404 [==============================] - 0s 126us/step - loss: 77.5862 - acc: 0.0050\n",
      "Epoch 46/100\n",
      "404/404 [==============================] - 0s 128us/step - loss: 77.3173 - acc: 0.0099\n",
      "Epoch 47/100\n",
      "404/404 [==============================] - 0s 128us/step - loss: 77.5429 - acc: 0.0099\n",
      "Epoch 48/100\n",
      "404/404 [==============================] - 0s 128us/step - loss: 77.8020 - acc: 0.0099\n",
      "Epoch 49/100\n",
      "404/404 [==============================] - 0s 138us/step - loss: 77.0556 - acc: 0.0074\n",
      "Epoch 50/100\n",
      "404/404 [==============================] - 0s 146us/step - loss: 77.1192 - acc: 0.0074\n",
      "Epoch 51/100\n",
      "404/404 [==============================] - 0s 141us/step - loss: 77.0278 - acc: 0.0074\n",
      "Epoch 52/100\n",
      "404/404 [==============================] - 0s 123us/step - loss: 77.6162 - acc: 0.0050\n",
      "Epoch 53/100\n",
      "404/404 [==============================] - 0s 126us/step - loss: 77.1738 - acc: 0.0074\n",
      "Epoch 54/100\n",
      "404/404 [==============================] - 0s 126us/step - loss: 77.7683 - acc: 0.0050\n",
      "Epoch 55/100\n",
      "404/404 [==============================] - 0s 141us/step - loss: 77.2091 - acc: 0.0074\n",
      "Epoch 56/100\n",
      "404/404 [==============================] - 0s 116us/step - loss: 77.5928 - acc: 0.0124\n",
      "Epoch 57/100\n",
      "404/404 [==============================] - 0s 136us/step - loss: 77.0962 - acc: 0.0074\n",
      "Epoch 58/100\n",
      "404/404 [==============================] - 0s 121us/step - loss: 77.3779 - acc: 0.0099\n",
      "Epoch 59/100\n",
      "404/404 [==============================] - 0s 143us/step - loss: 77.2606 - acc: 0.0074\n",
      "Epoch 60/100\n",
      "404/404 [==============================] - 0s 141us/step - loss: 77.0549 - acc: 0.0074\n",
      "Epoch 61/100\n",
      "404/404 [==============================] - 0s 126us/step - loss: 77.3296 - acc: 0.0124\n",
      "Epoch 62/100\n",
      "404/404 [==============================] - 0s 128us/step - loss: 77.0261 - acc: 0.0074\n",
      "Epoch 63/100\n",
      "404/404 [==============================] - 0s 138us/step - loss: 77.0610 - acc: 0.0074\n",
      "Epoch 64/100\n",
      "404/404 [==============================] - 0s 133us/step - loss: 77.7201 - acc: 0.0025\n",
      "Epoch 65/100\n",
      "404/404 [==============================] - 0s 136us/step - loss: 77.0978 - acc: 0.0050\n",
      "Epoch 66/100\n",
      "404/404 [==============================] - 0s 136us/step - loss: 77.1016 - acc: 0.0050\n",
      "Epoch 67/100\n",
      "404/404 [==============================] - 0s 138us/step - loss: 77.0160 - acc: 0.0074\n",
      "Epoch 68/100\n",
      "404/404 [==============================] - 0s 138us/step - loss: 77.2127 - acc: 0.0074\n",
      "Epoch 69/100\n",
      "404/404 [==============================] - 0s 136us/step - loss: 78.1105 - acc: 0.0050\n",
      "Epoch 70/100\n",
      "404/404 [==============================] - 0s 138us/step - loss: 76.9670 - acc: 0.0074\n",
      "Epoch 71/100\n",
      "404/404 [==============================] - 0s 138us/step - loss: 77.3411 - acc: 0.0050\n",
      "Epoch 72/100\n",
      "404/404 [==============================] - 0s 138us/step - loss: 77.4675 - acc: 0.0074\n",
      "Epoch 73/100\n",
      "404/404 [==============================] - 0s 136us/step - loss: 77.3207 - acc: 0.0050\n",
      "Epoch 74/100\n",
      "404/404 [==============================] - 0s 133us/step - loss: 77.1656 - acc: 0.0050\n",
      "Epoch 75/100\n",
      "404/404 [==============================] - 0s 138us/step - loss: 77.3699 - acc: 0.0050\n",
      "Epoch 76/100\n",
      "404/404 [==============================] - 0s 136us/step - loss: 77.4960 - acc: 0.0074\n",
      "Epoch 77/100\n",
      "404/404 [==============================] - 0s 133us/step - loss: 77.1919 - acc: 0.0074\n",
      "Epoch 78/100\n",
      "404/404 [==============================] - 0s 143us/step - loss: 77.3809 - acc: 0.0074\n",
      "Epoch 79/100\n",
      "404/404 [==============================] - 0s 143us/step - loss: 77.2059 - acc: 0.0050\n",
      "Epoch 80/100\n",
      "404/404 [==============================] - 0s 138us/step - loss: 77.3587 - acc: 0.0099\n",
      "Epoch 81/100\n",
      "404/404 [==============================] - 0s 143us/step - loss: 77.4866 - acc: 0.0050\n",
      "Epoch 82/100\n",
      "404/404 [==============================] - 0s 136us/step - loss: 77.7208 - acc: 0.0050\n",
      "Epoch 83/100\n"
     ]
    },
    {
     "name": "stdout",
     "output_type": "stream",
     "text": [
      "404/404 [==============================] - 0s 131us/step - loss: 77.1670 - acc: 0.0074\n",
      "Epoch 84/100\n",
      "404/404 [==============================] - 0s 141us/step - loss: 77.1200 - acc: 0.0074\n",
      "Epoch 85/100\n",
      "404/404 [==============================] - 0s 136us/step - loss: 77.5992 - acc: 0.0074\n",
      "Epoch 86/100\n",
      "404/404 [==============================] - 0s 126us/step - loss: 77.2663 - acc: 0.0050\n",
      "Epoch 87/100\n",
      "404/404 [==============================] - 0s 116us/step - loss: 77.1613 - acc: 0.0074\n",
      "Epoch 88/100\n",
      "404/404 [==============================] - 0s 121us/step - loss: 77.0812 - acc: 0.0074\n",
      "Epoch 89/100\n",
      "404/404 [==============================] - 0s 133us/step - loss: 77.4542 - acc: 0.0050\n",
      "Epoch 90/100\n",
      "404/404 [==============================] - 0s 141us/step - loss: 77.0350 - acc: 0.0074\n",
      "Epoch 91/100\n",
      "404/404 [==============================] - 0s 126us/step - loss: 77.7512 - acc: 0.0050\n",
      "Epoch 92/100\n",
      "404/404 [==============================] - 0s 121us/step - loss: 77.2411 - acc: 0.0099\n",
      "Epoch 93/100\n",
      "404/404 [==============================] - 0s 126us/step - loss: 77.5305 - acc: 0.0074\n",
      "Epoch 94/100\n",
      "404/404 [==============================] - 0s 114us/step - loss: 77.4651 - acc: 0.0074\n",
      "Epoch 95/100\n",
      "404/404 [==============================] - 0s 128us/step - loss: 77.4081 - acc: 0.0050\n",
      "Epoch 96/100\n",
      "404/404 [==============================] - 0s 126us/step - loss: 77.3208 - acc: 0.0074\n",
      "Epoch 97/100\n",
      "404/404 [==============================] - 0s 123us/step - loss: 77.0918 - acc: 0.0074\n",
      "Epoch 98/100\n",
      "404/404 [==============================] - 0s 115us/step - loss: 78.6815 - acc: 0.0099\n",
      "Epoch 99/100\n",
      "404/404 [==============================] - 0s 148us/step - loss: 77.7896 - acc: 0.0074\n",
      "Epoch 100/100\n",
      "404/404 [==============================] - 0s 141us/step - loss: 77.1256 - acc: 0.0050\n"
     ]
    },
    {
     "data": {
      "text/plain": [
       "<keras.callbacks.History at 0x242c54c4240>"
      ]
     },
     "execution_count": 38,
     "metadata": {},
     "output_type": "execute_result"
    }
   ],
   "source": [
    "model.fit(x_train, y_train, batch_size = 50, epochs = 100, verbose = 1)"
   ]
  },
  {
   "cell_type": "code",
   "execution_count": 35,
   "metadata": {},
   "outputs": [
    {
     "name": "stdout",
     "output_type": "stream",
     "text": [
      "['loss', 'acc']\n",
      "[80.98176933737362, 0.00980392156862745]\n"
     ]
    }
   ],
   "source": [
    "print(model.metrics_names)     # list of metric names the model is employing\n",
    "print(results) "
   ]
  },
  {
   "cell_type": "code",
   "execution_count": null,
   "metadata": {},
   "outputs": [],
   "source": []
  }
 ],
 "metadata": {
  "kernelspec": {
   "display_name": "Python 3",
   "language": "python",
   "name": "python3"
  },
  "language_info": {
   "codemirror_mode": {
    "name": "ipython",
    "version": 3
   },
   "file_extension": ".py",
   "mimetype": "text/x-python",
   "name": "python",
   "nbconvert_exporter": "python",
   "pygments_lexer": "ipython3",
   "version": "3.6.7"
  }
 },
 "nbformat": 4,
 "nbformat_minor": 2
}
