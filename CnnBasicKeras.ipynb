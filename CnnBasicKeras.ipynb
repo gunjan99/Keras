{
 "cells": [
  {
   "cell_type": "markdown",
   "metadata": {},
   "source": [
    "# CNN using keras"
   ]
  },
  {
   "cell_type": "code",
   "execution_count": 1,
   "metadata": {},
   "outputs": [
    {
     "name": "stderr",
     "output_type": "stream",
     "text": [
      "Using TensorFlow backend.\n"
     ]
    }
   ],
   "source": [
    "import numpy as np\n",
    "import matplotlib.pyplot as plt\n",
    "from sklearn import datasets\n",
    "from sklearn.model_selection import train_test_split\n",
    "from keras.utils.np_utils import to_categorical"
   ]
  },
  {
   "cell_type": "code",
   "execution_count": 2,
   "metadata": {},
   "outputs": [],
   "source": [
    "data = datasets.load_digits()"
   ]
  },
  {
   "cell_type": "code",
   "execution_count": 3,
   "metadata": {
    "collapsed": true
   },
   "outputs": [
    {
     "name": "stdout",
     "output_type": "stream",
     "text": [
      "{'data': array([[ 0.,  0.,  5., ...,  0.,  0.,  0.],\n",
      "       [ 0.,  0.,  0., ..., 10.,  0.,  0.],\n",
      "       [ 0.,  0.,  0., ..., 16.,  9.,  0.],\n",
      "       ...,\n",
      "       [ 0.,  0.,  1., ...,  6.,  0.,  0.],\n",
      "       [ 0.,  0.,  2., ..., 12.,  0.,  0.],\n",
      "       [ 0.,  0., 10., ..., 12.,  1.,  0.]]), 'target': array([0, 1, 2, ..., 8, 9, 8]), 'target_names': array([0, 1, 2, 3, 4, 5, 6, 7, 8, 9]), 'images': array([[[ 0.,  0.,  5., ...,  1.,  0.,  0.],\n",
      "        [ 0.,  0., 13., ..., 15.,  5.,  0.],\n",
      "        [ 0.,  3., 15., ..., 11.,  8.,  0.],\n",
      "        ...,\n",
      "        [ 0.,  4., 11., ..., 12.,  7.,  0.],\n",
      "        [ 0.,  2., 14., ..., 12.,  0.,  0.],\n",
      "        [ 0.,  0.,  6., ...,  0.,  0.,  0.]],\n",
      "\n",
      "       [[ 0.,  0.,  0., ...,  5.,  0.,  0.],\n",
      "        [ 0.,  0.,  0., ...,  9.,  0.,  0.],\n",
      "        [ 0.,  0.,  3., ...,  6.,  0.,  0.],\n",
      "        ...,\n",
      "        [ 0.,  0.,  1., ...,  6.,  0.,  0.],\n",
      "        [ 0.,  0.,  1., ...,  6.,  0.,  0.],\n",
      "        [ 0.,  0.,  0., ..., 10.,  0.,  0.]],\n",
      "\n",
      "       [[ 0.,  0.,  0., ..., 12.,  0.,  0.],\n",
      "        [ 0.,  0.,  3., ..., 14.,  0.,  0.],\n",
      "        [ 0.,  0.,  8., ..., 16.,  0.,  0.],\n",
      "        ...,\n",
      "        [ 0.,  9., 16., ...,  0.,  0.,  0.],\n",
      "        [ 0.,  3., 13., ..., 11.,  5.,  0.],\n",
      "        [ 0.,  0.,  0., ..., 16.,  9.,  0.]],\n",
      "\n",
      "       ...,\n",
      "\n",
      "       [[ 0.,  0.,  1., ...,  1.,  0.,  0.],\n",
      "        [ 0.,  0., 13., ...,  2.,  1.,  0.],\n",
      "        [ 0.,  0., 16., ..., 16.,  5.,  0.],\n",
      "        ...,\n",
      "        [ 0.,  0., 16., ..., 15.,  0.,  0.],\n",
      "        [ 0.,  0., 15., ..., 16.,  0.,  0.],\n",
      "        [ 0.,  0.,  2., ...,  6.,  0.,  0.]],\n",
      "\n",
      "       [[ 0.,  0.,  2., ...,  0.,  0.,  0.],\n",
      "        [ 0.,  0., 14., ..., 15.,  1.,  0.],\n",
      "        [ 0.,  4., 16., ..., 16.,  7.,  0.],\n",
      "        ...,\n",
      "        [ 0.,  0.,  0., ..., 16.,  2.,  0.],\n",
      "        [ 0.,  0.,  4., ..., 16.,  2.,  0.],\n",
      "        [ 0.,  0.,  5., ..., 12.,  0.,  0.]],\n",
      "\n",
      "       [[ 0.,  0., 10., ...,  1.,  0.,  0.],\n",
      "        [ 0.,  2., 16., ...,  1.,  0.,  0.],\n",
      "        [ 0.,  0., 15., ..., 15.,  0.,  0.],\n",
      "        ...,\n",
      "        [ 0.,  4., 16., ..., 16.,  6.,  0.],\n",
      "        [ 0.,  8., 16., ..., 16.,  8.,  0.],\n",
      "        [ 0.,  1.,  8., ..., 12.,  1.,  0.]]]), 'DESCR': \"Optical Recognition of Handwritten Digits Data Set\\n===================================================\\n\\nNotes\\n-----\\nData Set Characteristics:\\n    :Number of Instances: 5620\\n    :Number of Attributes: 64\\n    :Attribute Information: 8x8 image of integer pixels in the range 0..16.\\n    :Missing Attribute Values: None\\n    :Creator: E. Alpaydin (alpaydin '@' boun.edu.tr)\\n    :Date: July; 1998\\n\\nThis is a copy of the test set of the UCI ML hand-written digits datasets\\nhttp://archive.ics.uci.edu/ml/datasets/Optical+Recognition+of+Handwritten+Digits\\n\\nThe data set contains images of hand-written digits: 10 classes where\\neach class refers to a digit.\\n\\nPreprocessing programs made available by NIST were used to extract\\nnormalized bitmaps of handwritten digits from a preprinted form. From a\\ntotal of 43 people, 30 contributed to the training set and different 13\\nto the test set. 32x32 bitmaps are divided into nonoverlapping blocks of\\n4x4 and the number of on pixels are counted in each block. This generates\\nan input matrix of 8x8 where each element is an integer in the range\\n0..16. This reduces dimensionality and gives invariance to small\\ndistortions.\\n\\nFor info on NIST preprocessing routines, see M. D. Garris, J. L. Blue, G.\\nT. Candela, D. L. Dimmick, J. Geist, P. J. Grother, S. A. Janet, and C.\\nL. Wilson, NIST Form-Based Handprint Recognition System, NISTIR 5469,\\n1994.\\n\\nReferences\\n----------\\n  - C. Kaynak (1995) Methods of Combining Multiple Classifiers and Their\\n    Applications to Handwritten Digit Recognition, MSc Thesis, Institute of\\n    Graduate Studies in Science and Engineering, Bogazici University.\\n  - E. Alpaydin, C. Kaynak (1998) Cascading Classifiers, Kybernetika.\\n  - Ken Tang and Ponnuthurai N. Suganthan and Xi Yao and A. Kai Qin.\\n    Linear dimensionalityreduction using relevance weighted LDA. School of\\n    Electrical and Electronic Engineering Nanyang Technological University.\\n    2005.\\n  - Claudio Gentile. A New Approximate Maximal Margin Classification\\n    Algorithm. NIPS. 2000.\\n\"}\n"
     ]
    }
   ],
   "source": [
    "print(data)"
   ]
  },
  {
   "cell_type": "code",
   "execution_count": 9,
   "metadata": {},
   "outputs": [],
   "source": [
    "x = data[\"images\"]"
   ]
  },
  {
   "cell_type": "code",
   "execution_count": 10,
   "metadata": {},
   "outputs": [
    {
     "name": "stdout",
     "output_type": "stream",
     "text": [
      "(1797, 8, 8)\n"
     ]
    }
   ],
   "source": [
    "print(x.shape)"
   ]
  },
  {
   "cell_type": "code",
   "execution_count": 11,
   "metadata": {},
   "outputs": [],
   "source": [
    "y = data[\"target\"]"
   ]
  },
  {
   "cell_type": "code",
   "execution_count": 12,
   "metadata": {},
   "outputs": [
    {
     "name": "stdout",
     "output_type": "stream",
     "text": [
      "(1797,)\n"
     ]
    }
   ],
   "source": [
    "print(y.shape)"
   ]
  },
  {
   "cell_type": "code",
   "execution_count": 14,
   "metadata": {},
   "outputs": [
    {
     "name": "stdout",
     "output_type": "stream",
     "text": [
      "label: 0\n"
     ]
    },
    {
     "data": {
      "image/png": "[encoded data removed]",
      "text/plain": [
       "<Figure size 432x288 with 1 Axes>"
      ]
     },
     "metadata": {
      "needs_background": "light"
     },
     "output_type": "display_data"
    }
   ],
   "source": [
    "plt.imshow(x[0])\n",
    "plt.plot()\n",
    "print(\"label:\", y[0])"
   ]
  },
  {
   "cell_type": "code",
   "execution_count": 16,
   "metadata": {},
   "outputs": [],
   "source": [
    "y = to_categorical(y, num_classes = 10, dtype = int)"
   ]
  },
  {
   "cell_type": "code",
   "execution_count": 17,
   "metadata": {},
   "outputs": [],
   "source": [
    "x = x.reshape((x.shape[0], x.shape[1], x.shape[2], 1))"
   ]
  },
  {
   "cell_type": "code",
   "execution_count": 18,
   "metadata": {},
   "outputs": [],
   "source": [
    "x_train, x_test, y_train, y_test = train_test_split(x, y, test_size = 0.3, random_state = 42)"
   ]
  },
  {
   "cell_type": "code",
   "execution_count": 19,
   "metadata": {},
   "outputs": [
    {
     "name": "stdout",
     "output_type": "stream",
     "text": [
      "(1257, 8, 8, 1)\n",
      "(540, 8, 8, 1)\n",
      "(1257, 10)\n",
      "(540, 10)\n"
     ]
    }
   ],
   "source": [
    "print(x_train.shape)\n",
    "print(x_test.shape)\n",
    "print(y_train.shape)\n",
    "print(y_test.shape)"
   ]
  },
  {
   "cell_type": "code",
   "execution_count": 25,
   "metadata": {},
   "outputs": [],
   "source": [
    "from keras.models import Sequential\n",
    "from keras import optimizers\n",
    "from keras.layers import Conv2D, Dense, Activation, MaxPooling2D, Flatten"
   ]
  },
  {
   "cell_type": "code",
   "execution_count": 26,
   "metadata": {},
   "outputs": [
    {
     "name": "stdout",
     "output_type": "stream",
     "text": [
      "WARNING:tensorflow:From C:\\Users\\gunja\\Anaconda3\\lib\\site-packages\\tensorflow\\python\\framework\\op_def_library.py:263: colocate_with (from tensorflow.python.framework.ops) is deprecated and will be removed in a future version.\n",
      "Instructions for updating:\n",
      "Colocations handled automatically by placer.\n"
     ]
    }
   ],
   "source": [
    "model = Sequential()\n",
    "model.add(Conv2D(input_shape = (x_train.shape[1], x_train.shape[2], x_train.shape[3]), filters = 10, kernel_size = (3, 3), strides = (1, 1), activation = 'relu'))"
   ]
  },
  {
   "cell_type": "code",
   "execution_count": 27,
   "metadata": {},
   "outputs": [],
   "source": [
    "model.add(MaxPooling2D(pool_size = (2, 2)))\n",
    "model.add(Flatten())"
   ]
  },
  {
   "cell_type": "code",
   "execution_count": 28,
   "metadata": {},
   "outputs": [],
   "source": [
    "model.add(Dense(50, activation = 'relu'))\n",
    "model.add(Dense(10, activation = 'softmax'))"
   ]
  },
  {
   "cell_type": "code",
   "execution_count": 29,
   "metadata": {},
   "outputs": [],
   "source": [
    "adam = optimizers.Adam(lr = 0.001)\n",
    "model.compile(loss = 'categorical_crossentropy', metrics = ['acc'], optimizer = adam)"
   ]
  },
  {
   "cell_type": "code",
   "execution_count": 30,
   "metadata": {},
   "outputs": [
    {
     "name": "stdout",
     "output_type": "stream",
     "text": [
      "WARNING:tensorflow:From C:\\Users\\gunja\\Anaconda3\\lib\\site-packages\\tensorflow\\python\\ops\\math_ops.py:3066: to_int32 (from tensorflow.python.ops.math_ops) is deprecated and will be removed in a future version.\n",
      "Instructions for updating:\n",
      "Use tf.cast instead.\n",
      "Train on 1005 samples, validate on 252 samples\n",
      "Epoch 1/100\n",
      " - 16s - loss: 2.5038 - acc: 0.2388 - val_loss: 1.6537 - val_acc: 0.4405\n",
      "Epoch 2/100\n",
      " - 0s - loss: 1.3325 - acc: 0.5632 - val_loss: 1.1759 - val_acc: 0.6468\n",
      "Epoch 3/100\n",
      " - 0s - loss: 0.9224 - acc: 0.7473 - val_loss: 0.8577 - val_acc: 0.7817\n",
      "Epoch 4/100\n",
      " - 0s - loss: 0.6648 - acc: 0.8179 - val_loss: 0.6655 - val_acc: 0.8294\n",
      "Epoch 5/100\n",
      " - 0s - loss: 0.5086 - acc: 0.8567 - val_loss: 0.5245 - val_acc: 0.8651\n",
      "Epoch 6/100\n",
      " - 0s - loss: 0.3808 - acc: 0.9005 - val_loss: 0.4212 - val_acc: 0.8770\n",
      "Epoch 7/100\n",
      " - 0s - loss: 0.3054 - acc: 0.9254 - val_loss: 0.3562 - val_acc: 0.9127\n",
      "Epoch 8/100\n",
      " - 0s - loss: 0.2575 - acc: 0.9353 - val_loss: 0.2934 - val_acc: 0.9246\n",
      "Epoch 9/100\n",
      " - 0s - loss: 0.2154 - acc: 0.9512 - val_loss: 0.2665 - val_acc: 0.9365\n",
      "Epoch 10/100\n",
      " - 0s - loss: 0.1993 - acc: 0.9512 - val_loss: 0.2818 - val_acc: 0.9167\n",
      "Epoch 11/100\n",
      " - 0s - loss: 0.1734 - acc: 0.9602 - val_loss: 0.2406 - val_acc: 0.9246\n",
      "Epoch 12/100\n",
      " - 0s - loss: 0.1596 - acc: 0.9612 - val_loss: 0.2009 - val_acc: 0.9405\n",
      "Epoch 13/100\n",
      " - 0s - loss: 0.1316 - acc: 0.9662 - val_loss: 0.1975 - val_acc: 0.9405\n",
      "Epoch 14/100\n",
      " - 0s - loss: 0.1287 - acc: 0.9692 - val_loss: 0.1865 - val_acc: 0.9405\n",
      "Epoch 15/100\n",
      " - 0s - loss: 0.1045 - acc: 0.9751 - val_loss: 0.1647 - val_acc: 0.9524\n",
      "Epoch 16/100\n",
      " - 0s - loss: 0.0935 - acc: 0.9761 - val_loss: 0.1559 - val_acc: 0.9563\n",
      "Epoch 17/100\n",
      " - 0s - loss: 0.0876 - acc: 0.9841 - val_loss: 0.1524 - val_acc: 0.9484\n",
      "Epoch 18/100\n",
      " - 0s - loss: 0.0780 - acc: 0.9851 - val_loss: 0.1540 - val_acc: 0.9524\n",
      "Epoch 19/100\n",
      " - 0s - loss: 0.0857 - acc: 0.9831 - val_loss: 0.1431 - val_acc: 0.9563\n",
      "Epoch 20/100\n",
      " - 0s - loss: 0.0689 - acc: 0.9891 - val_loss: 0.1384 - val_acc: 0.9524\n",
      "Epoch 21/100\n",
      " - 0s - loss: 0.0849 - acc: 0.9801 - val_loss: 0.1372 - val_acc: 0.9444\n",
      "Epoch 22/100\n",
      " - 0s - loss: 0.0596 - acc: 0.9900 - val_loss: 0.1231 - val_acc: 0.9683\n",
      "Epoch 23/100\n",
      " - 0s - loss: 0.0506 - acc: 0.9920 - val_loss: 0.1202 - val_acc: 0.9643\n",
      "Epoch 24/100\n",
      " - 0s - loss: 0.0475 - acc: 0.9950 - val_loss: 0.1199 - val_acc: 0.9643\n",
      "Epoch 25/100\n",
      " - 0s - loss: 0.0432 - acc: 0.9950 - val_loss: 0.1129 - val_acc: 0.9683\n",
      "Epoch 26/100\n",
      " - 0s - loss: 0.0400 - acc: 0.9960 - val_loss: 0.1165 - val_acc: 0.9603\n",
      "Epoch 27/100\n",
      " - 0s - loss: 0.0388 - acc: 0.9960 - val_loss: 0.1102 - val_acc: 0.9643\n",
      "Epoch 28/100\n",
      " - 0s - loss: 0.0392 - acc: 0.9950 - val_loss: 0.1122 - val_acc: 0.9643\n",
      "Epoch 29/100\n",
      " - 0s - loss: 0.0319 - acc: 0.9980 - val_loss: 0.1050 - val_acc: 0.9683\n",
      "Epoch 30/100\n",
      " - 0s - loss: 0.0299 - acc: 0.9980 - val_loss: 0.1052 - val_acc: 0.9683\n",
      "Epoch 31/100\n",
      " - 0s - loss: 0.0306 - acc: 0.9980 - val_loss: 0.1099 - val_acc: 0.9643\n",
      "Epoch 32/100\n",
      " - 0s - loss: 0.0300 - acc: 0.9960 - val_loss: 0.1065 - val_acc: 0.9683\n",
      "Epoch 33/100\n",
      " - 0s - loss: 0.0251 - acc: 1.0000 - val_loss: 0.1025 - val_acc: 0.9603\n",
      "Epoch 34/100\n",
      " - 0s - loss: 0.0252 - acc: 1.0000 - val_loss: 0.1056 - val_acc: 0.9643\n",
      "Epoch 35/100\n",
      " - 0s - loss: 0.0221 - acc: 0.9990 - val_loss: 0.0998 - val_acc: 0.9683\n",
      "Epoch 36/100\n",
      " - 0s - loss: 0.0247 - acc: 0.9970 - val_loss: 0.1057 - val_acc: 0.9563\n",
      "Epoch 37/100\n",
      " - 0s - loss: 0.0206 - acc: 0.9980 - val_loss: 0.0995 - val_acc: 0.9722\n",
      "Epoch 38/100\n",
      " - 0s - loss: 0.0186 - acc: 0.9990 - val_loss: 0.0962 - val_acc: 0.9722\n",
      "Epoch 39/100\n",
      " - 0s - loss: 0.0174 - acc: 1.0000 - val_loss: 0.0950 - val_acc: 0.9722\n",
      "Epoch 40/100\n",
      " - 0s - loss: 0.0166 - acc: 0.9990 - val_loss: 0.0962 - val_acc: 0.9722\n",
      "Epoch 41/100\n",
      " - 0s - loss: 0.0169 - acc: 1.0000 - val_loss: 0.0952 - val_acc: 0.9722\n",
      "Epoch 42/100\n",
      " - 0s - loss: 0.0148 - acc: 1.0000 - val_loss: 0.0972 - val_acc: 0.9683\n",
      "Epoch 43/100\n",
      " - 0s - loss: 0.0139 - acc: 1.0000 - val_loss: 0.0935 - val_acc: 0.9643\n",
      "Epoch 44/100\n",
      " - 0s - loss: 0.0136 - acc: 1.0000 - val_loss: 0.0915 - val_acc: 0.9762\n",
      "Epoch 45/100\n",
      " - 0s - loss: 0.0125 - acc: 1.0000 - val_loss: 0.0933 - val_acc: 0.9722\n",
      "Epoch 46/100\n",
      " - 0s - loss: 0.0129 - acc: 0.9990 - val_loss: 0.0910 - val_acc: 0.9643\n",
      "Epoch 47/100\n",
      " - 0s - loss: 0.0118 - acc: 1.0000 - val_loss: 0.0914 - val_acc: 0.9762\n",
      "Epoch 48/100\n",
      " - 0s - loss: 0.0111 - acc: 1.0000 - val_loss: 0.0930 - val_acc: 0.9683\n",
      "Epoch 49/100\n",
      " - 0s - loss: 0.0120 - acc: 1.0000 - val_loss: 0.0909 - val_acc: 0.9762\n",
      "Epoch 50/100\n",
      " - 0s - loss: 0.0104 - acc: 1.0000 - val_loss: 0.0912 - val_acc: 0.9722\n",
      "Epoch 51/100\n",
      " - 0s - loss: 0.0096 - acc: 1.0000 - val_loss: 0.0917 - val_acc: 0.9683\n",
      "Epoch 52/100\n",
      " - 0s - loss: 0.0102 - acc: 1.0000 - val_loss: 0.0885 - val_acc: 0.9683\n",
      "Epoch 53/100\n",
      " - 0s - loss: 0.0095 - acc: 1.0000 - val_loss: 0.0893 - val_acc: 0.9683\n",
      "Epoch 54/100\n",
      " - 0s - loss: 0.0084 - acc: 1.0000 - val_loss: 0.0898 - val_acc: 0.9722\n",
      "Epoch 55/100\n",
      " - 0s - loss: 0.0080 - acc: 1.0000 - val_loss: 0.0865 - val_acc: 0.9722\n",
      "Epoch 56/100\n",
      " - 0s - loss: 0.0076 - acc: 1.0000 - val_loss: 0.0897 - val_acc: 0.9722\n",
      "Epoch 57/100\n",
      " - 0s - loss: 0.0101 - acc: 1.0000 - val_loss: 0.0951 - val_acc: 0.9643\n",
      "Epoch 58/100\n",
      " - 0s - loss: 0.0086 - acc: 1.0000 - val_loss: 0.0907 - val_acc: 0.9722\n",
      "Epoch 59/100\n",
      " - 0s - loss: 0.0071 - acc: 1.0000 - val_loss: 0.0864 - val_acc: 0.9722\n",
      "Epoch 60/100\n",
      " - 0s - loss: 0.0068 - acc: 1.0000 - val_loss: 0.0903 - val_acc: 0.9722\n",
      "Epoch 61/100\n",
      " - 0s - loss: 0.0067 - acc: 1.0000 - val_loss: 0.0880 - val_acc: 0.9683\n",
      "Epoch 62/100\n",
      " - 0s - loss: 0.0061 - acc: 1.0000 - val_loss: 0.0879 - val_acc: 0.9722\n",
      "Epoch 63/100\n",
      " - 0s - loss: 0.0061 - acc: 1.0000 - val_loss: 0.0879 - val_acc: 0.9722\n",
      "Epoch 64/100\n",
      " - 0s - loss: 0.0118 - acc: 0.9990 - val_loss: 0.0862 - val_acc: 0.9762\n",
      "Epoch 65/100\n",
      " - 0s - loss: 0.0078 - acc: 1.0000 - val_loss: 0.0882 - val_acc: 0.9722\n",
      "Epoch 66/100\n",
      " - 0s - loss: 0.0056 - acc: 1.0000 - val_loss: 0.0846 - val_acc: 0.9722\n",
      "Epoch 67/100\n",
      " - 0s - loss: 0.0055 - acc: 1.0000 - val_loss: 0.0853 - val_acc: 0.9722\n",
      "Epoch 68/100\n",
      " - 0s - loss: 0.0053 - acc: 1.0000 - val_loss: 0.0896 - val_acc: 0.9722\n",
      "Epoch 69/100\n",
      " - 0s - loss: 0.0049 - acc: 1.0000 - val_loss: 0.0899 - val_acc: 0.9683\n",
      "Epoch 70/100\n",
      " - 0s - loss: 0.0046 - acc: 1.0000 - val_loss: 0.0870 - val_acc: 0.9722\n",
      "Epoch 71/100\n",
      " - 0s - loss: 0.0073 - acc: 1.0000 - val_loss: 0.0879 - val_acc: 0.9683\n",
      "Epoch 72/100\n",
      " - 0s - loss: 0.0046 - acc: 1.0000 - val_loss: 0.0873 - val_acc: 0.9683\n",
      "Epoch 73/100\n",
      " - 0s - loss: 0.0042 - acc: 1.0000 - val_loss: 0.0875 - val_acc: 0.9683\n",
      "Epoch 74/100\n",
      " - 0s - loss: 0.0040 - acc: 1.0000 - val_loss: 0.0862 - val_acc: 0.9683\n",
      "Epoch 75/100\n",
      " - 0s - loss: 0.0037 - acc: 1.0000 - val_loss: 0.0870 - val_acc: 0.9683\n",
      "Epoch 76/100\n",
      " - 0s - loss: 0.0037 - acc: 1.0000 - val_loss: 0.0863 - val_acc: 0.9722\n",
      "Epoch 77/100\n",
      " - 0s - loss: 0.0035 - acc: 1.0000 - val_loss: 0.0852 - val_acc: 0.9683\n",
      "Epoch 78/100\n",
      " - 0s - loss: 0.0035 - acc: 1.0000 - val_loss: 0.0864 - val_acc: 0.9683\n",
      "Epoch 79/100\n",
      " - 0s - loss: 0.0034 - acc: 1.0000 - val_loss: 0.0859 - val_acc: 0.9722\n",
      "Epoch 80/100\n",
      " - 0s - loss: 0.0032 - acc: 1.0000 - val_loss: 0.0846 - val_acc: 0.9683\n",
      "Epoch 81/100\n",
      " - 0s - loss: 0.0033 - acc: 1.0000 - val_loss: 0.0864 - val_acc: 0.9722\n",
      "Epoch 82/100\n",
      " - 0s - loss: 0.0031 - acc: 1.0000 - val_loss: 0.0855 - val_acc: 0.9762\n",
      "Epoch 83/100\n",
      " - 0s - loss: 0.0031 - acc: 1.0000 - val_loss: 0.0861 - val_acc: 0.9683\n",
      "Epoch 84/100\n",
      " - 0s - loss: 0.0029 - acc: 1.0000 - val_loss: 0.0851 - val_acc: 0.9722\n",
      "Epoch 85/100\n",
      " - 0s - loss: 0.0028 - acc: 1.0000 - val_loss: 0.0848 - val_acc: 0.9722\n",
      "Epoch 86/100\n",
      " - 0s - loss: 0.0027 - acc: 1.0000 - val_loss: 0.0859 - val_acc: 0.9683\n",
      "Epoch 87/100\n",
      " - 0s - loss: 0.0028 - acc: 1.0000 - val_loss: 0.0836 - val_acc: 0.9722\n",
      "Epoch 88/100\n",
      " - 0s - loss: 0.0027 - acc: 1.0000 - val_loss: 0.0856 - val_acc: 0.9683\n",
      "Epoch 89/100\n",
      " - 0s - loss: 0.0026 - acc: 1.0000 - val_loss: 0.0856 - val_acc: 0.9802\n",
      "Epoch 90/100\n",
      " - 0s - loss: 0.0026 - acc: 1.0000 - val_loss: 0.0846 - val_acc: 0.9722\n",
      "Epoch 91/100\n",
      " - 0s - loss: 0.0025 - acc: 1.0000 - val_loss: 0.0839 - val_acc: 0.9722\n",
      "Epoch 92/100\n",
      " - 0s - loss: 0.0024 - acc: 1.0000 - val_loss: 0.0853 - val_acc: 0.9762\n",
      "Epoch 93/100\n",
      " - 0s - loss: 0.0024 - acc: 1.0000 - val_loss: 0.0843 - val_acc: 0.9683\n"
     ]
    },
    {
     "name": "stdout",
     "output_type": "stream",
     "text": [
      "Epoch 94/100\n",
      " - 0s - loss: 0.0022 - acc: 1.0000 - val_loss: 0.0838 - val_acc: 0.9722\n",
      "Epoch 95/100\n",
      " - 0s - loss: 0.0022 - acc: 1.0000 - val_loss: 0.0846 - val_acc: 0.9722\n",
      "Epoch 96/100\n",
      " - 0s - loss: 0.0022 - acc: 1.0000 - val_loss: 0.0859 - val_acc: 0.9722\n",
      "Epoch 97/100\n",
      " - 0s - loss: 0.0022 - acc: 1.0000 - val_loss: 0.0829 - val_acc: 0.9762\n",
      "Epoch 98/100\n",
      " - 0s - loss: 0.0021 - acc: 1.0000 - val_loss: 0.0843 - val_acc: 0.9722\n",
      "Epoch 99/100\n",
      " - 0s - loss: 0.0020 - acc: 1.0000 - val_loss: 0.0841 - val_acc: 0.9762\n",
      "Epoch 100/100\n",
      " - 0s - loss: 0.0019 - acc: 1.0000 - val_loss: 0.0838 - val_acc: 0.9762\n"
     ]
    }
   ],
   "source": [
    "history = model.fit(x_train, y_train, verbose = 2, epochs = 100, validation_split = 0.2, batch_size = 50)"
   ]
  },
  {
   "cell_type": "code",
   "execution_count": 31,
   "metadata": {},
   "outputs": [
    {
     "data": {
      "image/png": "[encoded data removed]",
      "text/plain": [
       "<Figure size 432x288 with 1 Axes>"
      ]
     },
     "metadata": {
      "needs_background": "light"
     },
     "output_type": "display_data"
    }
   ],
   "source": [
    "plt.plot(history.history['acc'])\n",
    "plt.plot(history.history['val_acc'])\n",
    "plt.legend(['training', 'validation'], loc = 'upper left')\n",
    "plt.show()"
   ]
  },
  {
   "cell_type": "code",
   "execution_count": 32,
   "metadata": {},
   "outputs": [
    {
     "name": "stdout",
     "output_type": "stream",
     "text": [
      "540/540 [==============================] - 0s 813us/step\n",
      "Test accuracy: 0.9796296305126614\n"
     ]
    }
   ],
   "source": [
    "result = model.evaluate(x_test, y_test)\n",
    "print(\"Test accuracy:\", result[1])"
   ]
  },
  {
   "cell_type": "code",
   "execution_count": null,
   "metadata": {},
   "outputs": [],
   "source": []
  }
 ],
 "metadata": {
  "kernelspec": {
   "display_name": "Python 3",
   "language": "python",
   "name": "python3"
  },
  "language_info": {
   "codemirror_mode": {
    "name": "ipython",
    "version": 3
   },
   "file_extension": ".py",
   "mimetype": "text/x-python",
   "name": "python",
   "nbconvert_exporter": "python",
   "pygments_lexer": "ipython3",
   "version": "3.6.7"
  }
 },
 "nbformat": 4,
 "nbformat_minor": 2
}
