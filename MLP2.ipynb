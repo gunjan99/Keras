{
 "cells": [
  {
   "cell_type": "code",
   "execution_count": 1,
   "metadata": {},
   "outputs": [
    {
     "name": "stderr",
     "output_type": "stream",
     "text": [
      "Using TensorFlow backend.\n"
     ]
    }
   ],
   "source": [
    "import matplotlib.pyplot as plt\n",
    "from keras.datasets import mnist\n",
    "from keras.models import Sequential\n",
    "from keras.utils.np_utils import to_categorical"
   ]
  },
  {
   "cell_type": "code",
   "execution_count": 2,
   "metadata": {},
   "outputs": [],
   "source": [
    "(x_train, y_train), (x_test, y_test) = mnist.load_data()"
   ]
  },
  {
   "cell_type": "code",
   "execution_count": 3,
   "metadata": {},
   "outputs": [
    {
     "data": {
      "image/png": "[encoded data removed]",
      "text/plain": [
       "<Figure size 432x288 with 1 Axes>"
      ]
     },
     "metadata": {
      "needs_background": "light"
     },
     "output_type": "display_data"
    },
    {
     "name": "stdout",
     "output_type": "stream",
     "text": [
      "label: 5\n"
     ]
    }
   ],
   "source": [
    "plt.imshow(x_train[0])\n",
    "plt.show()\n",
    "print(\"label:\", y_train[0])"
   ]
  },
  {
   "cell_type": "code",
   "execution_count": 4,
   "metadata": {},
   "outputs": [
    {
     "name": "stdout",
     "output_type": "stream",
     "text": [
      "(60000, 28, 28)\n",
      "(60000,)\n"
     ]
    }
   ],
   "source": [
    "print(x_train.shape)\n",
    "print(y_train.shape)"
   ]
  },
  {
   "cell_type": "code",
   "execution_count": 5,
   "metadata": {},
   "outputs": [],
   "source": [
    "from sklearn.model_selection import train_test_split"
   ]
  },
  {
   "cell_type": "code",
   "execution_count": 6,
   "metadata": {},
   "outputs": [],
   "source": [
    "x_train = x_train.reshape((x_train.shape[0], -1))\n",
    "# y_train = y_train.reshape((y_train.shape[0], -1))  NO NEED TO RESHAPE Y OTHERWISE OUTPUT OF ONE-HOT ENCODING WILL BE WRONG\n",
    "x_test = x_test.reshape((x_test.shape[0], -1))\n",
    "# y_test = y_test.reshape((y_test.shape[0], -1))"
   ]
  },
  {
   "cell_type": "code",
   "execution_count": 7,
   "metadata": {},
   "outputs": [
    {
     "name": "stdout",
     "output_type": "stream",
     "text": [
      "(60000, 784) (60000,)\n"
     ]
    }
   ],
   "source": [
    "print(x_train.shape, y_train.shape)"
   ]
  },
  {
   "cell_type": "code",
   "execution_count": 8,
   "metadata": {},
   "outputs": [],
   "source": [
    "# print(y_train.shape)"
   ]
  },
  {
   "cell_type": "code",
   "execution_count": 7,
   "metadata": {},
   "outputs": [
    {
     "name": "stdout",
     "output_type": "stream",
     "text": [
      "(60000, 10)\n"
     ]
    }
   ],
   "source": [
    "# x_train, _ , y_train, _ = train_test_split(x_train, y_train, test_size = 0.67, random_state = 7)\n",
    "y_train = to_categorical(y_train)\n",
    "y_test = to_categorical(y_test)\n",
    "print(y_train.shape)"
   ]
  },
  {
   "cell_type": "code",
   "execution_count": 8,
   "metadata": {},
   "outputs": [],
   "source": [
    "from keras.layers import Dense\n",
    "from keras import optimizers"
   ]
  },
  {
   "cell_type": "code",
   "execution_count": 11,
   "metadata": {},
   "outputs": [],
   "source": [
    "model = Sequential()"
   ]
  },
  {
   "cell_type": "code",
   "execution_count": 12,
   "metadata": {},
   "outputs": [
    {
     "name": "stdout",
     "output_type": "stream",
     "text": [
      "WARNING:tensorflow:From C:\\Users\\gunja\\Anaconda3\\lib\\site-packages\\tensorflow\\python\\framework\\op_def_library.py:263: colocate_with (from tensorflow.python.framework.ops) is deprecated and will be removed in a future version.\n",
      "Instructions for updating:\n",
      "Colocations handled automatically by placer.\n"
     ]
    }
   ],
   "source": [
    "model.add(Dense(50, input_shape=(784, ), activation = \"sigmoid\"))\n",
    "model.add(Dense(50, activation = \"sigmoid\"))\n",
    "model.add(Dense(50, activation = \"sigmoid\"))\n",
    "model.add(Dense(50, activation = \"sigmoid\"))\n",
    "model.add(Dense(10, activation = \"softmax\"))"
   ]
  },
  {
   "cell_type": "code",
   "execution_count": 13,
   "metadata": {},
   "outputs": [
    {
     "name": "stdout",
     "output_type": "stream",
     "text": [
      "_________________________________________________________________\n",
      "Layer (type)                 Output Shape              Param #   \n",
      "=================================================================\n",
      "dense_1 (Dense)              (None, 50)                39250     \n",
      "_________________________________________________________________\n",
      "dense_2 (Dense)              (None, 50)                2550      \n",
      "_________________________________________________________________\n",
      "dense_3 (Dense)              (None, 50)                2550      \n",
      "_________________________________________________________________\n",
      "dense_4 (Dense)              (None, 50)                2550      \n",
      "_________________________________________________________________\n",
      "dense_5 (Dense)              (None, 10)                510       \n",
      "=================================================================\n",
      "Total params: 47,410\n",
      "Trainable params: 47,410\n",
      "Non-trainable params: 0\n",
      "_________________________________________________________________\n"
     ]
    }
   ],
   "source": [
    "sgd = optimizers.SGD(lr = 0.001)\n",
    "model.compile(optimizer = sgd, loss = 'categorical_crossentropy', metrics = ['accuracy'])  #categorical_crossentropy when the output labels in one-hot encoding format\n",
    "model.summary()"
   ]
  },
  {
   "cell_type": "code",
   "execution_count": 14,
   "metadata": {},
   "outputs": [
    {
     "name": "stdout",
     "output_type": "stream",
     "text": [
      "WARNING:tensorflow:From C:\\Users\\gunja\\Anaconda3\\lib\\site-packages\\tensorflow\\python\\ops\\math_ops.py:3066: to_int32 (from tensorflow.python.ops.math_ops) is deprecated and will be removed in a future version.\n",
      "Instructions for updating:\n",
      "Use tf.cast instead.\n",
      "Train on 42000 samples, validate on 18000 samples\n",
      "Epoch 1/100\n",
      "42000/42000 [==============================] - 10s 229us/step - loss: 2.4733 - acc: 0.0976 - val_loss: 2.4492 - val_acc: 0.0968\n",
      "Epoch 2/100\n",
      "42000/42000 [==============================] - 8s 181us/step - loss: 2.4157 - acc: 0.0976 - val_loss: 2.4015 - val_acc: 0.0968\n",
      "Epoch 3/100\n",
      "42000/42000 [==============================] - 6s 154us/step - loss: 2.3775 - acc: 0.0976 - val_loss: 2.3694 - val_acc: 0.0968\n",
      "Epoch 4/100\n",
      "42000/42000 [==============================] - 4s 89us/step - loss: 2.3519 - acc: 0.0976 - val_loss: 2.3474 - val_acc: 0.0968\n",
      "Epoch 5/100\n",
      "42000/42000 [==============================] - 9s 210us/step - loss: 2.3345 - acc: 0.0976 - val_loss: 2.3327 - val_acc: 0.0971\n",
      "Epoch 6/100\n",
      "42000/42000 [==============================] - 4s 98us/step - loss: 2.3231 - acc: 0.1011 - val_loss: 2.3225 - val_acc: 0.1197\n",
      "Epoch 7/100\n",
      "42000/42000 [==============================] - 6s 140us/step - loss: 2.3153 - acc: 0.1086 - val_loss: 2.3157 - val_acc: 0.1079\n",
      "Epoch 8/100\n",
      "42000/42000 [==============================] - 9s 205us/step - loss: 2.3102 - acc: 0.1143 - val_loss: 2.3112 - val_acc: 0.1079\n",
      "Epoch 9/100\n",
      "42000/42000 [==============================] - 9s 207us/step - loss: 2.3069 - acc: 0.1143 - val_loss: 2.3081 - val_acc: 0.1079s - loss:\n",
      "Epoch 10/100\n",
      "42000/42000 [==============================] - 3s 76us/step - loss: 2.3047 - acc: 0.1143 - val_loss: 2.3061 - val_acc: 0.1079\n",
      "Epoch 11/100\n",
      "42000/42000 [==============================] - 5s 112us/step - loss: 2.3032 - acc: 0.1143 - val_loss: 2.3046 - val_acc: 0.1079\n",
      "Epoch 12/100\n",
      "42000/42000 [==============================] - 9s 214us/step - loss: 2.3023 - acc: 0.1143 - val_loss: 2.3036 - val_acc: 0.1079\n",
      "Epoch 13/100\n",
      "42000/42000 [==============================] - 8s 185us/step - loss: 2.3016 - acc: 0.1143 - val_loss: 2.3030 - val_acc: 0.1079\n",
      "Epoch 14/100\n",
      "42000/42000 [==============================] - 4s 90us/step - loss: 2.3012 - acc: 0.1143 - val_loss: 2.3025 - val_acc: 0.1079\n",
      "Epoch 15/100\n",
      "42000/42000 [==============================] - 8s 192us/step - loss: 2.3009 - acc: 0.1143 - val_loss: 2.3021 - val_acc: 0.1079\n",
      "Epoch 16/100\n",
      "42000/42000 [==============================] - 11s 263us/step - loss: 2.3007 - acc: 0.1143 - val_loss: 2.3019 - val_acc: 0.107906 - acc: 0 - ETA: 4s - loss: 2.3006 -  - ETA: 3\n",
      "Epoch 17/100\n",
      "42000/42000 [==============================] - 10s 249us/step - loss: 2.3005 - acc: 0.1143 - val_loss: 2.3017 - val_acc: 0.1079\n",
      "Epoch 18/100\n",
      "42000/42000 [==============================] - 8s 189us/step - loss: 2.3004 - acc: 0.1143 - val_loss: 2.3014 - val_acc: 0.1079\n",
      "Epoch 19/100\n",
      "42000/42000 [==============================] - 6s 144us/step - loss: 2.3002 - acc: 0.1143 - val_loss: 2.3013 - val_acc: 0.1079\n",
      "Epoch 20/100\n",
      "42000/42000 [==============================] - 5s 118us/step - loss: 2.3001 - acc: 0.1143 - val_loss: 2.3012 - val_acc: 0.1079\n",
      "Epoch 21/100\n",
      "42000/42000 [==============================] - 7s 177us/step - loss: 2.3000 - acc: 0.1143 - val_loss: 2.3011 - val_acc: 0.1079acc - ETA: 1s \n",
      "Epoch 22/100\n",
      "42000/42000 [==============================] - 3s 66us/step - loss: 2.2999 - acc: 0.1143 - val_loss: 2.3010 - val_acc: 0.1079\n",
      "Epoch 23/100\n",
      "42000/42000 [==============================] - 3s 65us/step - loss: 2.2998 - acc: 0.1143 - val_loss: 2.3009 - val_acc: 0.1079\n",
      "Epoch 24/100\n",
      "42000/42000 [==============================] - 6s 146us/step - loss: 2.2998 - acc: 0.1143 - val_loss: 2.3008 - val_acc: 0.1079\n",
      "Epoch 25/100\n",
      "42000/42000 [==============================] - 3s 69us/step - loss: 2.2997 - acc: 0.1143 - val_loss: 2.3007 - val_acc: 0.1079\n",
      "Epoch 26/100\n",
      "42000/42000 [==============================] - 6s 134us/step - loss: 2.2996 - acc: 0.1143 - val_loss: 2.3006 - val_acc: 0.1079\n",
      "Epoch 27/100\n",
      "42000/42000 [==============================] - 3s 61us/step - loss: 2.2995 - acc: 0.1143 - val_loss: 2.3005 - val_acc: 0.1079\n",
      "Epoch 28/100\n",
      "42000/42000 [==============================] - 3s 65us/step - loss: 2.2994 - acc: 0.1143 - val_loss: 2.3004 - val_acc: 0.1079\n",
      "Epoch 29/100\n",
      "42000/42000 [==============================] - 4s 103us/step - loss: 2.2994 - acc: 0.1143 - val_loss: 2.3003 - val_acc: 0.1079: 1s - loss: 2.2\n",
      "Epoch 30/100\n",
      "42000/42000 [==============================] - 6s 153us/step - loss: 2.2993 - acc: 0.1143 - val_loss: 2.3002 - val_acc: 0.1079\n",
      "Epoch 31/100\n",
      "42000/42000 [==============================] - 6s 144us/step - loss: 2.2992 - acc: 0.1143 - val_loss: 2.3001 - val_acc: 0.1079\n",
      "Epoch 32/100\n",
      "42000/42000 [==============================] - 6s 147us/step - loss: 2.2991 - acc: 0.1143 - val_loss: 2.3001 - val_acc: 0.1079: 0s - loss: 2.2991\n",
      "Epoch 33/100\n",
      "42000/42000 [==============================] - 7s 170us/step - loss: 2.2990 - acc: 0.1143 - val_loss: 2.3000 - val_acc: 0.1079\n",
      "Epoch 34/100\n",
      "42000/42000 [==============================] - 8s 196us/step - loss: 2.2990 - acc: 0.1143 - val_loss: 2.2999 - val_acc: 0.1079\n",
      "Epoch 35/100\n",
      "42000/42000 [==============================] - 4s 89us/step - loss: 2.2989 - acc: 0.1143 - val_loss: 2.2998 - val_acc: 0.1079\n",
      "Epoch 36/100\n",
      "42000/42000 [==============================] - 11s 255us/step - loss: 2.2988 - acc: 0.1143 - val_loss: 2.2998 - val_acc: 0.1079\n",
      "Epoch 37/100\n",
      "42000/42000 [==============================] - 8s 199us/step - loss: 2.2987 - acc: 0.1143 - val_loss: 2.2997 - val_acc: 0.1079\n",
      "Epoch 38/100\n",
      "42000/42000 [==============================] - 8s 192us/step - loss: 2.2986 - acc: 0.1143 - val_loss: 2.2996 - val_acc: 0.1079oss - ETA: \n",
      "Epoch 39/100\n",
      "42000/42000 [==============================] - 8s 201us/step - loss: 2.2986 - acc: 0.1143 - val_loss: 2.2995 - val_acc: 0.1079\n",
      "Epoch 40/100\n",
      "42000/42000 [==============================] - 9s 216us/step - loss: 2.2985 - acc: 0.1143 - val_loss: 2.2995 - val_acc: 0.1079\n",
      "Epoch 41/100\n",
      "42000/42000 [==============================] - 7s 160us/step - loss: 2.2984 - acc: 0.1143 - val_loss: 2.2994 - val_acc: 0.1079\n",
      "Epoch 42/100\n",
      "42000/42000 [==============================] - 10s 232us/step - loss: 2.2983 - acc: 0.1143 - val_loss: 2.2993 - val_acc: 0.1079\n",
      "Epoch 43/100\n",
      "42000/42000 [==============================] - 11s 259us/step - loss: 2.2982 - acc: 0.1143 - val_loss: 2.2992 - val_acc: 0.1079ETA: 2s - loss: 2.2\n",
      "Epoch 44/100\n",
      "42000/42000 [==============================] - 10s 241us/step - loss: 2.2981 - acc: 0.1143 - val_loss: 2.2991 - val_acc: 0.1079\n",
      "Epoch 45/100\n",
      "42000/42000 [==============================] - 10s 240us/step - loss: 2.2981 - acc: 0.1143 - val_loss: 2.2991 - val_acc: 0.1079 - loss: 2.297 - ETA: 0s - loss: 2.2981 - acc\n",
      "Epoch 46/100\n",
      "42000/42000 [==============================] - 14s 329us/step - loss: 2.2980 - acc: 0.1143 - val_loss: 2.2990 - val_acc: 0.1079 0.1 - ETA: 1s - loss: 2.2981 - acc: 0 - ETA: 0s - loss: 2.2981 - a\n",
      "Epoch 47/100\n",
      "42000/42000 [==============================] - 10s 245us/step - loss: 2.2979 - acc: 0.1143 - val_loss: 2.2989 - val_acc: 0.1079oss: 2.2976 - acc: 0 - ETA: \n",
      "Epoch 48/100\n",
      "42000/42000 [==============================] - 13s 317us/step - loss: 2.2978 - acc: 0.1143 - val_loss: 2.2988 - val_acc: 0.1079 - loss:  - E - ETA: 3s - loss:  - ETA: 1s - loss: 2.2979 - acc: 0.1 - ETA: 1s - loss: 2.2978 - acc: 0.11 - ETA: 1s - loss: \n",
      "Epoch 49/100\n",
      "42000/42000 [==============================] - 12s 290us/step - loss: 2.2978 - acc: 0.1143 - val_loss: 2.2987 - val_acc: 0.1079loss - ETA: 2s - loss: 2.2977 - acc - ETA: 2s - loss: 2.2976 - acc: 0.11 - ETA: - ETA: 1s - loss: 2.297 - ETA: 0s - loss: 2.2977 - acc: 0\n",
      "Epoch 50/100\n",
      "42000/42000 [==============================] - 14s 335us/step - loss: 2.2977 - acc: 0.1143 - val_loss: 2.2987 - val_acc: 0.107978 - acc - ETA: 2s - loss: 2.2978 - acc: 0.1 - ETA: 1s - loss: 2. - ETA: 0s - loss: 2.2977 - acc: 0.11\n",
      "Epoch 51/100\n",
      "42000/42000 [==============================] - 13s 315us/step - loss: 2.2976 - acc: 0.1143 - val_loss: 2.2986 - val_acc: 0.1079\n",
      "Epoch 52/100\n",
      "42000/42000 [==============================] - 12s 292us/step - loss: 2.2975 - acc: 0.1143 - val_loss: 2.2985 - val_acc: 0.1079TA: 2s - loss: 2.2976 - acc: 0.113 - ETA:\n",
      "Epoch 53/100\n",
      "42000/42000 [==============================] - 13s 303us/step - loss: 2.2974 - acc: 0.1143 - val_loss: 2.2984 - val_acc: 0.10792966  - ETA: 4s - loss: - ETA: 2s - loss: 2.2973 - acc: - ETA: 1s - loss: 2.2973 - acc - ETA: 1s - loss: 2.2972 - acc: 0.1 - ETA: 1s - loss: 2.2972 -  - ETA: 0s - loss: 2.2973 - ac\n",
      "Epoch 54/100\n",
      "42000/42000 [==============================] - 12s 277us/step - loss: 2.2974 - acc: 0.1143 - val_loss: 2.2984 - val_acc: 0.1079\n",
      "Epoch 55/100\n",
      "42000/42000 [==============================] - 7s 176us/step - loss: 2.2973 - acc: 0.1143 - val_loss: 2.2983 - val_acc: 0.1079\n",
      "Epoch 56/100\n",
      "42000/42000 [==============================] - 10s 228us/step - loss: 2.2972 - acc: 0.1143 - val_loss: 2.2982 - val_acc: 0.1079 12s - loss: 2.29 - ETA: 12s - loss: 2.2963 - ac\n",
      "Epoch 57/100\n",
      "42000/42000 [==============================] - 12s 297us/step - loss: 2.2971 - acc: 0.1143 - val_loss: 2.2982 - val_acc: 0.1079 5s - loss: 2.2978  - ETA: 5s  - ETA: 2s - loss - ETA: 0s - loss: 2.2972 - \n",
      "Epoch 58/100\n",
      "42000/42000 [==============================] - 15s 348us/step - loss: 2.2971 - acc: 0.1143 - val_loss: 2.2981 - val_acc: 0.1079TA - ETA: 4s - loss: 2.2969 - acc: 0 - ETA: 3s - loss: 2.2970 - acc: 0.114  - ETA: 0s - loss: 2.2971 - acc: 0.\n",
      "Epoch 59/100\n",
      "42000/42000 [==============================] - 8s 186us/step - loss: 2.2970 - acc: 0.1143 - val_loss: 2.2980 - val_acc: 0.1079 - loss: 2.29 - ETA: 2s - loss: 2.2968 - ETA: 1s - loss: 2.2970 - a - ETA: 0s - loss: 2.2971 \n",
      "Epoch 60/100\n",
      "42000/42000 [==============================] - 9s 217us/step - loss: 2.2969 - acc: 0.1143 - val_loss: 2.2979 - val_acc: 0.1079: 2s - loss: 2.2970 - acc: 0 \n",
      "Epoch 61/100\n",
      "42000/42000 [==============================] - 9s 211us/step - loss: 2.2968 - acc: 0.1143 - val_loss: 2.2978 - val_acc: 0.1079\n",
      "Epoch 62/100\n",
      "42000/42000 [==============================] - 8s 187us/step - loss: 2.2968 - acc: 0.1143 - val_loss: 2.2977 - val_acc: 0.1079\n",
      "Epoch 63/100\n",
      "42000/42000 [==============================] - 12s 294us/step - loss: 2.2967 - acc: 0.1143 - val_loss: 2.2976 - val_acc: 0.1079 6s - loss: 2.2961 - a - ETA: 5s  -\n",
      "Epoch 64/100\n",
      "42000/42000 [==============================] - 9s 224us/step - loss: 2.2966 - acc: 0.1143 - val_loss: 2.2976 - val_acc: 0.1079\n",
      "Epoch 65/100\n",
      "42000/42000 [==============================] - 13s 309us/step - loss: 2.2965 - acc: 0.1143 - val_loss: 2.2975 - val_acc: 0.1079\n",
      "Epoch 66/100\n",
      "42000/42000 [==============================] - 8s 179us/step - loss: 2.2964 - acc: 0.1143 - val_loss: 2.2974 - val_acc: 0.1079s - loss: 2.296\n",
      "Epoch 67/100\n",
      "42000/42000 [==============================] - 9s 219us/step - loss: 2.2964 - acc: 0.1143 - val_loss: 2.2973 - val_acc: 0.1079\n",
      "Epoch 68/100\n",
      "42000/42000 [==============================] - 9s 213us/step - loss: 2.2963 - acc: 0.1143 - val_loss: 2.2972 - val_acc: 0.1079\n",
      "Epoch 69/100\n",
      "42000/42000 [==============================] - 7s 166us/step - loss: 2.2962 - acc: 0.1143 - val_loss: 2.2972 - val_acc: 0.1079\n",
      "Epoch 70/100\n",
      "42000/42000 [==============================] - 5s 128us/step - loss: 2.2961 - acc: 0.1143 - val_loss: 2.2971 - val_acc: 0.1079\n",
      "Epoch 71/100\n",
      "42000/42000 [==============================] - 4s 97us/step - loss: 2.2961 - acc: 0.1143 - val_loss: 2.2970 - val_acc: 0.1079\n",
      "Epoch 72/100\n",
      "42000/42000 [==============================] - 8s 186us/step - loss: 2.2960 - acc: 0.1143 - val_loss: 2.2969 - val_acc: 0.1079 - loss: 2.2960 - acc: 0.1\n",
      "Epoch 73/100\n",
      "42000/42000 [==============================] - 5s 114us/step - loss: 2.2959 - acc: 0.1143 - val_loss: 2.2968 - val_acc: 0.1079\n",
      "Epoch 74/100\n",
      "42000/42000 [==============================] - 7s 171us/step - loss: 2.2958 - acc: 0.1143 - val_loss: 2.2968 - val_acc: 0.1079\n",
      "Epoch 75/100\n",
      "42000/42000 [==============================] - 4s 100us/step - loss: 2.2957 - acc: 0.1143 - val_loss: 2.2967 - val_acc: 0.1079\n",
      "Epoch 76/100\n",
      "42000/42000 [==============================] - 9s 211us/step - loss: 2.2957 - acc: 0.1143 - val_loss: 2.2966 - val_acc: 0.10791s - lo\n",
      "Epoch 77/100\n",
      "42000/42000 [==============================] - 6s 131us/step - loss: 2.2956 - acc: 0.1143 - val_loss: 2.2965 - val_acc: 0.1079\n",
      "Epoch 78/100\n",
      "42000/42000 [==============================] - 7s 174us/step - loss: 2.2955 - acc: 0.1143 - val_loss: 2.2965 - val_acc: 0.1079 -\n",
      "Epoch 79/100\n",
      "42000/42000 [==============================] - 11s 252us/step - loss: 2.2954 - acc: 0.1143 - val_loss: 2.2964 - val_acc: 0.107956 - acc: 0.113 - ETA: 2s - los\n",
      "Epoch 80/100\n",
      "42000/42000 [==============================] - 10s 241us/step - loss: 2.2954 - acc: 0.1143 - val_loss: 2.2963 - val_acc: 0.1079 2.2954 - acc: - ETA: 3s - loss: 2.2952 - acc - ETA: 2s - lo - ETA: 0s - loss: 2.2954 - acc: 0.11\n",
      "Epoch 81/100\n",
      "42000/42000 [==============================] - 9s 218us/step - loss: 2.2953 - acc: 0.1143 - val_loss: 2.2962 - val_acc: 0.1079\n",
      "Epoch 82/100\n",
      "42000/42000 [==============================] - 9s 221us/step - loss: 2.2952 - acc: 0.1143 - val_loss: 2.2962 - val_acc: 0.1079\n",
      "Epoch 83/100\n",
      "42000/42000 [==============================] - 12s 284us/step - loss: 2.2951 - acc: 0.1143 - val_loss: 2.2961 - val_acc: 0.1079\n",
      "Epoch 84/100\n",
      "42000/42000 [==============================] - 7s 170us/step - loss: 2.2950 - acc: 0.1143 - val_loss: 2.2960 - val_acc: 0.1079\n",
      "Epoch 85/100\n",
      "42000/42000 [==============================] - 4s 93us/step - loss: 2.2950 - acc: 0.1143 - val_loss: 2.2960 - val_acc: 0.1079\n",
      "Epoch 86/100\n",
      "42000/42000 [==============================] - 6s 153us/step - loss: 2.2949 - acc: 0.1143 - val_loss: 2.2959 - val_acc: 0.1079\n",
      "Epoch 87/100\n",
      "42000/42000 [==============================] - 4s 88us/step - loss: 2.2948 - acc: 0.1143 - val_loss: 2.2958 - val_acc: 0.1079\n",
      "Epoch 88/100\n",
      "42000/42000 [==============================] - 3s 83us/step - loss: 2.2947 - acc: 0.1143 - val_loss: 2.2957 - val_acc: 0.1079\n",
      "Epoch 89/100\n",
      "42000/42000 [==============================] - 4s 86us/step - loss: 2.2947 - acc: 0.1143 - val_loss: 2.2957 - val_acc: 0.1079\n",
      "Epoch 90/100\n",
      "42000/42000 [==============================] - 6s 139us/step - loss: 2.2946 - acc: 0.1143 - val_loss: 2.2956 - val_acc: 0.1079\n",
      "Epoch 91/100\n",
      "42000/42000 [==============================] - 6s 145us/step - loss: 2.2945 - acc: 0.1143 - val_loss: 2.2955 - val_acc: 0.1079\n",
      "Epoch 92/100\n",
      "42000/42000 [==============================] - 4s 85us/step - loss: 2.2944 - acc: 0.1143 - val_loss: 2.2954 - val_acc: 0.1079\n",
      "Epoch 93/100\n",
      "42000/42000 [==============================] - 5s 130us/step - loss: 2.2943 - acc: 0.1143 - val_loss: 2.2953 - val_acc: 0.1079\n",
      "Epoch 94/100\n",
      "42000/42000 [==============================] - 3s 81us/step - loss: 2.2943 - acc: 0.1143 - val_loss: 2.2952 - val_acc: 0.1079\n",
      "Epoch 95/100\n",
      "42000/42000 [==============================] - 3s 82us/step - loss: 2.2942 - acc: 0.1143 - val_loss: 2.2952 - val_acc: 0.1079\n",
      "Epoch 96/100\n",
      "42000/42000 [==============================] - 6s 139us/step - loss: 2.2941 - acc: 0.1143 - val_loss: 2.2951 - val_acc: 0.1079\n",
      "Epoch 97/100\n",
      "42000/42000 [==============================] - 8s 181us/step - loss: 2.2940 - acc: 0.1143 - val_loss: 2.2950 - val_acc: 0.1079 loss: 2.2939 - acc: - ETA: 0s - loss: 2.2941 - acc:\n",
      "Epoch 98/100\n",
      "42000/42000 [==============================] - 8s 181us/step - loss: 2.2939 - acc: 0.1143 - val_loss: 2.2949 - val_acc: 0.1079\n",
      "Epoch 99/100\n",
      "42000/42000 [==============================] - 5s 110us/step - loss: 2.2939 - acc: 0.1143 - val_loss: 2.2949 - val_acc: 0.1079\n",
      "Epoch 100/100\n",
      "42000/42000 [==============================] - 8s 189us/step - loss: 2.2938 - acc: 0.1143 - val_loss: 2.2948 - val_acc: 0.1079oss: 2.2938 - acc: 0.1 - ETA: 0s - loss\n"
     ]
    }
   ],
   "source": [
    "history = model.fit(x_train, y_train, batch_size = 256, validation_split = 0.3, epochs = 100, verbose = 1)\n",
    "# history = model.fit(X_train, y_train, batch_size = 256, validation_split = 0.3, epochs = 100, verbose = 0)"
   ]
  },
  {
   "cell_type": "code",
   "execution_count": 15,
   "metadata": {},
   "outputs": [
    {
     "data": {
      "image/png": "[encoded data removed]",
      "text/plain": [
       "<Figure size 432x288 with 1 Axes>"
      ]
     },
     "metadata": {
      "needs_background": "light"
     },
     "output_type": "display_data"
    }
   ],
   "source": [
    "# model.fit returns A History object. Its History.history attribute is a record of training loss values and metrics values at successive epochs, as well as validation loss values and validation metrics values (if applicable).\n",
    "plt.plot(history.history['acc'])\n",
    "plt.plot(history.history['val_acc'])\n",
    "plt.legend(['training', 'validation'], loc='upper left')\n",
    "plt.show()"
   ]
  },
  {
   "cell_type": "code",
   "execution_count": 16,
   "metadata": {},
   "outputs": [
    {
     "name": "stdout",
     "output_type": "stream",
     "text": [
      "10000/10000 [==============================] - 1s 94us/step\n"
     ]
    }
   ],
   "source": [
    "results = model.evaluate(x_test, y_test)"
   ]
  },
  {
   "cell_type": "code",
   "execution_count": 17,
   "metadata": {},
   "outputs": [
    {
     "name": "stdout",
     "output_type": "stream",
     "text": [
      "0.1135\n"
     ]
    }
   ],
   "source": [
    "print(results[1])"
   ]
  },
  {
   "cell_type": "markdown",
   "metadata": {},
   "source": [
    "# Improving model by initializing weights"
   ]
  },
  {
   "cell_type": "code",
   "execution_count": 18,
   "metadata": {},
   "outputs": [],
   "source": [
    "def mlp_model():\n",
    "    model = Sequential()\n",
    "# initializer sets a way for setting initial random weights\n",
    "#     model.add(Dense(50, input_shape = (784, ), kernel_initializer='he_normal'))\n",
    "    model.add(Dense(50, input_shape=(784, ), kernel_initializer='he_normal', activation = 'sigmoid'))\n",
    "    model.add(Dense(50, kernel_initializer='he_normal', activation = 'sigmoid'))\n",
    "    model.add(Dense(50, kernel_initializer='he_normal', activation = 'sigmoid'))\n",
    "    model.add(Dense(50, kernel_initializer='he_normal', activation = 'sigmoid'))\n",
    "    model.add(Dense(10, kernel_initializer='he_normal', activation = 'softmax'))\n",
    "    sgd = optimizers.SGD(lr=.001)\n",
    "    model.compile(optimizer = sgd, loss = 'categorical_crossentropy', metrics = ['acc'])\n",
    "    return model"
   ]
  },
  {
   "cell_type": "code",
   "execution_count": 19,
   "metadata": {},
   "outputs": [
    {
     "name": "stdout",
     "output_type": "stream",
     "text": [
      "<keras.engine.sequential.Sequential object at 0x00000124B16BD3C8>\n"
     ]
    }
   ],
   "source": [
    "model = mlp_model()\n",
    "print(model)\n",
    "# history = model.fit(x_train, y_train, validation_split=0.3, epochs = 100, verbose = 1)"
   ]
  },
  {
   "cell_type": "code",
   "execution_count": 20,
   "metadata": {},
   "outputs": [
    {
     "name": "stdout",
     "output_type": "stream",
     "text": [
      "Train on 42000 samples, validate on 18000 samples\n",
      "Epoch 1/100\n",
      "42000/42000 [==============================] - 10s 231us/step - loss: 2.3618 - acc: 0.1095 - val_loss: 2.3020 - val_acc: 0.1079\n",
      "Epoch 2/100\n",
      "42000/42000 [==============================] - 11s 266us/step - loss: 2.2948 - acc: 0.1143 - val_loss: 2.2928 - val_acc: 0.1079\n",
      "Epoch 3/100\n",
      "42000/42000 [==============================] - 13s 305us/step - loss: 2.2895 - acc: 0.1149 - val_loss: 2.2884 - val_acc: 0.1101\n",
      "Epoch 4/100\n",
      "42000/42000 [==============================] - 9s 221us/step - loss: 2.2855 - acc: 0.1213 - val_loss: 2.2846 - val_acc: 0.1248\n",
      "Epoch 5/100\n",
      "42000/42000 [==============================] - 9s 212us/step - loss: 2.2816 - acc: 0.1311 - val_loss: 2.2808 - val_acc: 0.1595\n",
      "Epoch 6/100\n",
      "42000/42000 [==============================] - 18s 435us/step - loss: 2.2778 - acc: 0.1590 - val_loss: 2.2769 - val_acc: 0.1566\n",
      "Epoch 7/100\n",
      "42000/42000 [==============================] - 18s 433us/step - loss: 2.2739 - acc: 0.1682 - val_loss: 2.2731 - val_acc: 0.1763\n",
      "Epoch 8/100\n",
      "42000/42000 [==============================] - 13s 306us/step - loss: 2.2699 - acc: 0.1819 - val_loss: 2.2690 - val_acc: 0.1906\n",
      "Epoch 9/100\n",
      "42000/42000 [==============================] - 9s 217us/step - loss: 2.2657 - acc: 0.1972 - val_loss: 2.2646 - val_acc: 0.1947\n",
      "Epoch 10/100\n",
      "42000/42000 [==============================] - 11s 271us/step - loss: 2.2613 - acc: 0.2028 - val_loss: 2.2603 - val_acc: 0.19670s - loss: 2.26\n",
      "Epoch 11/100\n",
      "42000/42000 [==============================] - 24s 568us/step - loss: 2.2566 - acc: 0.2066 - val_loss: 2.2553 - val_acc: 0.2014\n",
      "Epoch 12/100\n",
      "42000/42000 [==============================] - 19s 447us/step - loss: 2.2517 - acc: 0.2151 - val_loss: 2.2501 - val_acc: 0.2048\n",
      "Epoch 13/100\n",
      "42000/42000 [==============================] - 24s 575us/step - loss: 2.2463 - acc: 0.2184 - val_loss: 2.2448 - val_acc: 0.2087\n",
      "Epoch 14/100\n",
      "42000/42000 [==============================] - 7s 178us/step - loss: 2.2405 - acc: 0.2229 - val_loss: 2.2387 - val_acc: 0.2188\n",
      "Epoch 15/100\n",
      "42000/42000 [==============================] - 7s 178us/step - loss: 2.2341 - acc: 0.2302 - val_loss: 2.2318 - val_acc: 0.2333\n",
      "Epoch 16/100\n",
      "42000/42000 [==============================] - 8s 201us/step - loss: 2.2269 - acc: 0.2485 - val_loss: 2.2243 - val_acc: 0.2419\n",
      "Epoch 17/100\n",
      "42000/42000 [==============================] - 18s 417us/step - loss: 2.2189 - acc: 0.2585 - val_loss: 2.2160 - val_acc: 0.2450\n",
      "Epoch 18/100\n",
      "42000/42000 [==============================] - 14s 324us/step - loss: 2.2101 - acc: 0.2713 - val_loss: 2.2066 - val_acc: 0.2656\n",
      "Epoch 19/100\n",
      "42000/42000 [==============================] - 20s 465us/step - loss: 2.2003 - acc: 0.2780 - val_loss: 2.1964 - val_acc: 0.3017\n",
      "Epoch 20/100\n",
      "42000/42000 [==============================] - 23s 550us/step - loss: 2.1896 - acc: 0.3010 - val_loss: 2.1853 - val_acc: 0.3098\n",
      "Epoch 21/100\n",
      "42000/42000 [==============================] - 10s 237us/step - loss: 2.1777 - acc: 0.3034 - val_loss: 2.1724 - val_acc: 0.3415\n",
      "Epoch 22/100\n",
      "42000/42000 [==============================] - 15s 362us/step - loss: 2.1644 - acc: 0.3222 - val_loss: 2.1585 - val_acc: 0.3395\n",
      "Epoch 23/100\n",
      "42000/42000 [==============================] - 9s 224us/step - loss: 2.1498 - acc: 0.3487 - val_loss: 2.1430 - val_acc: 0.3373\n",
      "Epoch 24/100\n",
      "42000/42000 [==============================] - 13s 319us/step - loss: 2.1336 - acc: 0.3540 - val_loss: 2.1263 - val_acc: 0.3414acc: 0.35\n",
      "Epoch 25/100\n",
      "42000/42000 [==============================] - 26s 620us/step - loss: 2.1158 - acc: 0.3575 - val_loss: 2.1075 - val_acc: 0.3592\n",
      "Epoch 26/100\n",
      "42000/42000 [==============================] - 27s 635us/step - loss: 2.0962 - acc: 0.3671 - val_loss: 2.0871 - val_acc: 0.3681\n",
      "Epoch 27/100\n",
      "42000/42000 [==============================] - 14s 322us/step - loss: 2.0748 - acc: 0.3823 - val_loss: 2.0650 - val_acc: 0.3621\n",
      "Epoch 28/100\n",
      "42000/42000 [==============================] - 22s 515us/step - loss: 2.0515 - acc: 0.3807 - val_loss: 2.0406 - val_acc: 0.3771\n",
      "Epoch 29/100\n",
      "42000/42000 [==============================] - 22s 518us/step - loss: 2.0262 - acc: 0.3914 - val_loss: 2.0144 - val_acc: 0.3836\n",
      "Epoch 30/100\n",
      "42000/42000 [==============================] - 24s 571us/step - loss: 1.9990 - acc: 0.3932 - val_loss: 1.9863 - val_acc: 0.40737 - acc: 0.3 - ETA: 3s - loss: 2.0017 - acc - ETA: 3s - loss: 2.0 - ETA: 3s - ETA: 2s -  - ETA: 1s -  - ETA: 1s \n",
      "Epoch 31/100\n",
      "42000/42000 [==============================] - 13s 301us/step - loss: 1.9701 - acc: 0.4103 - val_loss: 1.9565 - val_acc: 0.4124\n",
      "Epoch 32/100\n",
      "42000/42000 [==============================] - 13s 306us/step - loss: 1.9394 - acc: 0.4152 - val_loss: 1.9250 - val_acc: 0.4243\n",
      "Epoch 33/100\n",
      "42000/42000 [==============================] - 8s 200us/step - loss: 1.9072 - acc: 0.4251 - val_loss: 1.8923 - val_acc: 0.4291\n",
      "Epoch 34/100\n",
      "42000/42000 [==============================] - 17s 416us/step - loss: 1.8740 - acc: 0.4357 - val_loss: 1.8586 - val_acc: 0.4223\n",
      "Epoch 35/100\n",
      "42000/42000 [==============================] - 26s 618us/step - loss: 1.8394 - acc: 0.4341 - val_loss: 1.8237 - val_acc: 0.4384- acc: 0. - ETA: 0s - loss: 1.8394 - \n",
      "Epoch 36/100\n",
      "42000/42000 [==============================] - 23s 539us/step - loss: 1.8041 - acc: 0.4460 - val_loss: 1.7882 - val_acc: 0.4409\n",
      "Epoch 37/100\n",
      "42000/42000 [==============================] - 21s 511us/step - loss: 1.7681 - acc: 0.4522 - val_loss: 1.7523 - val_acc: 0.4423\n",
      "Epoch 38/100\n",
      "42000/42000 [==============================] - 19s 456us/step - loss: 1.7322 - acc: 0.4543 - val_loss: 1.7162 - val_acc: 0.4461\n",
      "Epoch 39/100\n",
      "42000/42000 [==============================] - 13s 312us/step - loss: 1.6961 - acc: 0.4577 - val_loss: 1.6802 - val_acc: 0.4537\n",
      "Epoch 40/100\n",
      "42000/42000 [==============================] - 9s 205us/step - loss: 1.6605 - acc: 0.4648 - val_loss: 1.6448 - val_acc: 0.4641\n",
      "Epoch 41/100\n",
      "42000/42000 [==============================] - 13s 312us/step - loss: 1.6256 - acc: 0.4783 - val_loss: 1.6107 - val_acc: 0.4643\n",
      "Epoch 42/100\n",
      "42000/42000 [==============================] - 9s 217us/step - loss: 1.5916 - acc: 0.4809 - val_loss: 1.5769 - val_acc: 0.4738\n",
      "Epoch 43/100\n",
      "42000/42000 [==============================] - 14s 334us/step - loss: 1.5585 - acc: 0.4904 - val_loss: 1.5447 - val_acc: 0.4780\n",
      "Epoch 44/100\n",
      "42000/42000 [==============================] - 14s 340us/step - loss: 1.5264 - acc: 0.5066 - val_loss: 1.5138 - val_acc: 0.4759\n",
      "Epoch 45/100\n",
      "42000/42000 [==============================] - 13s 310us/step - loss: 1.4957 - acc: 0.5045 - val_loss: 1.4838 - val_acc: 0.5036\n",
      "Epoch 46/100\n",
      "42000/42000 [==============================] - 9s 223us/step - loss: 1.4662 - acc: 0.5188 - val_loss: 1.4551 - val_acc: 0.5160\n",
      "Epoch 47/100\n",
      "42000/42000 [==============================] - 10s 244us/step - loss: 1.4383 - acc: 0.5343 - val_loss: 1.4289 - val_acc: 0.5380\n",
      "Epoch 48/100\n",
      "42000/42000 [==============================] - 14s 329us/step - loss: 1.4122 - acc: 0.5478 - val_loss: 1.4032 - val_acc: 0.5488\n",
      "Epoch 49/100\n",
      "42000/42000 [==============================] - 15s 361us/step - loss: 1.3876 - acc: 0.5651 - val_loss: 1.3803 - val_acc: 0.5568\n",
      "Epoch 50/100\n",
      "42000/42000 [==============================] - 18s 428us/step - loss: 1.3639 - acc: 0.5744 - val_loss: 1.3568 - val_acc: 0.5701\n",
      "Epoch 51/100\n",
      "42000/42000 [==============================] - 15s 365us/step - loss: 1.3409 - acc: 0.5864 - val_loss: 1.3339 - val_acc: 0.5810\n",
      "Epoch 52/100\n",
      "42000/42000 [==============================] - 12s 285us/step - loss: 1.3195 - acc: 0.5996 - val_loss: 1.3131 - val_acc: 0.5967\n",
      "Epoch 53/100\n",
      "42000/42000 [==============================] - 20s 473us/step - loss: 1.2989 - acc: 0.6169 - val_loss: 1.2941 - val_acc: 0.6032\n",
      "Epoch 54/100\n",
      "42000/42000 [==============================] - 18s 417us/step - loss: 1.2796 - acc: 0.6188 - val_loss: 1.2743 - val_acc: 0.6257\n",
      "Epoch 55/100\n",
      "42000/42000 [==============================] - 14s 327us/step - loss: 1.2614 - acc: 0.6333 - val_loss: 1.2572 - val_acc: 0.6347\n",
      "Epoch 56/100\n",
      "42000/42000 [==============================] - 21s 490us/step - loss: 1.2437 - acc: 0.6413 - val_loss: 1.2399 - val_acc: 0.6305\n",
      "Epoch 57/100\n",
      "42000/42000 [==============================] - 14s 323us/step - loss: 1.2267 - acc: 0.6478 - val_loss: 1.2241 - val_acc: 0.6450\n",
      "Epoch 58/100\n",
      "42000/42000 [==============================] - 9s 204us/step - loss: 1.2106 - acc: 0.6540 - val_loss: 1.2082 - val_acc: 0.6547\n",
      "Epoch 59/100\n",
      "42000/42000 [==============================] - 7s 172us/step - loss: 1.1945 - acc: 0.6680 - val_loss: 1.1927 - val_acc: 0.6673\n",
      "Epoch 60/100\n",
      "42000/42000 [==============================] - 7s 170us/step - loss: 1.1800 - acc: 0.6742 - val_loss: 1.1775 - val_acc: 0.6696\n",
      "Epoch 61/100\n",
      "42000/42000 [==============================] - 7s 169us/step - loss: 1.1646 - acc: 0.6810 - val_loss: 1.1641 - val_acc: 0.6763\n",
      "Epoch 62/100\n",
      "42000/42000 [==============================] - 7s 173us/step - loss: 1.1506 - acc: 0.6830 - val_loss: 1.1501 - val_acc: 0.6982\n",
      "Epoch 63/100\n",
      "42000/42000 [==============================] - 7s 178us/step - loss: 1.1362 - acc: 0.7015 - val_loss: 1.1377 - val_acc: 0.6925\n",
      "Epoch 64/100\n",
      "42000/42000 [==============================] - 7s 178us/step - loss: 1.1232 - acc: 0.7036 - val_loss: 1.1247 - val_acc: 0.6980\n",
      "Epoch 65/100\n",
      "42000/42000 [==============================] - 7s 168us/step - loss: 1.1096 - acc: 0.7084 - val_loss: 1.1106 - val_acc: 0.7041\n",
      "Epoch 66/100\n",
      "42000/42000 [==============================] - 7s 165us/step - loss: 1.0971 - acc: 0.7123 - val_loss: 1.0983 - val_acc: 0.7120\n",
      "Epoch 67/100\n",
      "42000/42000 [==============================] - 7s 165us/step - loss: 1.0840 - acc: 0.7203 - val_loss: 1.0867 - val_acc: 0.7236\n",
      "Epoch 68/100\n",
      "42000/42000 [==============================] - 7s 165us/step - loss: 1.0717 - acc: 0.7305 - val_loss: 1.0755 - val_acc: 0.7269\n",
      "Epoch 69/100\n",
      "42000/42000 [==============================] - 7s 165us/step - loss: 1.0593 - acc: 0.7350 - val_loss: 1.0635 - val_acc: 0.7249\n",
      "Epoch 70/100\n",
      "42000/42000 [==============================] - 7s 165us/step - loss: 1.0480 - acc: 0.7397 - val_loss: 1.0502 - val_acc: 0.7367\n",
      "Epoch 71/100\n",
      "42000/42000 [==============================] - 7s 165us/step - loss: 1.0361 - acc: 0.7454 - val_loss: 1.0390 - val_acc: 0.7339\n",
      "Epoch 72/100\n",
      "42000/42000 [==============================] - 7s 167us/step - loss: 1.0225 - acc: 0.7472 - val_loss: 1.0256 - val_acc: 0.7485\n",
      "Epoch 73/100\n",
      "42000/42000 [==============================] - 7s 165us/step - loss: 1.0106 - acc: 0.7528 - val_loss: 1.0156 - val_acc: 0.7529\n",
      "Epoch 74/100\n",
      "42000/42000 [==============================] - 7s 168us/step - loss: 0.9990 - acc: 0.7605 - val_loss: 1.0055 - val_acc: 0.7524\n",
      "Epoch 75/100\n",
      "42000/42000 [==============================] - 8s 200us/step - loss: 0.9874 - acc: 0.7640 - val_loss: 0.9911 - val_acc: 0.7599\n",
      "Epoch 76/100\n",
      "42000/42000 [==============================] - 9s 217us/step - loss: 0.9749 - acc: 0.7700 - val_loss: 0.9808 - val_acc: 0.7625\n",
      "Epoch 77/100\n",
      "42000/42000 [==============================] - 8s 188us/step - loss: 0.9632 - acc: 0.7740 - val_loss: 0.9690 - val_acc: 0.7668\n",
      "Epoch 78/100\n",
      "42000/42000 [==============================] - 9s 211us/step - loss: 0.9515 - acc: 0.7804 - val_loss: 0.9560 - val_acc: 0.7745\n",
      "Epoch 79/100\n",
      "42000/42000 [==============================] - 13s 318us/step - loss: 0.9391 - acc: 0.7850 - val_loss: 0.9444 - val_acc: 0.7793- loss: 0.9368 - acc: - ETA: 4s - loss: 0.9388 - acc: - ETA: 3s  - ETA: 1s - loss: 0.938 - ETA: 0s - loss: 0.9381 - acc: 0.78 - ETA: 0s - loss: 0.9380 -\n",
      "Epoch 80/100\n",
      "42000/42000 [==============================] - 11s 261us/step - loss: 0.9277 - acc: 0.7857 - val_loss: 0.9342 - val_acc: 0.78294 - ETA: 1s - loss: 0.9300 - acc: - ETA: 1s - loss: 0.9281\n",
      "Epoch 81/100\n",
      "42000/42000 [==============================] - 12s 295us/step - loss: 0.9144 - acc: 0.7952 - val_loss: 0.9237 - val_acc: 0.7826\n",
      "Epoch 82/100\n",
      "42000/42000 [==============================] - 11s 273us/step - loss: 0.9030 - acc: 0.7967 - val_loss: 0.9109 - val_acc: 0.7866\n",
      "Epoch 83/100\n",
      "42000/42000 [==============================] - 9s 217us/step - loss: 0.8908 - acc: 0.7986 - val_loss: 0.8982 - val_acc: 0.7982\n",
      "Epoch 84/100\n",
      "42000/42000 [==============================] - 10s 239us/step - loss: 0.8791 - acc: 0.8038 - val_loss: 0.8873 - val_acc: 0.7979\n",
      "Epoch 85/100\n",
      "42000/42000 [==============================] - 9s 216us/step - loss: 0.8681 - acc: 0.8074 - val_loss: 0.8765 - val_acc: 0.7997\n",
      "Epoch 86/100\n",
      "42000/42000 [==============================] - 9s 212us/step - loss: 0.8565 - acc: 0.8102 - val_loss: 0.8659 - val_acc: 0.8047\n",
      "Epoch 87/100\n",
      "42000/42000 [==============================] - 9s 208us/step - loss: 0.8440 - acc: 0.8157 - val_loss: 0.8565 - val_acc: 0.8042\n",
      "Epoch 88/100\n",
      "42000/42000 [==============================] - 9s 205us/step - loss: 0.8328 - acc: 0.8196 - val_loss: 0.8430 - val_acc: 0.8096\n",
      "Epoch 89/100\n",
      "42000/42000 [==============================] - 9s 212us/step - loss: 0.8207 - acc: 0.8233 - val_loss: 0.8324 - val_acc: 0.8127\n",
      "Epoch 90/100\n",
      "42000/42000 [==============================] - 11s 254us/step - loss: 0.8101 - acc: 0.8254 - val_loss: 0.8228 - val_acc: 0.8183\n",
      "Epoch 91/100\n",
      "42000/42000 [==============================] - 10s 244us/step - loss: 0.8008 - acc: 0.8283 - val_loss: 0.8122 - val_acc: 0.8182\n",
      "Epoch 92/100\n",
      "42000/42000 [==============================] - 9s 222us/step - loss: 0.7883 - acc: 0.8317 - val_loss: 0.8016 - val_acc: 0.8244\n",
      "Epoch 93/100\n",
      "42000/42000 [==============================] - 9s 208us/step - loss: 0.7782 - acc: 0.8327 - val_loss: 0.7922 - val_acc: 0.8260\n",
      "Epoch 94/100\n",
      "42000/42000 [==============================] - 9s 208us/step - loss: 0.7678 - acc: 0.8354 - val_loss: 0.7871 - val_acc: 0.8265\n",
      "Epoch 95/100\n",
      "42000/42000 [==============================] - 9s 206us/step - loss: 0.7590 - acc: 0.8391 - val_loss: 0.7731 - val_acc: 0.8299\n",
      "Epoch 96/100\n",
      "42000/42000 [==============================] - 9s 210us/step - loss: 0.7474 - acc: 0.8437 - val_loss: 0.7639 - val_acc: 0.8348\n",
      "Epoch 97/100\n",
      "42000/42000 [==============================] - 9s 213us/step - loss: 0.7373 - acc: 0.8455 - val_loss: 0.7547 - val_acc: 0.8387\n",
      "Epoch 98/100\n",
      "42000/42000 [==============================] - 9s 223us/step - loss: 0.7294 - acc: 0.8453 - val_loss: 0.7447 - val_acc: 0.8364oss: 0\n",
      "Epoch 99/100\n",
      "42000/42000 [==============================] - 9s 206us/step - loss: 0.7184 - acc: 0.8509 - val_loss: 0.7343 - val_acc: 0.8391\n",
      "Epoch 100/100\n",
      "42000/42000 [==============================] - 9s 207us/step - loss: 0.7091 - acc: 0.8525 - val_loss: 0.7239 - val_acc: 0.8427\n"
     ]
    }
   ],
   "source": [
    "history = model.fit(x_train, y_train, validation_split=0.3, epochs = 100, verbose = 1)"
   ]
  },
  {
   "cell_type": "code",
   "execution_count": 23,
   "metadata": {},
   "outputs": [
    {
     "data": {
      "image/png": "[encoded data removed]",
      "text/plain": [
       "<Figure size 432x288 with 1 Axes>"
      ]
     },
     "metadata": {
      "needs_background": "light"
     },
     "output_type": "display_data"
    }
   ],
   "source": [
    "plt.plot(history.history['acc'])\n",
    "plt.plot(history.history['val_acc'])\n",
    "plt.legend(['training', 'validation'], loc = 'upper left')\n",
    "plt.show()"
   ]
  },
  {
   "cell_type": "code",
   "execution_count": 26,
   "metadata": {},
   "outputs": [
    {
     "name": "stdout",
     "output_type": "stream",
     "text": [
      "10000/10000 [==============================] - 1s 65us/step\n",
      "test_accuracy: 84.83000000000001 %\n"
     ]
    }
   ],
   "source": [
    "results = model.evaluate(x_test, y_test)\n",
    "print('test_accuracy:', results[1]*100, '%')"
   ]
  },
  {
   "cell_type": "markdown",
   "metadata": {},
   "source": [
    "# Optimizing by experimenting with Activation function"
   ]
  },
  {
   "cell_type": "code",
   "execution_count": 39,
   "metadata": {},
   "outputs": [],
   "source": [
    "def mlp_model():\n",
    "    model = Sequential()\n",
    "    model.add(Dense(50, input_shape=(784, ), activation = 'relu'))\n",
    "    model.add(Dense(50, activation = 'relu'))\n",
    "    model.add(Dense(50, activation = 'relu'))\n",
    "    model.add(Dense(50, activation = 'relu'))\n",
    "    model.add(Dense(10, activation = 'softmax'))\n",
    "    sgd = optimizers.SGD(lr=0.001)\n",
    "    model.compile(metrics = ['acc'], optimizer = sgd, loss = 'categorical_crossentropy')\n",
    "    return model"
   ]
  },
  {
   "cell_type": "code",
   "execution_count": 41,
   "metadata": {},
   "outputs": [
    {
     "name": "stdout",
     "output_type": "stream",
     "text": [
      "_________________________________________________________________\n",
      "Layer (type)                 Output Shape              Param #   \n",
      "=================================================================\n",
      "dense_26 (Dense)             (None, 50)                39250     \n",
      "_________________________________________________________________\n",
      "dense_27 (Dense)             (None, 50)                2550      \n",
      "_________________________________________________________________\n",
      "dense_28 (Dense)             (None, 50)                2550      \n",
      "_________________________________________________________________\n",
      "dense_29 (Dense)             (None, 50)                2550      \n",
      "_________________________________________________________________\n",
      "dense_30 (Dense)             (None, 10)                510       \n",
      "=================================================================\n",
      "Total params: 47,410\n",
      "Trainable params: 47,410\n",
      "Non-trainable params: 0\n",
      "_________________________________________________________________\n",
      "None\n"
     ]
    }
   ],
   "source": [
    "model = mlp_model()\n",
    "print(model.summary())"
   ]
  },
  {
   "cell_type": "code",
   "execution_count": 42,
   "metadata": {},
   "outputs": [],
   "source": [
    "history = model.fit(x_train, y_train, epochs = 100, verbose=0, validation_split = 0.3)"
   ]
  },
  {
   "cell_type": "code",
   "execution_count": 43,
   "metadata": {},
   "outputs": [
    {
     "data": {
      "image/png": "[encoded data removed]",
      "text/plain": [
       "<Figure size 432x288 with 1 Axes>"
      ]
     },
     "metadata": {
      "needs_background": "light"
     },
     "output_type": "display_data"
    },
    {
     "name": "stdout",
     "output_type": "stream",
     "text": [
      "0.9992142857142857\n"
     ]
    }
   ],
   "source": [
    "plt.plot(history.history['acc'])\n",
    "plt.plot(history.history['val_acc'])\n",
    "plt.legend(['training', 'validation'], loc = 'upper left')\n",
    "plt.show()\n",
    "print(history.history['acc'][99])"
   ]
  },
  {
   "cell_type": "code",
   "execution_count": 45,
   "metadata": {},
   "outputs": [
    {
     "name": "stdout",
     "output_type": "stream",
     "text": [
      "10000/10000 [==============================] - 1s 99us/step\n",
      "Test accuracy: 0.9535\n"
     ]
    }
   ],
   "source": [
    "results = model.evaluate(x_test, y_test)\n",
    "print(\"Test accuracy:\", results[1])"
   ]
  },
  {
   "cell_type": "markdown",
   "metadata": {},
   "source": [
    "Some theory about batch normalization:\n",
    "   1) We need normalization on input data so as to prevent shifting of parameters and preferring data which is more in value\n",
    "For Ex:- if we have dataset with age ranging from 0 to 100 and some other feature having values in the range of 100 to 100000 then the nn will go through exploding gradient descent and answer will become more dependent on the values having greater values. As a result, getting a good result from such nn will take more time. So, to solve this problem normalization is used.\n",
    "   2) So since this works on input layer, we can do the same for hidden layers also. Sometimes, weights were some neuron in output layer may become high and this will result in higher values in some nearons and smaller values in other neurons. So in batch normalization we normalize the values obtained from activation function and obtain two parameters.\n",
    "   3) z = (x-m)/s -> normalization of activated values\n",
    "      Multiply normalized value with arbitrary variable and add the result to another arbitrary variable\n",
    "      z*g + b\n",
    "      these two parameters are learned while training on a dataset so as to reduce internal covariance shift. This result to less minimas and thus speed up the learning process."
   ]
  },
  {
   "cell_type": "markdown",
   "metadata": {},
   "source": [
    "# Using Optimizer\n"
   ]
  },
  {
   "cell_type": "code",
   "execution_count": 54,
   "metadata": {},
   "outputs": [],
   "source": [
    "def mlp_model():\n",
    "    model = Sequential()\n",
    "    model.add(Dense(50, input_shape=(784, ), activation = 'relu'))\n",
    "    model.add(Dense(50, activation = 'relu'))\n",
    "    model.add(Dense(50, activation = 'relu'))\n",
    "    model.add(Dense(50, activation = 'relu'))\n",
    "    model.add(Dense(10, activation = 'softmax'))\n",
    "    adam = optimizers.Adam(lr=0.001)\n",
    "    model.compile(metrics = ['acc'], optimizer = adam, loss = 'categorical_crossentropy')\n",
    "    return model"
   ]
  },
  {
   "cell_type": "code",
   "execution_count": 55,
   "metadata": {},
   "outputs": [
    {
     "name": "stdout",
     "output_type": "stream",
     "text": [
      "Train on 42000 samples, validate on 18000 samples\n",
      "Epoch 1/100\n",
      " - 13s - loss: 3.4757 - acc: 0.7185 - val_loss: 0.4228 - val_acc: 0.8892\n",
      "Epoch 2/100\n",
      " - 11s - loss: 0.3277 - acc: 0.9109 - val_loss: 0.2976 - val_acc: 0.9150\n",
      "Epoch 3/100\n",
      " - 11s - loss: 0.2397 - acc: 0.9327 - val_loss: 0.2449 - val_acc: 0.9340\n",
      "Epoch 4/100\n",
      " - 10s - loss: 0.2020 - acc: 0.9435 - val_loss: 0.2187 - val_acc: 0.9399\n",
      "Epoch 5/100\n",
      " - 10s - loss: 0.1759 - acc: 0.9497 - val_loss: 0.1975 - val_acc: 0.9466\n",
      "Epoch 6/100\n",
      " - 10s - loss: 0.1595 - acc: 0.9552 - val_loss: 0.2036 - val_acc: 0.9458\n",
      "Epoch 7/100\n",
      " - 10s - loss: 0.1384 - acc: 0.9601 - val_loss: 0.1712 - val_acc: 0.9538\n",
      "Epoch 8/100\n",
      " - 11s - loss: 0.1262 - acc: 0.9639 - val_loss: 0.2091 - val_acc: 0.9432\n",
      "Epoch 9/100\n",
      " - 10s - loss: 0.1124 - acc: 0.9683 - val_loss: 0.1646 - val_acc: 0.9569\n",
      "Epoch 10/100\n",
      " - 9s - loss: 0.1105 - acc: 0.9684 - val_loss: 0.1647 - val_acc: 0.9561\n",
      "Epoch 11/100\n",
      " - 9s - loss: 0.0949 - acc: 0.9734 - val_loss: 0.1717 - val_acc: 0.9584\n",
      "Epoch 12/100\n",
      " - 10s - loss: 0.0915 - acc: 0.9743 - val_loss: 0.1653 - val_acc: 0.9600\n",
      "Epoch 13/100\n",
      " - 12s - loss: 0.0864 - acc: 0.9748 - val_loss: 0.1658 - val_acc: 0.9603\n",
      "Epoch 14/100\n",
      " - 10s - loss: 0.0777 - acc: 0.9776 - val_loss: 0.1791 - val_acc: 0.9578\n",
      "Epoch 15/100\n",
      " - 11s - loss: 0.0755 - acc: 0.9787 - val_loss: 0.1708 - val_acc: 0.9603\n",
      "Epoch 16/100\n",
      " - 12s - loss: 0.0691 - acc: 0.9804 - val_loss: 0.1583 - val_acc: 0.9632\n",
      "Epoch 17/100\n",
      " - 12s - loss: 0.0723 - acc: 0.9808 - val_loss: 0.1730 - val_acc: 0.9593\n",
      "Epoch 18/100\n",
      " - 14s - loss: 0.0653 - acc: 0.9821 - val_loss: 0.1761 - val_acc: 0.9600\n",
      "Epoch 19/100\n",
      " - 12s - loss: 0.0611 - acc: 0.9829 - val_loss: 0.1722 - val_acc: 0.9624\n",
      "Epoch 20/100\n",
      " - 9s - loss: 0.0572 - acc: 0.9841 - val_loss: 0.1847 - val_acc: 0.9608\n",
      "Epoch 21/100\n",
      " - 9s - loss: 0.0574 - acc: 0.9841 - val_loss: 0.1940 - val_acc: 0.9582\n",
      "Epoch 22/100\n",
      " - 9s - loss: 0.0519 - acc: 0.9858 - val_loss: 0.1968 - val_acc: 0.9597\n",
      "Epoch 23/100\n",
      " - 9s - loss: 0.0537 - acc: 0.9853 - val_loss: 0.1738 - val_acc: 0.9650\n",
      "Epoch 24/100\n",
      " - 9s - loss: 0.0523 - acc: 0.9859 - val_loss: 0.2100 - val_acc: 0.9595\n",
      "Epoch 25/100\n",
      " - 9s - loss: 0.0514 - acc: 0.9856 - val_loss: 0.1896 - val_acc: 0.9609\n",
      "Epoch 26/100\n",
      " - 9s - loss: 0.0460 - acc: 0.9877 - val_loss: 0.1818 - val_acc: 0.9653\n",
      "Epoch 27/100\n",
      " - 9s - loss: 0.0471 - acc: 0.9870 - val_loss: 0.1749 - val_acc: 0.9658\n",
      "Epoch 28/100\n",
      " - 9s - loss: 0.0463 - acc: 0.9875 - val_loss: 0.2016 - val_acc: 0.9637\n",
      "Epoch 29/100\n",
      " - 9s - loss: 0.0492 - acc: 0.9873 - val_loss: 0.1794 - val_acc: 0.9636\n",
      "Epoch 30/100\n",
      " - 9s - loss: 0.0441 - acc: 0.9880 - val_loss: 0.1758 - val_acc: 0.9632\n",
      "Epoch 31/100\n",
      " - 9s - loss: 0.0382 - acc: 0.9901 - val_loss: 0.2043 - val_acc: 0.9612\n",
      "Epoch 32/100\n",
      " - 10s - loss: 0.0412 - acc: 0.9886 - val_loss: 0.1981 - val_acc: 0.9629\n",
      "Epoch 33/100\n",
      " - 12s - loss: 0.0374 - acc: 0.9896 - val_loss: 0.2005 - val_acc: 0.9628\n",
      "Epoch 34/100\n",
      " - 11s - loss: 0.0397 - acc: 0.9897 - val_loss: 0.2078 - val_acc: 0.9638\n",
      "Epoch 35/100\n",
      " - 10s - loss: 0.0412 - acc: 0.9895 - val_loss: 0.2263 - val_acc: 0.9612\n",
      "Epoch 36/100\n",
      " - 10s - loss: 0.0423 - acc: 0.9895 - val_loss: 0.2189 - val_acc: 0.9615\n",
      "Epoch 37/100\n",
      " - 10s - loss: 0.0372 - acc: 0.9901 - val_loss: 0.2312 - val_acc: 0.9631\n",
      "Epoch 38/100\n",
      " - 12s - loss: 0.0427 - acc: 0.9890 - val_loss: 0.2165 - val_acc: 0.9647\n",
      "Epoch 39/100\n",
      " - 10s - loss: 0.0325 - acc: 0.9914 - val_loss: 0.2322 - val_acc: 0.9617\n",
      "Epoch 40/100\n",
      " - 10s - loss: 0.0363 - acc: 0.9910 - val_loss: 0.2522 - val_acc: 0.9594\n",
      "Epoch 41/100\n",
      " - 10s - loss: 0.0447 - acc: 0.9895 - val_loss: 0.2086 - val_acc: 0.9651\n",
      "Epoch 42/100\n",
      " - 10s - loss: 0.0331 - acc: 0.9915 - val_loss: 0.2227 - val_acc: 0.9622\n",
      "Epoch 43/100\n",
      " - 10s - loss: 0.0375 - acc: 0.9905 - val_loss: 0.2216 - val_acc: 0.9643\n",
      "Epoch 44/100\n",
      " - 9s - loss: 0.0322 - acc: 0.9914 - val_loss: 0.2478 - val_acc: 0.9630\n",
      "Epoch 45/100\n",
      " - 9s - loss: 0.0353 - acc: 0.9909 - val_loss: 0.2084 - val_acc: 0.9617\n",
      "Epoch 46/100\n",
      " - 11s - loss: 0.0339 - acc: 0.9910 - val_loss: 0.2213 - val_acc: 0.9661\n",
      "Epoch 47/100\n",
      " - 9s - loss: 0.0283 - acc: 0.9928 - val_loss: 0.2741 - val_acc: 0.9599\n",
      "Epoch 48/100\n",
      " - 9s - loss: 0.0360 - acc: 0.9911 - val_loss: 0.2244 - val_acc: 0.9660\n",
      "Epoch 49/100\n",
      " - 9s - loss: 0.0268 - acc: 0.9930 - val_loss: 0.2104 - val_acc: 0.9652\n",
      "Epoch 50/100\n",
      " - 9s - loss: 0.0396 - acc: 0.9902 - val_loss: 0.2358 - val_acc: 0.9640\n",
      "Epoch 51/100\n",
      " - 9s - loss: 0.0314 - acc: 0.9918 - val_loss: 0.2305 - val_acc: 0.9663\n",
      "Epoch 52/100\n",
      " - 10s - loss: 0.0254 - acc: 0.9939 - val_loss: 0.2096 - val_acc: 0.9674\n",
      "Epoch 53/100\n",
      " - 9s - loss: 0.0273 - acc: 0.9931 - val_loss: 0.2526 - val_acc: 0.9624\n",
      "Epoch 54/100\n",
      " - 9s - loss: 0.0349 - acc: 0.9918 - val_loss: 0.2323 - val_acc: 0.9633\n",
      "Epoch 55/100\n",
      " - 9s - loss: 0.0304 - acc: 0.9923 - val_loss: 0.2413 - val_acc: 0.9618\n",
      "Epoch 56/100\n",
      " - 9s - loss: 0.0331 - acc: 0.9918 - val_loss: 0.2415 - val_acc: 0.9617\n",
      "Epoch 57/100\n",
      " - 9s - loss: 0.0359 - acc: 0.9915 - val_loss: 0.2201 - val_acc: 0.9660\n",
      "Epoch 58/100\n",
      " - 9s - loss: 0.0284 - acc: 0.9927 - val_loss: 0.2203 - val_acc: 0.9658\n",
      "Epoch 59/100\n",
      " - 9s - loss: 0.0261 - acc: 0.9940 - val_loss: 0.2683 - val_acc: 0.9636\n",
      "Epoch 60/100\n",
      " - 9s - loss: 0.0292 - acc: 0.9930 - val_loss: 0.2343 - val_acc: 0.9656\n",
      "Epoch 61/100\n",
      " - 9s - loss: 0.0295 - acc: 0.9931 - val_loss: 0.2397 - val_acc: 0.9662\n",
      "Epoch 62/100\n",
      " - 9s - loss: 0.0251 - acc: 0.9943 - val_loss: 0.2567 - val_acc: 0.9646\n",
      "Epoch 63/100\n",
      " - 9s - loss: 0.0301 - acc: 0.9927 - val_loss: 0.2637 - val_acc: 0.9637\n",
      "Epoch 64/100\n",
      " - 9s - loss: 0.0367 - acc: 0.9917 - val_loss: 0.2705 - val_acc: 0.9626\n",
      "Epoch 65/100\n",
      " - 9s - loss: 0.0336 - acc: 0.9925 - val_loss: 0.2355 - val_acc: 0.9638\n",
      "Epoch 66/100\n",
      " - 9s - loss: 0.0258 - acc: 0.9937 - val_loss: 0.2620 - val_acc: 0.9611\n",
      "Epoch 67/100\n",
      " - 9s - loss: 0.0276 - acc: 0.9938 - val_loss: 0.2728 - val_acc: 0.9618\n",
      "Epoch 68/100\n",
      " - 9s - loss: 0.0241 - acc: 0.9948 - val_loss: 0.2853 - val_acc: 0.9612\n",
      "Epoch 69/100\n",
      " - 9s - loss: 0.0383 - acc: 0.9918 - val_loss: 0.2741 - val_acc: 0.9621\n",
      "Epoch 70/100\n",
      " - 9s - loss: 0.0244 - acc: 0.9946 - val_loss: 0.2633 - val_acc: 0.9661\n",
      "Epoch 71/100\n",
      " - 9s - loss: 0.0310 - acc: 0.9930 - val_loss: 0.2762 - val_acc: 0.9620\n",
      "Epoch 72/100\n",
      " - 9s - loss: 0.0271 - acc: 0.9939 - val_loss: 0.2339 - val_acc: 0.9652\n",
      "Epoch 73/100\n",
      " - 9s - loss: 0.0257 - acc: 0.9946 - val_loss: 0.2388 - val_acc: 0.9654\n",
      "Epoch 74/100\n",
      " - 9s - loss: 0.0327 - acc: 0.9926 - val_loss: 0.2668 - val_acc: 0.9647\n",
      "Epoch 75/100\n",
      " - 9s - loss: 0.0278 - acc: 0.9936 - val_loss: 0.2606 - val_acc: 0.9667\n",
      "Epoch 76/100\n",
      " - 9s - loss: 0.0225 - acc: 0.9946 - val_loss: 0.2723 - val_acc: 0.9676\n",
      "Epoch 77/100\n",
      " - 9s - loss: 0.0262 - acc: 0.9940 - val_loss: 0.2464 - val_acc: 0.9654\n",
      "Epoch 78/100\n",
      " - 9s - loss: 0.0259 - acc: 0.9941 - val_loss: 0.2662 - val_acc: 0.9641\n",
      "Epoch 79/100\n",
      " - 11s - loss: 0.0302 - acc: 0.9931 - val_loss: 0.2772 - val_acc: 0.9617\n",
      "Epoch 80/100\n",
      " - 10s - loss: 0.0268 - acc: 0.9940 - val_loss: 0.2461 - val_acc: 0.9653\n",
      "Epoch 81/100\n",
      " - 9s - loss: 0.0251 - acc: 0.9942 - val_loss: 0.2706 - val_acc: 0.9672\n",
      "Epoch 82/100\n",
      " - 9s - loss: 0.0241 - acc: 0.9947 - val_loss: 0.2693 - val_acc: 0.9647\n",
      "Epoch 83/100\n",
      " - 9s - loss: 0.0274 - acc: 0.9944 - val_loss: 0.2446 - val_acc: 0.9656\n",
      "Epoch 84/100\n",
      " - 9s - loss: 0.0267 - acc: 0.9948 - val_loss: 0.2530 - val_acc: 0.9670\n",
      "Epoch 85/100\n",
      " - 9s - loss: 0.0226 - acc: 0.9950 - val_loss: 0.2650 - val_acc: 0.9652\n",
      "Epoch 86/100\n",
      " - 9s - loss: 0.0311 - acc: 0.9940 - val_loss: 0.2820 - val_acc: 0.9626\n",
      "Epoch 87/100\n",
      " - 9s - loss: 0.0316 - acc: 0.9938 - val_loss: 0.2866 - val_acc: 0.9608\n",
      "Epoch 88/100\n",
      " - 9s - loss: 0.0306 - acc: 0.9932 - val_loss: 0.2888 - val_acc: 0.9667\n",
      "Epoch 89/100\n",
      " - 9s - loss: 0.0241 - acc: 0.9951 - val_loss: 0.2972 - val_acc: 0.9643\n",
      "Epoch 90/100\n",
      " - 9s - loss: 0.0283 - acc: 0.9947 - val_loss: 0.2613 - val_acc: 0.9656\n",
      "Epoch 91/100\n",
      " - 9s - loss: 0.0246 - acc: 0.9947 - val_loss: 0.2697 - val_acc: 0.9657\n",
      "Epoch 92/100\n",
      " - 9s - loss: 0.0440 - acc: 0.9913 - val_loss: 0.2602 - val_acc: 0.9660\n",
      "Epoch 93/100\n",
      " - 9s - loss: 0.0214 - acc: 0.9953 - val_loss: 0.2885 - val_acc: 0.9636\n",
      "Epoch 94/100\n",
      " - 9s - loss: 0.0233 - acc: 0.9951 - val_loss: 0.3002 - val_acc: 0.9635\n",
      "Epoch 95/100\n",
      " - 9s - loss: 0.0260 - acc: 0.9946 - val_loss: 0.3009 - val_acc: 0.9639\n",
      "Epoch 96/100\n",
      " - 9s - loss: 0.0200 - acc: 0.9957 - val_loss: 0.2796 - val_acc: 0.9658\n"
     ]
    },
    {
     "name": "stdout",
     "output_type": "stream",
     "text": [
      "Epoch 97/100\n",
      " - 10s - loss: 0.0403 - acc: 0.9929 - val_loss: 0.3232 - val_acc: 0.9624\n",
      "Epoch 98/100\n",
      " - 10s - loss: 0.0288 - acc: 0.9944 - val_loss: 0.2810 - val_acc: 0.9658\n",
      "Epoch 99/100\n",
      " - 9s - loss: 0.0229 - acc: 0.9951 - val_loss: 0.3819 - val_acc: 0.9567\n",
      "Epoch 100/100\n",
      " - 10s - loss: 0.0257 - acc: 0.9944 - val_loss: 0.3098 - val_acc: 0.9645\n"
     ]
    }
   ],
   "source": [
    "model = mlp_model()\n",
    "history = model.fit(x_train, y_train, verbose = 2, epochs = 100, validation_split = 0.3)"
   ]
  },
  {
   "cell_type": "code",
   "execution_count": 56,
   "metadata": {},
   "outputs": [
    {
     "data": {
      "image/png": "[encoded data removed]",
      "text/plain": [
       "<Figure size 432x288 with 1 Axes>"
      ]
     },
     "metadata": {
      "needs_background": "light"
     },
     "output_type": "display_data"
    }
   ],
   "source": [
    "plt.plot(history.history['acc'])\n",
    "plt.plot(history.history['val_acc'])\n",
    "plt.legend(['training', 'validation'], loc = 'upper left')\n",
    "plt.show()"
   ]
  },
  {
   "cell_type": "code",
   "execution_count": 57,
   "metadata": {},
   "outputs": [
    {
     "name": "stdout",
     "output_type": "stream",
     "text": [
      "10000/10000 [==============================] - 1s 69us/step\n",
      "0.968\n"
     ]
    }
   ],
   "source": [
    "results = model.evaluate(x_test, y_test)\n",
    "print(results[1])"
   ]
  },
  {
   "cell_type": "markdown",
   "metadata": {},
   "source": [
    "# Batch Normalization\n"
   ]
  },
  {
   "cell_type": "code",
   "execution_count": 9,
   "metadata": {},
   "outputs": [],
   "source": [
    "from keras.layers import Activation, BatchNormalization"
   ]
  },
  {
   "cell_type": "code",
   "execution_count": 16,
   "metadata": {},
   "outputs": [],
   "source": [
    "def mlp_model():\n",
    "    model = Sequential()\n",
    "    model.add(Dense(50, input_shape = (784, )))\n",
    "    model.add(BatchNormalization())\n",
    "    model.add(Activation('sigmoid'))\n",
    "    model.add(Dense(50))\n",
    "    model.add(BatchNormalization())\n",
    "    model.add(Activation('sigmoid'))\n",
    "    model.add(Dense(50))\n",
    "    model.add(BatchNormalization())\n",
    "    model.add(Activation('sigmoid'))\n",
    "    model.add(Dense(50))\n",
    "    model.add(BatchNormalization())\n",
    "    model.add(Activation('sigmoid'))\n",
    "    model.add(Dense(10))\n",
    "    model.add(BatchNormalization())\n",
    "    model.add(Activation('softmax'))\n",
    "    adam = optimizers.Adam(lr=.001)\n",
    "    model.compile(loss = 'categorical_crossentropy', metrics=['acc'], optimizer=adam)\n",
    "    return model\n"
   ]
  },
  {
   "cell_type": "code",
   "execution_count": 19,
   "metadata": {},
   "outputs": [
    {
     "name": "stdout",
     "output_type": "stream",
     "text": [
      "Train on 42000 samples, validate on 18000 samples\n",
      "Epoch 1/20\n",
      " - 29s - loss: 0.6263 - acc: 0.8583 - val_loss: 0.3503 - val_acc: 0.9246\n",
      "Epoch 2/20\n",
      " - 25s - loss: 0.3632 - acc: 0.9071 - val_loss: 0.2521 - val_acc: 0.9399\n",
      "Epoch 3/20\n",
      " - 27s - loss: 0.2798 - acc: 0.9243 - val_loss: 0.2077 - val_acc: 0.9433\n",
      "Epoch 4/20\n",
      " - 27s - loss: 0.2295 - acc: 0.9383 - val_loss: 0.1727 - val_acc: 0.9550\n",
      "Epoch 5/20\n",
      " - 25s - loss: 0.1964 - acc: 0.9469 - val_loss: 0.1613 - val_acc: 0.9549\n",
      "Epoch 6/20\n",
      " - 25s - loss: 0.1707 - acc: 0.9524 - val_loss: 0.1403 - val_acc: 0.9605\n",
      "Epoch 7/20\n",
      " - 25s - loss: 0.1548 - acc: 0.9568 - val_loss: 0.1307 - val_acc: 0.9625\n",
      "Epoch 8/20\n",
      " - 25s - loss: 0.1377 - acc: 0.9608 - val_loss: 0.1241 - val_acc: 0.9632\n",
      "Epoch 9/20\n",
      " - 25s - loss: 0.1269 - acc: 0.9640 - val_loss: 0.1276 - val_acc: 0.9632\n",
      "Epoch 10/20\n",
      " - 28s - loss: 0.1199 - acc: 0.9661 - val_loss: 0.1174 - val_acc: 0.9653\n",
      "Epoch 11/20\n",
      " - 25s - loss: 0.1098 - acc: 0.9679 - val_loss: 0.1198 - val_acc: 0.9668\n",
      "Epoch 12/20\n",
      " - 25s - loss: 0.1010 - acc: 0.9710 - val_loss: 0.1098 - val_acc: 0.9682\n",
      "Epoch 13/20\n",
      " - 25s - loss: 0.0950 - acc: 0.9726 - val_loss: 0.1579 - val_acc: 0.9533\n",
      "Epoch 14/20\n",
      " - 28s - loss: 0.0919 - acc: 0.9729 - val_loss: 0.0989 - val_acc: 0.9698\n",
      "Epoch 15/20\n",
      " - 26s - loss: 0.0883 - acc: 0.9732 - val_loss: 0.1198 - val_acc: 0.9649\n",
      "Epoch 16/20\n",
      " - 26s - loss: 0.0829 - acc: 0.9755 - val_loss: 0.1010 - val_acc: 0.9703\n",
      "Epoch 17/20\n",
      " - 26s - loss: 0.0772 - acc: 0.9769 - val_loss: 0.1367 - val_acc: 0.9579\n",
      "Epoch 18/20\n",
      " - 26s - loss: 0.0758 - acc: 0.9772 - val_loss: 0.1025 - val_acc: 0.9696\n",
      "Epoch 19/20\n",
      " - 24s - loss: 0.0709 - acc: 0.9794 - val_loss: 0.1142 - val_acc: 0.9654\n",
      "Epoch 20/20\n",
      " - 27s - loss: 0.0684 - acc: 0.9798 - val_loss: 0.1077 - val_acc: 0.9698\n"
     ]
    }
   ],
   "source": [
    "model = mlp_model()\n",
    "history = model.fit(x_train, y_train, epochs = 20, verbose = 2, validation_split = 0.3)"
   ]
  },
  {
   "cell_type": "code",
   "execution_count": 20,
   "metadata": {},
   "outputs": [
    {
     "data": {
      "image/png": "[encoded data removed]",
      "text/plain": [
       "<Figure size 432x288 with 1 Axes>"
      ]
     },
     "metadata": {
      "needs_background": "light"
     },
     "output_type": "display_data"
    }
   ],
   "source": [
    "plt.plot(history.history['acc'])\n",
    "plt.plot(history.history['val_acc'])\n",
    "plt.legend(['training', 'validation'], loc = 'upper left')\n",
    "plt.show()"
   ]
  },
  {
   "cell_type": "code",
   "execution_count": 22,
   "metadata": {},
   "outputs": [
    {
     "name": "stdout",
     "output_type": "stream",
     "text": [
      "10000/10000 [==============================] - 2s 171us/step\n",
      "0.9729\n"
     ]
    }
   ],
   "source": [
    "result = model.evaluate(x_test, y_test)\n",
    "print(result[1])"
   ]
  },
  {
   "cell_type": "markdown",
   "metadata": {},
   "source": [
    "# Dropout (Regularization)"
   ]
  },
  {
   "cell_type": "markdown",
   "metadata": {},
   "source": [
    "Some theory about dropout:-\n",
    "Dropout chooses a set of neurons to be trained during a particular forward and backward prop with probability p of whether a neuron will be selected or not. \n",
    "Why dropout:-\n",
    "A fully connected layer occupies most of the parameters, and hence, neurons develop co-dependency amongst each other during training which curbs the individual power of each neuron leading to over-fitting of training data.\n"
   ]
  },
  {
   "cell_type": "code",
   "execution_count": 23,
   "metadata": {},
   "outputs": [],
   "source": [
    "from keras.layers import Dropout"
   ]
  },
  {
   "cell_type": "code",
   "execution_count": 29,
   "metadata": {},
   "outputs": [],
   "source": [
    "def mlp_model():\n",
    "    model = Sequential()\n",
    "    \n",
    "    model.add(Dense(50, input_shape = (784, )))\n",
    "    model.add(Activation('sigmoid'))    \n",
    "    model.add(Dropout(0.2))                        # Dropout layer after Activation\n",
    "    model.add(Dense(50))\n",
    "    model.add(Activation('sigmoid'))\n",
    "    model.add(Dropout(0.2))                        # Dropout layer after Activation\n",
    "    model.add(Dense(50))\n",
    "    model.add(Activation('sigmoid'))    \n",
    "    model.add(Dropout(0.2))                        # Dropout layer after Activation\n",
    "    model.add(Dense(50))\n",
    "    model.add(Activation('sigmoid'))    \n",
    "    model.add(Dropout(0.2))                         # Dropout layer after Activation\n",
    "    model.add(Dense(10))\n",
    "    model.add(Activation('softmax'))\n",
    "    \n",
    "    adam = optimizers.Adam(lr = 0.001)\n",
    "    model.compile(optimizer = adam, loss = 'categorical_crossentropy', metrics = ['accuracy'])\n",
    "    \n",
    "    return model"
   ]
  },
  {
   "cell_type": "code",
   "execution_count": 31,
   "metadata": {},
   "outputs": [
    {
     "name": "stdout",
     "output_type": "stream",
     "text": [
      "Train on 42000 samples, validate on 18000 samples\n",
      "Epoch 1/20\n",
      " - 16s - loss: 1.5968 - acc: 0.4009 - val_loss: 0.9080 - val_acc: 0.7134\n",
      "Epoch 2/20\n",
      " - 14s - loss: 1.0226 - acc: 0.6441 - val_loss: 0.7393 - val_acc: 0.7715\n",
      "Epoch 3/20\n",
      " - 15s - loss: 0.9112 - acc: 0.6913 - val_loss: 0.6727 - val_acc: 0.7817\n",
      "Epoch 4/20\n",
      " - 15s - loss: 0.8255 - acc: 0.7276 - val_loss: 0.5897 - val_acc: 0.8201\n",
      "Epoch 5/20\n",
      " - 19s - loss: 0.7518 - acc: 0.7589 - val_loss: 0.5416 - val_acc: 0.8376\n",
      "Epoch 6/20\n",
      " - 14s - loss: 0.7094 - acc: 0.7768 - val_loss: 0.4955 - val_acc: 0.8512\n",
      "Epoch 7/20\n",
      " - 16s - loss: 0.6696 - acc: 0.7940 - val_loss: 0.4826 - val_acc: 0.8558\n",
      "Epoch 8/20\n",
      " - 14s - loss: 0.6506 - acc: 0.8014 - val_loss: 0.4279 - val_acc: 0.8788\n",
      "Epoch 9/20\n",
      " - 14s - loss: 0.6177 - acc: 0.8167 - val_loss: 0.4194 - val_acc: 0.8785\n",
      "Epoch 10/20\n",
      " - 14s - loss: 0.5934 - acc: 0.8223 - val_loss: 0.4135 - val_acc: 0.8768\n",
      "Epoch 11/20\n",
      " - 14s - loss: 0.5821 - acc: 0.8269 - val_loss: 0.4043 - val_acc: 0.8812\n",
      "Epoch 12/20\n",
      " - 14s - loss: 0.5710 - acc: 0.8270 - val_loss: 0.3936 - val_acc: 0.8797\n",
      "Epoch 13/20\n",
      " - 14s - loss: 0.5455 - acc: 0.8399 - val_loss: 0.3657 - val_acc: 0.8906\n",
      "Epoch 14/20\n",
      " - 13s - loss: 0.5360 - acc: 0.8405 - val_loss: 0.3868 - val_acc: 0.8829\n",
      "Epoch 15/20\n",
      " - 14s - loss: 0.5426 - acc: 0.8406 - val_loss: 0.3497 - val_acc: 0.8991\n",
      "Epoch 16/20\n",
      " - 14s - loss: 0.5175 - acc: 0.8482 - val_loss: 0.3533 - val_acc: 0.8961\n",
      "Epoch 17/20\n",
      " - 14s - loss: 0.5090 - acc: 0.8500 - val_loss: 0.3512 - val_acc: 0.8958\n",
      "Epoch 18/20\n",
      " - 14s - loss: 0.4873 - acc: 0.8594 - val_loss: 0.3195 - val_acc: 0.9051\n",
      "Epoch 19/20\n",
      " - 14s - loss: 0.4936 - acc: 0.8553 - val_loss: 0.3393 - val_acc: 0.8978\n",
      "Epoch 20/20\n",
      " - 13s - loss: 0.4872 - acc: 0.8578 - val_loss: 0.3271 - val_acc: 0.9004\n"
     ]
    }
   ],
   "source": [
    "model = mlp_model()\n",
    "history = model.fit(x_train, y_train, validation_split = 0.3, epochs = 20, verbose = 2)"
   ]
  },
  {
   "cell_type": "code",
   "execution_count": 32,
   "metadata": {},
   "outputs": [
    {
     "data": {
      "image/png": "[encoded data removed]",
      "text/plain": [
       "<Figure size 432x288 with 1 Axes>"
      ]
     },
     "metadata": {
      "needs_background": "light"
     },
     "output_type": "display_data"
    }
   ],
   "source": [
    "plt.plot(history.history['acc'])\n",
    "plt.plot(history.history['val_acc'])\n",
    "plt.legend(['training', 'validation'], loc = 'upper left')\n",
    "plt.show()"
   ]
  },
  {
   "cell_type": "code",
   "execution_count": 35,
   "metadata": {},
   "outputs": [
    {
     "name": "stdout",
     "output_type": "stream",
     "text": [
      "10000/10000 [==============================] - 1s 132us/step\n"
     ]
    }
   ],
   "source": [
    "result = model.evaluate(x_test, y_test)"
   ]
  },
  {
   "cell_type": "code",
   "execution_count": 36,
   "metadata": {},
   "outputs": [
    {
     "name": "stdout",
     "output_type": "stream",
     "text": [
      "0.9067\n"
     ]
    }
   ],
   "source": [
    "print(result[1])"
   ]
  },
  {
   "cell_type": "markdown",
   "metadata": {},
   "source": [
    "# Model Ensemble\n"
   ]
  },
  {
   "cell_type": "code",
   "execution_count": 37,
   "metadata": {},
   "outputs": [
    {
     "name": "stderr",
     "output_type": "stream",
     "text": [
      "C:\\Users\\gunja\\Anaconda3\\lib\\site-packages\\sklearn\\ensemble\\weight_boosting.py:29: DeprecationWarning: numpy.core.umath_tests is an internal NumPy module and should not be imported. It will be removed in a future NumPy release.\n",
      "  from numpy.core.umath_tests import inner1d\n"
     ]
    }
   ],
   "source": [
    "import numpy as np\n",
    "from keras.wrappers.scikit_learn import KerasClassifier\n",
    "from sklearn.ensemble import VotingClassifier\n",
    "from sklearn.metrics import accuracy_score"
   ]
  },
  {
   "cell_type": "code",
   "execution_count": 40,
   "metadata": {},
   "outputs": [
    {
     "ename": "AxisError",
     "evalue": "axis 1 is out of bounds for array of dimension 1",
     "output_type": "error",
     "traceback": [
      "\u001b[1;31m---------------------------------------------------------------------------\u001b[0m",
      "\u001b[1;31mAxisError\u001b[0m                                 Traceback (most recent call last)",
      "\u001b[1;32m<ipython-input-40-1e3d52a13590>\u001b[0m in \u001b[0;36m<module>\u001b[1;34m\u001b[0m\n\u001b[1;32m----> 1\u001b[1;33m \u001b[0my_train\u001b[0m \u001b[1;33m=\u001b[0m \u001b[0mnp\u001b[0m\u001b[1;33m.\u001b[0m\u001b[0margmax\u001b[0m\u001b[1;33m(\u001b[0m\u001b[0my_train\u001b[0m\u001b[1;33m,\u001b[0m \u001b[0maxis\u001b[0m\u001b[1;33m=\u001b[0m\u001b[1;36m1\u001b[0m\u001b[1;33m)\u001b[0m\u001b[1;33m\u001b[0m\u001b[1;33m\u001b[0m\u001b[0m\n\u001b[0m\u001b[0;32m      2\u001b[0m \u001b[0my_test\u001b[0m \u001b[1;33m=\u001b[0m \u001b[0mnp\u001b[0m\u001b[1;33m.\u001b[0m\u001b[0margmax\u001b[0m\u001b[1;33m(\u001b[0m\u001b[0my_test\u001b[0m\u001b[1;33m,\u001b[0m \u001b[0maxis\u001b[0m \u001b[1;33m=\u001b[0m \u001b[1;36m1\u001b[0m\u001b[1;33m)\u001b[0m\u001b[1;33m\u001b[0m\u001b[1;33m\u001b[0m\u001b[0m\n",
      "\u001b[1;32m~\\Anaconda3\\lib\\site-packages\\numpy\\core\\fromnumeric.py\u001b[0m in \u001b[0;36margmax\u001b[1;34m(a, axis, out)\u001b[0m\n\u001b[0;32m   1101\u001b[0m \u001b[1;33m\u001b[0m\u001b[0m\n\u001b[0;32m   1102\u001b[0m     \"\"\"\n\u001b[1;32m-> 1103\u001b[1;33m     \u001b[1;32mreturn\u001b[0m \u001b[0m_wrapfunc\u001b[0m\u001b[1;33m(\u001b[0m\u001b[0ma\u001b[0m\u001b[1;33m,\u001b[0m \u001b[1;34m'argmax'\u001b[0m\u001b[1;33m,\u001b[0m \u001b[0maxis\u001b[0m\u001b[1;33m=\u001b[0m\u001b[0maxis\u001b[0m\u001b[1;33m,\u001b[0m \u001b[0mout\u001b[0m\u001b[1;33m=\u001b[0m\u001b[0mout\u001b[0m\u001b[1;33m)\u001b[0m\u001b[1;33m\u001b[0m\u001b[1;33m\u001b[0m\u001b[0m\n\u001b[0m\u001b[0;32m   1104\u001b[0m \u001b[1;33m\u001b[0m\u001b[0m\n\u001b[0;32m   1105\u001b[0m \u001b[1;33m\u001b[0m\u001b[0m\n",
      "\u001b[1;32m~\\Anaconda3\\lib\\site-packages\\numpy\\core\\fromnumeric.py\u001b[0m in \u001b[0;36m_wrapfunc\u001b[1;34m(obj, method, *args, **kwds)\u001b[0m\n\u001b[0;32m     54\u001b[0m \u001b[1;32mdef\u001b[0m \u001b[0m_wrapfunc\u001b[0m\u001b[1;33m(\u001b[0m\u001b[0mobj\u001b[0m\u001b[1;33m,\u001b[0m \u001b[0mmethod\u001b[0m\u001b[1;33m,\u001b[0m \u001b[1;33m*\u001b[0m\u001b[0margs\u001b[0m\u001b[1;33m,\u001b[0m \u001b[1;33m**\u001b[0m\u001b[0mkwds\u001b[0m\u001b[1;33m)\u001b[0m\u001b[1;33m:\u001b[0m\u001b[1;33m\u001b[0m\u001b[1;33m\u001b[0m\u001b[0m\n\u001b[0;32m     55\u001b[0m     \u001b[1;32mtry\u001b[0m\u001b[1;33m:\u001b[0m\u001b[1;33m\u001b[0m\u001b[1;33m\u001b[0m\u001b[0m\n\u001b[1;32m---> 56\u001b[1;33m         \u001b[1;32mreturn\u001b[0m \u001b[0mgetattr\u001b[0m\u001b[1;33m(\u001b[0m\u001b[0mobj\u001b[0m\u001b[1;33m,\u001b[0m \u001b[0mmethod\u001b[0m\u001b[1;33m)\u001b[0m\u001b[1;33m(\u001b[0m\u001b[1;33m*\u001b[0m\u001b[0margs\u001b[0m\u001b[1;33m,\u001b[0m \u001b[1;33m**\u001b[0m\u001b[0mkwds\u001b[0m\u001b[1;33m)\u001b[0m\u001b[1;33m\u001b[0m\u001b[1;33m\u001b[0m\u001b[0m\n\u001b[0m\u001b[0;32m     57\u001b[0m \u001b[1;33m\u001b[0m\u001b[0m\n\u001b[0;32m     58\u001b[0m     \u001b[1;31m# An AttributeError occurs if the object does not have\u001b[0m\u001b[1;33m\u001b[0m\u001b[1;33m\u001b[0m\u001b[1;33m\u001b[0m\u001b[0m\n",
      "\u001b[1;31mAxisError\u001b[0m: axis 1 is out of bounds for array of dimension 1"
     ]
    }
   ],
   "source": [
    "y_train = np.argmax(y_train, axis=1)\n",
    "# y_test = np.argmax(y_test, axis = 1)"
   ]
  },
  {
   "cell_type": "code",
   "execution_count": 41,
   "metadata": {},
   "outputs": [
    {
     "name": "stdout",
     "output_type": "stream",
     "text": [
      "[5 0 4 ... 5 6 8]\n"
     ]
    }
   ],
   "source": [
    "print(y_train)"
   ]
  },
  {
   "cell_type": "code",
   "execution_count": 42,
   "metadata": {},
   "outputs": [],
   "source": [
    "y_test = np.argmax(y_test, axis=1)"
   ]
  },
  {
   "cell_type": "code",
   "execution_count": 43,
   "metadata": {},
   "outputs": [],
   "source": [
    "def mlp_model():\n",
    "    model = Sequential()\n",
    "    \n",
    "    model.add(Dense(50, input_shape = (784, )))\n",
    "    model.add(Activation('sigmoid'))    \n",
    "    model.add(Dense(50))\n",
    "    model.add(Activation('sigmoid'))    \n",
    "    model.add(Dense(50))\n",
    "    model.add(Activation('sigmoid'))    \n",
    "    model.add(Dense(50))\n",
    "    model.add(Activation('sigmoid'))    \n",
    "    model.add(Dense(10))\n",
    "    model.add(Activation('softmax'))\n",
    "    \n",
    "    adam = optimizers.Adam(lr = 0.001)\n",
    "    model.compile(optimizer = adam, loss = 'categorical_crossentropy', metrics = ['accuracy'])\n",
    "    \n",
    "    return model"
   ]
  },
  {
   "cell_type": "code",
   "execution_count": 45,
   "metadata": {},
   "outputs": [],
   "source": [
    "model1 = KerasClassifier(build_fn=mlp_model, epochs = 20, verbose = 2, validation_split = 0.3)\n",
    "model2 = KerasClassifier(build_fn=mlp_model, epochs = 20, verbose = 2, validation_split = 0.3)\n",
    "model3 = KerasClassifier(build_fn=mlp_model, epochs = 20, verbose = 2, validation_split = 0.3)"
   ]
  },
  {
   "cell_type": "code",
   "execution_count": 46,
   "metadata": {},
   "outputs": [],
   "source": [
    "ensemble_clf = VotingClassifier(estimators=[('model1', model1), ('model2', model2), ('model3', model3)], voting = 'soft')"
   ]
  },
  {
   "cell_type": "code",
   "execution_count": null,
   "metadata": {},
   "outputs": [
    {
     "name": "stdout",
     "output_type": "stream",
     "text": [
      "Train on 42000 samples, validate on 18000 samples\n",
      "Epoch 1/20\n",
      " - 18s - loss: 1.2781 - acc: 0.5862 - val_loss: 0.8358 - val_acc: 0.7402\n",
      "Epoch 2/20\n",
      " - 13s - loss: 0.6833 - acc: 0.7934 - val_loss: 0.5994 - val_acc: 0.8147\n",
      "Epoch 3/20\n",
      " - 13s - loss: 0.5545 - acc: 0.8333 - val_loss: 0.5017 - val_acc: 0.8487\n",
      "Epoch 4/20\n",
      " - 15s - loss: 0.5055 - acc: 0.8481 - val_loss: 0.4521 - val_acc: 0.8627\n",
      "Epoch 5/20\n",
      " - 16s - loss: 0.4916 - acc: 0.8513 - val_loss: 0.4392 - val_acc: 0.8649\n",
      "Epoch 6/20\n",
      " - 14s - loss: 0.4367 - acc: 0.8693 - val_loss: 0.3855 - val_acc: 0.8830\n",
      "Epoch 7/20\n",
      " - 14s - loss: 0.4296 - acc: 0.8687 - val_loss: 0.4032 - val_acc: 0.8777\n",
      "Epoch 8/20\n",
      " - 15s - loss: 0.4037 - acc: 0.8782 - val_loss: 0.3757 - val_acc: 0.8867\n",
      "Epoch 9/20\n",
      " - 16s - loss: 0.3878 - acc: 0.8811 - val_loss: 0.3987 - val_acc: 0.8737\n",
      "Epoch 10/20\n",
      " - 13s - loss: 0.3776 - acc: 0.8817 - val_loss: 0.3389 - val_acc: 0.8974\n",
      "Epoch 11/20\n",
      " - 14s - loss: 0.3500 - acc: 0.8933 - val_loss: 0.3496 - val_acc: 0.8936\n",
      "Epoch 12/20\n",
      " - 14s - loss: 0.3501 - acc: 0.8923 - val_loss: 0.3548 - val_acc: 0.8908\n",
      "Epoch 13/20\n",
      " - 13s - loss: 0.3251 - acc: 0.9004 - val_loss: 0.3349 - val_acc: 0.8947\n",
      "Epoch 14/20\n",
      " - 16s - loss: 0.3234 - acc: 0.9000 - val_loss: 0.3216 - val_acc: 0.8999\n",
      "Epoch 15/20\n",
      " - 14s - loss: 0.3117 - acc: 0.9061 - val_loss: 0.3149 - val_acc: 0.9051\n",
      "Epoch 16/20\n",
      " - 14s - loss: 0.3097 - acc: 0.9058 - val_loss: 0.3330 - val_acc: 0.9000\n",
      "Epoch 17/20\n",
      " - 14s - loss: 0.3098 - acc: 0.9057 - val_loss: 0.3256 - val_acc: 0.9043\n",
      "Epoch 18/20\n",
      " - 16s - loss: 0.2824 - acc: 0.9154 - val_loss: 0.2755 - val_acc: 0.9147\n",
      "Epoch 19/20\n",
      " - 14s - loss: 0.2744 - acc: 0.9167 - val_loss: 0.3122 - val_acc: 0.9076\n",
      "Epoch 20/20\n",
      " - 13s - loss: 0.2811 - acc: 0.9141 - val_loss: 0.2791 - val_acc: 0.9119\n",
      "Train on 42000 samples, validate on 18000 samples\n",
      "Epoch 1/20\n",
      " - 15s - loss: 1.3176 - acc: 0.5629 - val_loss: 0.7824 - val_acc: 0.7418\n",
      "Epoch 2/20\n",
      " - 13s - loss: 0.6934 - acc: 0.7817 - val_loss: 0.5899 - val_acc: 0.8185\n",
      "Epoch 3/20\n",
      " - 13s - loss: 0.5631 - acc: 0.8290 - val_loss: 0.4779 - val_acc: 0.8643\n",
      "Epoch 4/20\n",
      " - 13s - loss: 0.5346 - acc: 0.8411 - val_loss: 0.4937 - val_acc: 0.8508\n",
      "Epoch 5/20\n",
      " - 13s - loss: 0.4798 - acc: 0.8583 - val_loss: 0.4700 - val_acc: 0.8599\n",
      "Epoch 6/20\n",
      " - 13s - loss: 0.4709 - acc: 0.8580 - val_loss: 0.4278 - val_acc: 0.8725\n",
      "Epoch 7/20\n",
      " - 13s - loss: 0.4543 - acc: 0.8615 - val_loss: 0.4420 - val_acc: 0.8597\n",
      "Epoch 8/20\n",
      " - 13s - loss: 0.4218 - acc: 0.8717 - val_loss: 0.3892 - val_acc: 0.8867\n",
      "Epoch 9/20\n",
      " - 13s - loss: 0.3978 - acc: 0.8811 - val_loss: 0.3977 - val_acc: 0.8816\n",
      "Epoch 10/20\n",
      " - 13s - loss: 0.3826 - acc: 0.8859 - val_loss: 0.3880 - val_acc: 0.8785\n",
      "Epoch 11/20\n",
      " - 13s - loss: 0.3902 - acc: 0.8811 - val_loss: 0.3963 - val_acc: 0.8806\n",
      "Epoch 12/20\n",
      " - 13s - loss: 0.3658 - acc: 0.8899 - val_loss: 0.3564 - val_acc: 0.8914\n",
      "Epoch 13/20\n",
      " - 13s - loss: 0.3292 - acc: 0.9009 - val_loss: 0.3195 - val_acc: 0.9056\n",
      "Epoch 14/20\n",
      " - 13s - loss: 0.3422 - acc: 0.8951 - val_loss: 0.3350 - val_acc: 0.8983\n",
      "Epoch 15/20\n",
      " - 13s - loss: 0.3329 - acc: 0.8995 - val_loss: 0.3229 - val_acc: 0.9019\n",
      "Epoch 16/20\n",
      " - 13s - loss: 0.3227 - acc: 0.9027 - val_loss: 0.3254 - val_acc: 0.9030\n",
      "Epoch 17/20\n",
      " - 13s - loss: 0.3149 - acc: 0.9057 - val_loss: 0.3178 - val_acc: 0.9024\n",
      "Epoch 18/20\n",
      " - 13s - loss: 0.3068 - acc: 0.9076 - val_loss: 0.3030 - val_acc: 0.9081\n",
      "Epoch 19/20\n",
      " - 13s - loss: 0.3101 - acc: 0.9060 - val_loss: 0.3063 - val_acc: 0.9049\n",
      "Epoch 20/20\n",
      " - 13s - loss: 0.3052 - acc: 0.9052 - val_loss: 0.3135 - val_acc: 0.9045\n",
      "Train on 42000 samples, validate on 18000 samples\n",
      "Epoch 1/20\n",
      " - 14s - loss: 1.3709 - acc: 0.5501 - val_loss: 0.8365 - val_acc: 0.7474\n",
      "Epoch 2/20\n",
      " - 13s - loss: 0.7187 - acc: 0.7796 - val_loss: 0.5951 - val_acc: 0.8239\n",
      "Epoch 3/20\n",
      " - 13s - loss: 0.5832 - acc: 0.8243 - val_loss: 0.5524 - val_acc: 0.8239\n",
      "Epoch 4/20\n",
      " - 13s - loss: 0.5378 - acc: 0.8352 - val_loss: 0.4761 - val_acc: 0.8527\n",
      "Epoch 5/20\n",
      " - 13s - loss: 0.4936 - acc: 0.8463 - val_loss: 0.4589 - val_acc: 0.8586\n",
      "Epoch 6/20\n",
      " - 13s - loss: 0.4391 - acc: 0.8652 - val_loss: 0.4176 - val_acc: 0.8704\n",
      "Epoch 7/20\n",
      " - 13s - loss: 0.4174 - acc: 0.8723 - val_loss: 0.3978 - val_acc: 0.8762\n",
      "Epoch 8/20\n",
      " - 13s - loss: 0.3852 - acc: 0.8813 - val_loss: 0.3655 - val_acc: 0.8843\n",
      "Epoch 9/20\n",
      " - 13s - loss: 0.3966 - acc: 0.8775 - val_loss: 0.3795 - val_acc: 0.8837\n",
      "Epoch 10/20\n"
     ]
    }
   ],
   "source": [
    "ensemble_clf.fit(x_train, y_train)"
   ]
  },
  {
   "cell_type": "code",
   "execution_count": null,
   "metadata": {},
   "outputs": [],
   "source": []
  }
 ],
 "metadata": {
  "kernelspec": {
   "display_name": "Python 3",
   "language": "python",
   "name": "python3"
  },
  "language_info": {
   "codemirror_mode": {
    "name": "ipython",
    "version": 3
   },
   "file_extension": ".py",
   "mimetype": "text/x-python",
   "name": "python",
   "nbconvert_exporter": "python",
   "pygments_lexer": "ipython3",
   "version": "3.6.7"
  }
 },
 "nbformat": 4,
 "nbformat_minor": 2
}
